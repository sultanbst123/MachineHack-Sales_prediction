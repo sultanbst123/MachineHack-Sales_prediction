{
  "nbformat": 4,
  "nbformat_minor": 0,
  "metadata": {
    "colab": {
      "name": "Sales_predictions",
      "provenance": [],
      "collapsed_sections": [
        "Na36uey0Ycu8",
        "bwVeCM7UY4vo",
        "jBdPcAJacXbc",
        "tBkmIW5hiI-w",
        "VJ5OY3pUjZB6",
        "tbSW1hmalGh2",
        "-J9FAxOYjWA9",
        "bMNp3cDkp6Wn",
        "J5QJseBAtLt8",
        "G8D5FxZXuixa",
        "HqGhg6Nwvko4",
        "RsCSm54Gw3-2",
        "nkkrAxbZRSXF",
        "6PCzEYRISEQH",
        "4AqHgkc8SeNI",
        "3cI07JL3Sh78",
        "Ohmpa63ARPKU",
        "9gN20XuW0m1-",
        "oMtxuc3LRMSc",
        "fEduA7siTTtA"
      ],
      "mount_file_id": "1oMBI5ABRWZ3NjssI0_yUEblNrz3zvSxL",
      "authorship_tag": "ABX9TyP/hbG1wS0CoBP3tX0hXtPm",
      "include_colab_link": true
    },
    "kernelspec": {
      "display_name": "Python 3",
      "name": "python3"
    },
    "language_info": {
      "name": "python"
    },
    "widgets": {
      "application/vnd.jupyter.widget-state+json": {
        "5aa71c67ed734d99885bd9637082a6da": {
          "model_module": "@jupyter-widgets/controls",
          "model_name": "HBoxModel",
          "model_module_version": "1.5.0",
          "state": {
            "_view_name": "HBoxView",
            "_dom_classes": [],
            "_model_name": "HBoxModel",
            "_view_module": "@jupyter-widgets/controls",
            "_model_module_version": "1.5.0",
            "_view_count": null,
            "_view_module_version": "1.5.0",
            "box_style": "",
            "layout": "IPY_MODEL_dd805d8a4220426998efb1fd719b7a2a",
            "_model_module": "@jupyter-widgets/controls",
            "children": [
              "IPY_MODEL_4975afa1703240c996640f97a722ea9a",
              "IPY_MODEL_604d445473d84b63ab475f5ef842b041",
              "IPY_MODEL_73ac92a197314ff8bc4935f1cd546436"
            ]
          }
        },
        "dd805d8a4220426998efb1fd719b7a2a": {
          "model_module": "@jupyter-widgets/base",
          "model_name": "LayoutModel",
          "model_module_version": "1.2.0",
          "state": {
            "_view_name": "LayoutView",
            "grid_template_rows": null,
            "right": null,
            "justify_content": null,
            "_view_module": "@jupyter-widgets/base",
            "overflow": null,
            "_model_module_version": "1.2.0",
            "_view_count": null,
            "flex_flow": null,
            "width": null,
            "min_width": null,
            "border": null,
            "align_items": null,
            "bottom": null,
            "_model_module": "@jupyter-widgets/base",
            "top": null,
            "grid_column": null,
            "overflow_y": null,
            "overflow_x": null,
            "grid_auto_flow": null,
            "grid_area": null,
            "grid_template_columns": null,
            "flex": null,
            "_model_name": "LayoutModel",
            "justify_items": null,
            "grid_row": null,
            "max_height": null,
            "align_content": null,
            "visibility": null,
            "align_self": null,
            "height": null,
            "min_height": null,
            "padding": null,
            "grid_auto_rows": null,
            "grid_gap": null,
            "max_width": null,
            "order": null,
            "_view_module_version": "1.2.0",
            "grid_template_areas": null,
            "object_position": null,
            "object_fit": null,
            "grid_auto_columns": null,
            "margin": null,
            "display": null,
            "left": null
          }
        },
        "4975afa1703240c996640f97a722ea9a": {
          "model_module": "@jupyter-widgets/controls",
          "model_name": "HTMLModel",
          "model_module_version": "1.5.0",
          "state": {
            "_view_name": "HTMLView",
            "style": "IPY_MODEL_0a10a4599417456c9aed0dcb6ca029e2",
            "_dom_classes": [],
            "description": "",
            "_model_name": "HTMLModel",
            "placeholder": "​",
            "_view_module": "@jupyter-widgets/controls",
            "_model_module_version": "1.5.0",
            "value": "100%",
            "_view_count": null,
            "_view_module_version": "1.5.0",
            "description_tooltip": null,
            "_model_module": "@jupyter-widgets/controls",
            "layout": "IPY_MODEL_80d1b5e679f34ee4a6c6880ccfcb3c05"
          }
        },
        "604d445473d84b63ab475f5ef842b041": {
          "model_module": "@jupyter-widgets/controls",
          "model_name": "FloatProgressModel",
          "model_module_version": "1.5.0",
          "state": {
            "_view_name": "ProgressView",
            "style": "IPY_MODEL_e29c825522b0486abe40aaacb28562e5",
            "_dom_classes": [],
            "description": "",
            "_model_name": "FloatProgressModel",
            "bar_style": "success",
            "max": 10,
            "_view_module": "@jupyter-widgets/controls",
            "_model_module_version": "1.5.0",
            "value": 10,
            "_view_count": null,
            "_view_module_version": "1.5.0",
            "orientation": "horizontal",
            "min": 0,
            "description_tooltip": null,
            "_model_module": "@jupyter-widgets/controls",
            "layout": "IPY_MODEL_8e9189460c884e2bb72539a732716ed2"
          }
        },
        "73ac92a197314ff8bc4935f1cd546436": {
          "model_module": "@jupyter-widgets/controls",
          "model_name": "HTMLModel",
          "model_module_version": "1.5.0",
          "state": {
            "_view_name": "HTMLView",
            "style": "IPY_MODEL_e173b3c743de4843a56d36fddc3e0a9e",
            "_dom_classes": [],
            "description": "",
            "_model_name": "HTMLModel",
            "placeholder": "​",
            "_view_module": "@jupyter-widgets/controls",
            "_model_module_version": "1.5.0",
            "value": " 10/10 [07:54&lt;00:00, 42.64s/it]",
            "_view_count": null,
            "_view_module_version": "1.5.0",
            "description_tooltip": null,
            "_model_module": "@jupyter-widgets/controls",
            "layout": "IPY_MODEL_d929d746fede41339eaf21507ed3b0c4"
          }
        },
        "0a10a4599417456c9aed0dcb6ca029e2": {
          "model_module": "@jupyter-widgets/controls",
          "model_name": "DescriptionStyleModel",
          "model_module_version": "1.5.0",
          "state": {
            "_view_name": "StyleView",
            "_model_name": "DescriptionStyleModel",
            "description_width": "",
            "_view_module": "@jupyter-widgets/base",
            "_model_module_version": "1.5.0",
            "_view_count": null,
            "_view_module_version": "1.2.0",
            "_model_module": "@jupyter-widgets/controls"
          }
        },
        "80d1b5e679f34ee4a6c6880ccfcb3c05": {
          "model_module": "@jupyter-widgets/base",
          "model_name": "LayoutModel",
          "model_module_version": "1.2.0",
          "state": {
            "_view_name": "LayoutView",
            "grid_template_rows": null,
            "right": null,
            "justify_content": null,
            "_view_module": "@jupyter-widgets/base",
            "overflow": null,
            "_model_module_version": "1.2.0",
            "_view_count": null,
            "flex_flow": null,
            "width": null,
            "min_width": null,
            "border": null,
            "align_items": null,
            "bottom": null,
            "_model_module": "@jupyter-widgets/base",
            "top": null,
            "grid_column": null,
            "overflow_y": null,
            "overflow_x": null,
            "grid_auto_flow": null,
            "grid_area": null,
            "grid_template_columns": null,
            "flex": null,
            "_model_name": "LayoutModel",
            "justify_items": null,
            "grid_row": null,
            "max_height": null,
            "align_content": null,
            "visibility": null,
            "align_self": null,
            "height": null,
            "min_height": null,
            "padding": null,
            "grid_auto_rows": null,
            "grid_gap": null,
            "max_width": null,
            "order": null,
            "_view_module_version": "1.2.0",
            "grid_template_areas": null,
            "object_position": null,
            "object_fit": null,
            "grid_auto_columns": null,
            "margin": null,
            "display": null,
            "left": null
          }
        },
        "e29c825522b0486abe40aaacb28562e5": {
          "model_module": "@jupyter-widgets/controls",
          "model_name": "ProgressStyleModel",
          "model_module_version": "1.5.0",
          "state": {
            "_view_name": "StyleView",
            "_model_name": "ProgressStyleModel",
            "description_width": "",
            "_view_module": "@jupyter-widgets/base",
            "_model_module_version": "1.5.0",
            "_view_count": null,
            "_view_module_version": "1.2.0",
            "bar_color": null,
            "_model_module": "@jupyter-widgets/controls"
          }
        },
        "8e9189460c884e2bb72539a732716ed2": {
          "model_module": "@jupyter-widgets/base",
          "model_name": "LayoutModel",
          "model_module_version": "1.2.0",
          "state": {
            "_view_name": "LayoutView",
            "grid_template_rows": null,
            "right": null,
            "justify_content": null,
            "_view_module": "@jupyter-widgets/base",
            "overflow": null,
            "_model_module_version": "1.2.0",
            "_view_count": null,
            "flex_flow": null,
            "width": null,
            "min_width": null,
            "border": null,
            "align_items": null,
            "bottom": null,
            "_model_module": "@jupyter-widgets/base",
            "top": null,
            "grid_column": null,
            "overflow_y": null,
            "overflow_x": null,
            "grid_auto_flow": null,
            "grid_area": null,
            "grid_template_columns": null,
            "flex": null,
            "_model_name": "LayoutModel",
            "justify_items": null,
            "grid_row": null,
            "max_height": null,
            "align_content": null,
            "visibility": null,
            "align_self": null,
            "height": null,
            "min_height": null,
            "padding": null,
            "grid_auto_rows": null,
            "grid_gap": null,
            "max_width": null,
            "order": null,
            "_view_module_version": "1.2.0",
            "grid_template_areas": null,
            "object_position": null,
            "object_fit": null,
            "grid_auto_columns": null,
            "margin": null,
            "display": null,
            "left": null
          }
        },
        "e173b3c743de4843a56d36fddc3e0a9e": {
          "model_module": "@jupyter-widgets/controls",
          "model_name": "DescriptionStyleModel",
          "model_module_version": "1.5.0",
          "state": {
            "_view_name": "StyleView",
            "_model_name": "DescriptionStyleModel",
            "description_width": "",
            "_view_module": "@jupyter-widgets/base",
            "_model_module_version": "1.5.0",
            "_view_count": null,
            "_view_module_version": "1.2.0",
            "_model_module": "@jupyter-widgets/controls"
          }
        },
        "d929d746fede41339eaf21507ed3b0c4": {
          "model_module": "@jupyter-widgets/base",
          "model_name": "LayoutModel",
          "model_module_version": "1.2.0",
          "state": {
            "_view_name": "LayoutView",
            "grid_template_rows": null,
            "right": null,
            "justify_content": null,
            "_view_module": "@jupyter-widgets/base",
            "overflow": null,
            "_model_module_version": "1.2.0",
            "_view_count": null,
            "flex_flow": null,
            "width": null,
            "min_width": null,
            "border": null,
            "align_items": null,
            "bottom": null,
            "_model_module": "@jupyter-widgets/base",
            "top": null,
            "grid_column": null,
            "overflow_y": null,
            "overflow_x": null,
            "grid_auto_flow": null,
            "grid_area": null,
            "grid_template_columns": null,
            "flex": null,
            "_model_name": "LayoutModel",
            "justify_items": null,
            "grid_row": null,
            "max_height": null,
            "align_content": null,
            "visibility": null,
            "align_self": null,
            "height": null,
            "min_height": null,
            "padding": null,
            "grid_auto_rows": null,
            "grid_gap": null,
            "max_width": null,
            "order": null,
            "_view_module_version": "1.2.0",
            "grid_template_areas": null,
            "object_position": null,
            "object_fit": null,
            "grid_auto_columns": null,
            "margin": null,
            "display": null,
            "left": null
          }
        }
      }
    },
    "accelerator": "GPU"
  },
  "cells": [
    {
      "cell_type": "markdown",
      "metadata": {
        "id": "view-in-github",
        "colab_type": "text"
      },
      "source": [
        "<a href=\"https://colab.research.google.com/github/sultanbst123/Sales-prediction/blob/main/Sales_predictions.ipynb\" target=\"_parent\"><img src=\"https://colab.research.google.com/assets/colab-badge.svg\" alt=\"Open In Colab\"/></a>"
      ]
    },
    {
      "cell_type": "markdown",
      "metadata": {
        "id": "tH7Nco78YXXQ"
      },
      "source": [
        "# Data modelling with Python"
      ]
    },
    {
      "cell_type": "markdown",
      "metadata": {
        "id": "Na36uey0Ycu8"
      },
      "source": [
        "## Library & File"
      ]
    },
    {
      "cell_type": "code",
      "metadata": {
        "id": "h9jDliRjXW2W"
      },
      "source": [
        "\n",
        "!pip install catboost\n",
        "!pip install optuna\n",
        "!pip install borutashap"
      ],
      "execution_count": null,
      "outputs": []
    },
    {
      "cell_type": "code",
      "metadata": {
        "id": "nuYKdl_MYWLw"
      },
      "source": [
        ""
      ],
      "execution_count": null,
      "outputs": []
    },
    {
      "cell_type": "code",
      "metadata": {
        "id": "PqEBh6i7YNUZ"
      },
      "source": [
        "!pip install --upgrade scikit-learn"
      ],
      "execution_count": null,
      "outputs": []
    },
    {
      "cell_type": "code",
      "metadata": {
        "id": "lQjEAXrnYRnA",
        "colab": {
          "base_uri": "https://localhost:8080/"
        },
        "outputId": "e2bcdb20-7b84-41f6-f5eb-9c2358fe8bbc"
      },
      "source": [
        "import pandas as pd\n",
        "import numpy as np\n",
        "import matplotlib.pyplot as plt\n",
        "import seaborn as sns\n",
        "import optuna\n",
        "from BorutaShap import BorutaShap\n",
        " \n",
        "# classification\n",
        "import xgboost, lightgbm, catboost\n",
        "from xgboost import XGBClassifier\n",
        "from catboost import CatBoostClassifier\n",
        "from lightgbm import LGBMClassifier\n",
        "from sklearn.tree import DecisionTreeClassifier, ExtraTreeClassifier\n",
        "from sklearn.ensemble import (RandomForestClassifier, StackingClassifier, GradientBoostingClassifier,\n",
        "                             AdaBoostClassifier, HistGradientBoostingClassifier) \n",
        "from sklearn.svm import SVC\n",
        "from sklearn.linear_model import LogisticRegression, SGDClassifier\n",
        "from sklearn.neighbors import KNeighborsClassifier\n",
        " \n",
        "# regression\n",
        "from xgboost import XGBRegressor\n",
        "from catboost import CatBoostRegressor\n",
        "from lightgbm import LGBMRegressor\n",
        "from sklearn.tree import DecisionTreeRegressor, ExtraTreeRegressor\n",
        "from sklearn.ensemble import (RandomForestRegressor, GradientBoostingRegressor,\n",
        "                             AdaBoostRegressor, HistGradientBoostingRegressor) \n",
        "from sklearn.svm import SVR\n",
        "from sklearn.linear_model import LinearRegression, Ridge, Lasso, ElasticNet, SGDOneClassSVM\n",
        "from sklearn.neighbors import KNeighborsRegressor\n",
        "\n",
        "#preprocessing\n",
        "from sklearn.model_selection import train_test_split, KFold, cross_val_score, StratifiedKFold, GridSearchCV\n",
        "from sklearn.metrics import (accuracy_score, classification_report, confusion_matrix,f1_score, \n",
        "                            log_loss, roc_auc_score, plot_roc_curve,plot_confusion_matrix) \n",
        "from sklearn.metrics import mean_absolute_error, mean_squared_error, mean_squared_log_error, r2_score\n",
        "from sklearn.preprocessing import LabelEncoder,OneHotEncoder, StandardScaler, MinMaxScaler, RobustScaler\n",
        "from sklearn.calibration import CalibrationDisplay\n",
        "\n",
        "\n",
        "import warnings\n",
        "warnings.filterwarnings(\"ignore\")\n",
        " \n",
        "%matplotlib inline"
      ],
      "execution_count": null,
      "outputs": [
        {
          "output_type": "stream",
          "name": "stderr",
          "text": [
            "/usr/local/lib/python3.7/dist-packages/statsmodels/tools/_testing.py:19: FutureWarning:\n",
            "\n",
            "pandas.util.testing is deprecated. Use the functions in the public API at pandas.testing instead.\n",
            "\n"
          ]
        }
      ]
    },
    {
      "cell_type": "code",
      "metadata": {
        "id": "hckyj_S_X8pX"
      },
      "source": [
        "train = pd.read_csv(\"/content/drive/MyDrive/Sales/train_Sales(clean).csv\")\n",
        "test = pd.read_csv(\"/content/drive/MyDrive/Sales/test._Sales(clean).csv\")"
      ],
      "execution_count": null,
      "outputs": []
    },
    {
      "cell_type": "code",
      "metadata": {
        "colab": {
          "base_uri": "https://localhost:8080/"
        },
        "id": "vszrO_JIYi19",
        "outputId": "275143bf-d005-4989-f0a1-defd2b9e1d1d"
      },
      "source": [
        "train.head()"
      ],
      "execution_count": null,
      "outputs": [
        {
          "output_type": "execute_result",
          "data": {
            "text/html": [
              "<div>\n",
              "<style scoped>\n",
              "    .dataframe tbody tr th:only-of-type {\n",
              "        vertical-align: middle;\n",
              "    }\n",
              "\n",
              "    .dataframe tbody tr th {\n",
              "        vertical-align: top;\n",
              "    }\n",
              "\n",
              "    .dataframe thead th {\n",
              "        text-align: right;\n",
              "    }\n",
              "</style>\n",
              "<table border=\"1\" class=\"dataframe\">\n",
              "  <thead>\n",
              "    <tr style=\"text-align: right;\">\n",
              "      <th></th>\n",
              "      <th>Item_Type</th>\n",
              "      <th>Outlet_ID</th>\n",
              "      <th>Outlet_Size</th>\n",
              "      <th>Outlet_Location_Type</th>\n",
              "      <th>Sales</th>\n",
              "      <th>Item</th>\n",
              "      <th>ID</th>\n",
              "      <th>year_bins</th>\n",
              "      <th>new1</th>\n",
              "      <th>new2</th>\n",
              "      <th>new3</th>\n",
              "      <th>new4</th>\n",
              "      <th>new5</th>\n",
              "      <th>new6</th>\n",
              "      <th>new7</th>\n",
              "      <th>new8</th>\n",
              "    </tr>\n",
              "  </thead>\n",
              "  <tbody>\n",
              "    <tr>\n",
              "      <th>0</th>\n",
              "      <td>Baking Goods</td>\n",
              "      <td>OUT046</td>\n",
              "      <td>Small</td>\n",
              "      <td>Tier 2</td>\n",
              "      <td>2689.457781</td>\n",
              "      <td>FDU</td>\n",
              "      <td>32</td>\n",
              "      <td>&gt;2000</td>\n",
              "      <td>15.879006</td>\n",
              "      <td>21.204921</td>\n",
              "      <td>10.179634</td>\n",
              "      <td>16.628159</td>\n",
              "      <td>159.590806</td>\n",
              "      <td>201.117336</td>\n",
              "      <td>107.615406</td>\n",
              "      <td>164.948186</td>\n",
              "    </tr>\n",
              "    <tr>\n",
              "      <th>1</th>\n",
              "      <td>Meat</td>\n",
              "      <td>OUT035</td>\n",
              "      <td>Small</td>\n",
              "      <td>Tier 1</td>\n",
              "      <td>3437.350375</td>\n",
              "      <td>NCT</td>\n",
              "      <td>54</td>\n",
              "      <td>&lt;2000</td>\n",
              "      <td>15.205801</td>\n",
              "      <td>21.102371</td>\n",
              "      <td>10.418947</td>\n",
              "      <td>14.650943</td>\n",
              "      <td>173.073708</td>\n",
              "      <td>211.019489</td>\n",
              "      <td>132.130501</td>\n",
              "      <td>174.572421</td>\n",
              "    </tr>\n",
              "    <tr>\n",
              "      <th>2</th>\n",
              "      <td>Drinks</td>\n",
              "      <td>OUT035</td>\n",
              "      <td>Small</td>\n",
              "      <td>Tier 3</td>\n",
              "      <td>3129.967268</td>\n",
              "      <td>FDW</td>\n",
              "      <td>8</td>\n",
              "      <td>&lt;2000</td>\n",
              "      <td>20.882263</td>\n",
              "      <td>20.882263</td>\n",
              "      <td>20.882263</td>\n",
              "      <td>20.882263</td>\n",
              "      <td>205.465010</td>\n",
              "      <td>205.465010</td>\n",
              "      <td>205.465010</td>\n",
              "      <td>205.465010</td>\n",
              "    </tr>\n",
              "    <tr>\n",
              "      <th>3</th>\n",
              "      <td>Foods</td>\n",
              "      <td>OUT046</td>\n",
              "      <td>Small</td>\n",
              "      <td>Tier 1</td>\n",
              "      <td>1306.514376</td>\n",
              "      <td>FDJ</td>\n",
              "      <td>22</td>\n",
              "      <td>&lt;2000</td>\n",
              "      <td>14.920165</td>\n",
              "      <td>21.050435</td>\n",
              "      <td>9.687333</td>\n",
              "      <td>14.091051</td>\n",
              "      <td>165.606969</td>\n",
              "      <td>253.417583</td>\n",
              "      <td>116.385376</td>\n",
              "      <td>135.846100</td>\n",
              "    </tr>\n",
              "    <tr>\n",
              "      <th>4</th>\n",
              "      <td>Baking Goods</td>\n",
              "      <td>OUT035</td>\n",
              "      <td>Small</td>\n",
              "      <td>Tier 3</td>\n",
              "      <td>1739.769829</td>\n",
              "      <td>FDF</td>\n",
              "      <td>47</td>\n",
              "      <td>&lt;2000</td>\n",
              "      <td>17.005906</td>\n",
              "      <td>21.247876</td>\n",
              "      <td>9.939553</td>\n",
              "      <td>19.830290</td>\n",
              "      <td>175.994620</td>\n",
              "      <td>240.871039</td>\n",
              "      <td>137.806524</td>\n",
              "      <td>149.306296</td>\n",
              "    </tr>\n",
              "  </tbody>\n",
              "</table>\n",
              "</div>"
            ],
            "text/plain": [
              "      Item_Type Outlet_ID Outlet_Size  ...        new6        new7        new8\n",
              "0  Baking Goods    OUT046       Small  ...  201.117336  107.615406  164.948186\n",
              "1          Meat    OUT035       Small  ...  211.019489  132.130501  174.572421\n",
              "2        Drinks    OUT035       Small  ...  205.465010  205.465010  205.465010\n",
              "3         Foods    OUT046       Small  ...  253.417583  116.385376  135.846100\n",
              "4  Baking Goods    OUT035       Small  ...  240.871039  137.806524  149.306296\n",
              "\n",
              "[5 rows x 16 columns]"
            ]
          },
          "metadata": {},
          "execution_count": 5
        }
      ]
    },
    {
      "cell_type": "code",
      "metadata": {
        "colab": {
          "base_uri": "https://localhost:8080/"
        },
        "id": "koatZgZmYzHf",
        "outputId": "21df9907-e737-4a4e-ce47-5a8a951ae64e"
      },
      "source": [
        "train.info()"
      ],
      "execution_count": null,
      "outputs": [
        {
          "output_type": "stream",
          "name": "stdout",
          "text": [
            "<class 'pandas.core.frame.DataFrame'>\n",
            "RangeIndex: 87864 entries, 0 to 87863\n",
            "Data columns (total 16 columns):\n",
            " #   Column                Non-Null Count  Dtype  \n",
            "---  ------                --------------  -----  \n",
            " 0   Item_Type             87864 non-null  object \n",
            " 1   Outlet_ID             87864 non-null  object \n",
            " 2   Outlet_Size           87864 non-null  object \n",
            " 3   Outlet_Location_Type  87864 non-null  object \n",
            " 4   Sales                 87864 non-null  float64\n",
            " 5   Item                  87864 non-null  object \n",
            " 6   ID                    87864 non-null  int64  \n",
            " 7   year_bins             87864 non-null  object \n",
            " 8   new1                  87864 non-null  float64\n",
            " 9   new2                  87864 non-null  float64\n",
            " 10  new3                  87864 non-null  float64\n",
            " 11  new4                  87864 non-null  float64\n",
            " 12  new5                  87864 non-null  float64\n",
            " 13  new6                  87864 non-null  float64\n",
            " 14  new7                  87864 non-null  float64\n",
            " 15  new8                  87864 non-null  float64\n",
            "dtypes: float64(9), int64(1), object(6)\n",
            "memory usage: 10.7+ MB\n"
          ]
        }
      ]
    },
    {
      "cell_type": "code",
      "metadata": {
        "id": "9VBuKku5Y18g"
      },
      "source": [
        ""
      ],
      "execution_count": null,
      "outputs": []
    },
    {
      "cell_type": "markdown",
      "metadata": {
        "id": "bwVeCM7UY4vo"
      },
      "source": [
        "## Split data"
      ]
    },
    {
      "cell_type": "code",
      "metadata": {
        "colab": {
          "base_uri": "https://localhost:8080/",
          "height": 213
        },
        "id": "JwMZKeRxHOai",
        "outputId": "c50e3395-7266-4af0-ef11-cc67702d4053"
      },
      "source": [
        "sns.boxplot(y=train.Sales)"
      ],
      "execution_count": null,
      "outputs": [
        {
          "output_type": "execute_result",
          "data": {
            "text/plain": [
              "<matplotlib.axes._subplots.AxesSubplot at 0x7fbdeaa66750>"
            ]
          },
          "metadata": {},
          "execution_count": 63
        },
        {
          "output_type": "display_data",
          "data": {
            "image/png": "[encoded data removed]",
            "text/plain": [
              "<Figure size 432x288 with 1 Axes>"
            ]
          },
          "metadata": {
            "needs_background": "light"
          }
        }
      ]
    },
    {
      "cell_type": "code",
      "metadata": {
        "colab": {
          "base_uri": "https://localhost:8080/"
        },
        "id": "hrva5mTxH0L2",
        "outputId": "b3ee85cc-c0ca-48ce-8d39-c400bc4b5790"
      },
      "source": [
        "train.shape"
      ],
      "execution_count": null,
      "outputs": [
        {
          "output_type": "execute_result",
          "data": {
            "text/plain": [
              "(84860, 16)"
            ]
          },
          "metadata": {},
          "execution_count": 65
        }
      ]
    },
    {
      "cell_type": "code",
      "metadata": {
        "id": "GFYLE9y3pRpg"
      },
      "source": [
        "# drop outlier values of sales \n",
        "\n",
        "train = train.query(\"Sales > 0 and Sales < 5000\")"
      ],
      "execution_count": null,
      "outputs": []
    },
    {
      "cell_type": "code",
      "metadata": {
        "id": "p-K4xC8YZNHW"
      },
      "source": [
        "x = train.drop(\"Sales\", axis=1) \n",
        "y = train.Sales"
      ],
      "execution_count": null,
      "outputs": []
    },
    {
      "cell_type": "code",
      "metadata": {
        "id": "w3n18x6kZitc"
      },
      "source": [
        "# ubah object ke category\n",
        "\n",
        "cater = x.select_dtypes(\"object\").columns"
      ],
      "execution_count": null,
      "outputs": []
    },
    {
      "cell_type": "code",
      "metadata": {
        "id": "R8ZvomRSZuys"
      },
      "source": [
        "x[cater] = x[cater].astype(\"category\")"
      ],
      "execution_count": null,
      "outputs": []
    },
    {
      "cell_type": "code",
      "metadata": {
        "id": "eEpWS-3UZSFS"
      },
      "source": [
        "x_train, x_val, y_train, y_val = train_test_split(x, y, test_size=0.2,random_state=18)"
      ],
      "execution_count": null,
      "outputs": []
    },
    {
      "cell_type": "code",
      "metadata": {
        "colab": {
          "base_uri": "https://localhost:8080/"
        },
        "id": "SIbM2iWiZgUN",
        "outputId": "61730bc7-9c77-48fa-bad0-534307160baf"
      },
      "source": [
        "#coba dengan lgbm \n",
        "\n",
        "lg = LGBMRegressor(random_state=277)\n",
        "lg.fit(x_train, y_train)"
      ],
      "execution_count": null,
      "outputs": [
        {
          "output_type": "execute_result",
          "data": {
            "text/plain": [
              "LGBMRegressor(random_state=277)"
            ]
          },
          "metadata": {},
          "execution_count": 89
        }
      ]
    },
    {
      "cell_type": "markdown",
      "metadata": {
        "id": "VE0SVHEXb6gD"
      },
      "source": [
        "Split 80:20"
      ]
    },
    {
      "cell_type": "code",
      "metadata": {
        "colab": {
          "base_uri": "https://localhost:8080/"
        },
        "id": "D7IcJ2x1aTVw",
        "outputId": "fe9c3546-29ac-4a85-f899-ab319ad15b3f"
      },
      "source": [
        "print(f\"r2_score train: {lg.score(x_train, y_train)}\") \n",
        "print(f\"r2_score validation: {lg.score(x_val, y_val)}\")"
      ],
      "execution_count": null,
      "outputs": [
        {
          "output_type": "stream",
          "name": "stdout",
          "text": [
            "r2_score train: 0.08241321394215595\n",
            "r2_score validation: 0.004731674572785893\n"
          ]
        }
      ]
    },
    {
      "cell_type": "code",
      "metadata": {
        "id": "RXe2WJveak7n"
      },
      "source": [
        "pred = lg.predict(x_val)"
      ],
      "execution_count": null,
      "outputs": []
    },
    {
      "cell_type": "code",
      "metadata": {
        "colab": {
          "base_uri": "https://localhost:8080/"
        },
        "id": "xz-ssRAeaqT1",
        "outputId": "2564187c-2ac2-47bf-883c-a557bb84b606"
      },
      "source": [
        "mean_squared_error(y_val, pred, squared=False)"
      ],
      "execution_count": null,
      "outputs": [
        {
          "output_type": "execute_result",
          "data": {
            "text/plain": [
              "1103.894405281485"
            ]
          },
          "metadata": {},
          "execution_count": 92
        }
      ]
    },
    {
      "cell_type": "code",
      "metadata": {
        "colab": {
          "base_uri": "https://localhost:8080/"
        },
        "id": "pWxD4V0obObn",
        "outputId": "4251875c-3e35-45e3-fe67-163314bcf7a2"
      },
      "source": [
        "mean_absolute_error(y_val, pred)"
      ],
      "execution_count": null,
      "outputs": [
        {
          "output_type": "execute_result",
          "data": {
            "text/plain": [
              "896.629936560997"
            ]
          },
          "metadata": {},
          "execution_count": 93
        }
      ]
    },
    {
      "cell_type": "markdown",
      "metadata": {
        "id": "ZuR75C_YcDHl"
      },
      "source": [
        "Split 90:10"
      ]
    },
    {
      "cell_type": "code",
      "metadata": {
        "colab": {
          "base_uri": "https://localhost:8080/"
        },
        "id": "y68-apPXcKYk",
        "outputId": "cc2eeb9c-d537-4999-952a-b31cd357425e"
      },
      "source": [
        "print(f\"r2_score train: {lg.score(x_train, y_train)}\") \n",
        "print(f\"r2_score validation: {lg.score(x_val, y_val)}\")"
      ],
      "execution_count": null,
      "outputs": [
        {
          "output_type": "stream",
          "name": "stdout",
          "text": [
            "r2_score train: 0.07395017164011586\n",
            "r2_score validation: 0.0036185057591295866\n"
          ]
        }
      ]
    },
    {
      "cell_type": "code",
      "metadata": {
        "id": "7RgdrtQ8cO7C"
      },
      "source": [
        "pred = lg.predict(x_val)"
      ],
      "execution_count": null,
      "outputs": []
    },
    {
      "cell_type": "code",
      "metadata": {
        "colab": {
          "base_uri": "https://localhost:8080/"
        },
        "id": "kKQnvtokcQ9K",
        "outputId": "71c7f454-6d3b-40cb-b72d-0225c249fb68"
      },
      "source": [
        "mean_squared_error(y_val, pred, squared=False)"
      ],
      "execution_count": null,
      "outputs": [
        {
          "output_type": "execute_result",
          "data": {
            "text/plain": [
              "1106.1815445835223"
            ]
          },
          "metadata": {},
          "execution_count": 79
        }
      ]
    },
    {
      "cell_type": "code",
      "metadata": {
        "colab": {
          "base_uri": "https://localhost:8080/"
        },
        "id": "YF-mkLspcTmu",
        "outputId": "e6527c3e-5f0b-402d-a899-b28bffbf249b"
      },
      "source": [
        "mean_absolute_error(y_val, pred)"
      ],
      "execution_count": null,
      "outputs": [
        {
          "output_type": "execute_result",
          "data": {
            "text/plain": [
              "898.808723296699"
            ]
          },
          "metadata": {},
          "execution_count": 80
        }
      ]
    },
    {
      "cell_type": "markdown",
      "metadata": {
        "id": "jBdPcAJacXbc"
      },
      "source": [
        "## Feature Selections with borutashap & LGBM"
      ]
    },
    {
      "cell_type": "code",
      "metadata": {
        "id": "RzuDub7Xce3e"
      },
      "source": [
        "fs = BorutaShap(model=lg,\n",
        "                importance_measure=\"shap\",\n",
        "                classification = False)"
      ],
      "execution_count": null,
      "outputs": []
    },
    {
      "cell_type": "code",
      "metadata": {
        "colab": {
          "base_uri": "https://localhost:8080/",
          "height": 176,
          "referenced_widgets": [
            "5aa71c67ed734d99885bd9637082a6da",
            "dd805d8a4220426998efb1fd719b7a2a",
            "4975afa1703240c996640f97a722ea9a",
            "604d445473d84b63ab475f5ef842b041",
            "73ac92a197314ff8bc4935f1cd546436",
            "0a10a4599417456c9aed0dcb6ca029e2",
            "80d1b5e679f34ee4a6c6880ccfcb3c05",
            "e29c825522b0486abe40aaacb28562e5",
            "8e9189460c884e2bb72539a732716ed2",
            "e173b3c743de4843a56d36fddc3e0a9e",
            "d929d746fede41339eaf21507ed3b0c4"
          ]
        },
        "id": "OVk8eAp7cub5",
        "outputId": "49960a19-3dd1-41ea-de88-8c09bf8394d3"
      },
      "source": [
        "fs.fit(X=x_train, y=y_train, n_trials=10,random_state=0)"
      ],
      "execution_count": null,
      "outputs": [
        {
          "output_type": "display_data",
          "data": {
            "application/vnd.jupyter.widget-view+json": {
              "model_id": "5aa71c67ed734d99885bd9637082a6da",
              "version_minor": 0,
              "version_major": 2
            },
            "text/plain": [
              "  0%|          | 0/10 [00:00<?, ?it/s]"
            ]
          },
          "metadata": {}
        },
        {
          "output_type": "stream",
          "name": "stdout",
          "text": [
            "1 attributes confirmed important: ['Outlet_ID']\n",
            "13 attributes confirmed unimportant: ['Outlet_Location_Type', 'year_bins', 'new3', 'new8', 'new2', 'new4', 'new5', 'new7', 'Item_Type', 'new6', 'new1', 'Outlet_Size', 'ID']\n",
            "1 tentative attributes remains: ['Item']\n"
          ]
        }
      ]
    },
    {
      "cell_type": "code",
      "metadata": {
        "colab": {
          "base_uri": "https://localhost:8080/",
          "height": 170
        },
        "id": "BZ4Nr0fZc-dH",
        "outputId": "de010200-30c7-4311-8024-8a039e196fb9"
      },
      "source": [
        "fs.plot(which_features='all', figsize=(24,12))"
      ],
      "execution_count": null,
      "outputs": [
        {
          "output_type": "display_data",
          "data": {
            "image/png": "[encoded data removed]",
            "text/plain": [
              "<Figure size 1728x864 with 1 Axes>"
            ]
          },
          "metadata": {
            "needs_background": "light"
          }
        }
      ]
    },
    {
      "cell_type": "code",
      "metadata": {
        "colab": {
          "base_uri": "https://localhost:8080/"
        },
        "id": "B4mx6xmBfGG9",
        "outputId": "2fdaf8fb-0a07-4aae-a624-3c108b3ada43"
      },
      "source": [
        "col = fs.Subset().columns.to_list()\n",
        "col"
      ],
      "execution_count": null,
      "outputs": [
        {
          "output_type": "execute_result",
          "data": {
            "text/plain": [
              "['Outlet_ID']"
            ]
          },
          "metadata": {},
          "execution_count": 87
        }
      ]
    },
    {
      "cell_type": "code",
      "metadata": {
        "id": "WK19QlUykHKE"
      },
      "source": [
        "def rmse(y_val, y_pred): \n",
        "    rmse = mean_squared_error(y_val, y_pred, squared=False)\n",
        "    return rmse\n",
        "\n",
        "def mae(y_val, y_pred): \n",
        "    mae = mean_absolute_error(y_val, y_pred)\n",
        "    return mae"
      ],
      "execution_count": null,
      "outputs": []
    },
    {
      "cell_type": "markdown",
      "metadata": {
        "id": "tBkmIW5hiI-w"
      },
      "source": [
        "## Model - 1"
      ]
    },
    {
      "cell_type": "code",
      "metadata": {
        "id": "-mbppaooiOaq"
      },
      "source": [
        "x_train_1 = x_train[col]\n",
        "x_val_1 = x_val[col]"
      ],
      "execution_count": null,
      "outputs": []
    },
    {
      "cell_type": "code",
      "metadata": {
        "colab": {
          "base_uri": "https://localhost:8080/"
        },
        "id": "TE7S29uIiVnW",
        "outputId": "6aa513a5-f488-4345-c893-1c922babaf8c"
      },
      "source": [
        "x_train_1.head()"
      ],
      "execution_count": null,
      "outputs": [
        {
          "output_type": "execute_result",
          "data": {
            "text/html": [
              "<div>\n",
              "<style scoped>\n",
              "    .dataframe tbody tr th:only-of-type {\n",
              "        vertical-align: middle;\n",
              "    }\n",
              "\n",
              "    .dataframe tbody tr th {\n",
              "        vertical-align: top;\n",
              "    }\n",
              "\n",
              "    .dataframe thead th {\n",
              "        text-align: right;\n",
              "    }\n",
              "</style>\n",
              "<table border=\"1\" class=\"dataframe\">\n",
              "  <thead>\n",
              "    <tr style=\"text-align: right;\">\n",
              "      <th></th>\n",
              "      <th>Outlet_ID</th>\n",
              "    </tr>\n",
              "  </thead>\n",
              "  <tbody>\n",
              "    <tr>\n",
              "      <th>76630</th>\n",
              "      <td>OUT035</td>\n",
              "    </tr>\n",
              "    <tr>\n",
              "      <th>34489</th>\n",
              "      <td>OUT018</td>\n",
              "    </tr>\n",
              "    <tr>\n",
              "      <th>32045</th>\n",
              "      <td>OUT035</td>\n",
              "    </tr>\n",
              "    <tr>\n",
              "      <th>51371</th>\n",
              "      <td>OUT046</td>\n",
              "    </tr>\n",
              "    <tr>\n",
              "      <th>86532</th>\n",
              "      <td>OUT049</td>\n",
              "    </tr>\n",
              "  </tbody>\n",
              "</table>\n",
              "</div>"
            ],
            "text/plain": [
              "      Outlet_ID\n",
              "76630    OUT035\n",
              "34489    OUT018\n",
              "32045    OUT035\n",
              "51371    OUT046\n",
              "86532    OUT049"
            ]
          },
          "metadata": {},
          "execution_count": 17
        }
      ]
    },
    {
      "cell_type": "code",
      "metadata": {
        "id": "hpKM1jIkiuJj"
      },
      "source": [
        "le = {}\n",
        "for i in x_train_1:\n",
        "    le[i] = LabelEncoder()\n",
        "    x_train_1[i] = le[i].fit_transform(x_train_1[i]) \n",
        "    x_val_1[i] = le[i].transform(x_val_1[i])"
      ],
      "execution_count": null,
      "outputs": []
    },
    {
      "cell_type": "code",
      "metadata": {
        "id": "x3x1u6z7jmd1"
      },
      "source": [
        "XGB = XGBRegressor(random_state=10)\n",
        "GBT = GradientBoostingRegressor(random_state=20)\n",
        "HGBT = HistGradientBoostingRegressor(random_state=30)\n",
        "ADA = AdaBoostRegressor(random_state=40)\n",
        "EXT = ExtraTreeRegressor(random_state=50)\n",
        "RF = RandomForestRegressor(random_state=60)\n",
        "DT = DecisionTreeRegressor(random_state=70)"
      ],
      "execution_count": null,
      "outputs": []
    },
    {
      "cell_type": "code",
      "metadata": {
        "id": "nteEclc-j4ZI"
      },
      "source": [
        "def score_1(model,x_train, y_train, x_val, y_val):\n",
        "    #fit model\n",
        "    model.fit(x_train,y_train)\n",
        "\n",
        "    #error\n",
        "    pred = model.predict(x_val)\n",
        "    rmse_error.append(rmse(y_val,pred)) \n",
        "    mae_error.append(mae(y_val,pred)) \n",
        "    \n",
        "    return model"
      ],
      "execution_count": null,
      "outputs": []
    },
    {
      "cell_type": "code",
      "metadata": {
        "colab": {
          "base_uri": "https://localhost:8080/"
        },
        "id": "qBASV5rhk-lf",
        "outputId": "57e7da36-4cb9-44db-aaa7-e4835ced6400"
      },
      "source": [
        "for i in [XGB,ADA,GBT,HGBT,DT,RF,EXT]:\n",
        "    print(30*\"-\")\n",
        "    print(i)\n",
        "    score_1(i, x_train_1, y_train, x_val_1, y_val)\n",
        "    print(10*\"->\" + \" DONE\")"
      ],
      "execution_count": null,
      "outputs": [
        {
          "output_type": "stream",
          "name": "stdout",
          "text": [
            "------------------------------\n",
            "XGBRegressor(random_state=10)\n",
            "[07:11:51] WARNING: /workspace/src/objective/regression_obj.cu:152: reg:linear is now deprecated in favor of reg:squarederror.\n",
            "->->->->->->->->->-> DONE\n",
            "------------------------------\n",
            "AdaBoostRegressor(random_state=40)\n",
            "->->->->->->->->->-> DONE\n",
            "------------------------------\n",
            "GradientBoostingRegressor(random_state=20)\n",
            "->->->->->->->->->-> DONE\n",
            "------------------------------\n",
            "HistGradientBoostingRegressor(random_state=30)\n",
            "->->->->->->->->->-> DONE\n",
            "------------------------------\n",
            "DecisionTreeRegressor(random_state=70)\n",
            "->->->->->->->->->-> DONE\n",
            "------------------------------\n",
            "RandomForestRegressor(random_state=60)\n",
            "->->->->->->->->->-> DONE\n",
            "------------------------------\n",
            "ExtraTreeRegressor(random_state=50)\n",
            "->->->->->->->->->-> DONE\n"
          ]
        }
      ]
    },
    {
      "cell_type": "markdown",
      "metadata": {
        "id": "VJ5OY3pUjZB6"
      },
      "source": [
        "## Model - 2"
      ]
    },
    {
      "cell_type": "code",
      "metadata": {
        "id": "X1mc_piZjh6X"
      },
      "source": [
        "x_train_2 = x_train[col]\n",
        "x_val_2 = x_val[col]"
      ],
      "execution_count": null,
      "outputs": []
    },
    {
      "cell_type": "code",
      "metadata": {
        "colab": {
          "base_uri": "https://localhost:8080/"
        },
        "id": "0xmatVGvj33B",
        "outputId": "47c25aca-a06e-499e-e8c9-d11d6081683e"
      },
      "source": [
        "x_train_2.dtypes"
      ],
      "execution_count": null,
      "outputs": [
        {
          "output_type": "execute_result",
          "data": {
            "text/plain": [
              "Outlet_ID    category\n",
              "dtype: object"
            ]
          },
          "metadata": {},
          "execution_count": 23
        }
      ]
    },
    {
      "cell_type": "code",
      "metadata": {
        "id": "-PJKyjVljbyB"
      },
      "source": [
        "CB = CatBoostRegressor(random_state=12)\n",
        "LGBM = LGBMRegressor(random_state=14)"
      ],
      "execution_count": null,
      "outputs": []
    },
    {
      "cell_type": "code",
      "metadata": {
        "id": "i-AhimqGj5vU"
      },
      "source": [
        "def score_2(model,x_train, y_train, x_val, y_val):\n",
        "       \n",
        "    #lgbm\n",
        "    if model == LGBM:\n",
        "       #fit model\n",
        "       model.fit(x_train,y_train,verbose=False)\n",
        "\n",
        "       #error\n",
        "       pred = model.predict(x_val)\n",
        "       rmse_error.append(rmse(y_val,pred))\n",
        "       mae_error.append(mae(y_val,pred))\n",
        "    \n",
        " \n",
        "   #catboost\n",
        "    else:         \n",
        "       #fit model    \n",
        "       model.fit(x_train,y_train,cat_features=[\"Outlet_ID\"],verbose=False)\n",
        "\n",
        "       #error\n",
        "       pred = model.predict(x_val)\n",
        "       rmse_error.append(rmse(y_val,pred))\n",
        "       mae_error.append(mae(y_val,pred))\n",
        "    \n",
        "    return model"
      ],
      "execution_count": null,
      "outputs": []
    },
    {
      "cell_type": "code",
      "metadata": {
        "colab": {
          "base_uri": "https://localhost:8080/"
        },
        "id": "YVZwdbU3klCu",
        "outputId": "dced0409-4083-4c55-8227-8a3cd3e2837b"
      },
      "source": [
        "for i in [CB,LGBM]:\n",
        "    print(30*\"-\")\n",
        "    print(i)\n",
        "    score_2(i, x_train_2, y_train, x_val_2, y_val)\n",
        "    print(10*\"->\" + \" DONE\")"
      ],
      "execution_count": null,
      "outputs": [
        {
          "output_type": "stream",
          "name": "stdout",
          "text": [
            "------------------------------\n",
            "<catboost.core.CatBoostRegressor object at 0x7fd5c4e6c9d0>\n",
            "->->->->->->->->->-> DONE\n",
            "------------------------------\n",
            "LGBMRegressor(random_state=14)\n",
            "->->->->->->->->->-> DONE\n"
          ]
        }
      ]
    },
    {
      "cell_type": "markdown",
      "metadata": {
        "id": "tbSW1hmalGh2"
      },
      "source": [
        "## Model - 3"
      ]
    },
    {
      "cell_type": "code",
      "metadata": {
        "id": "L8UnqYxMlJDZ"
      },
      "source": [
        "x_train_3 = x_train[col]\n",
        "x_val_3 = x_val[col]"
      ],
      "execution_count": null,
      "outputs": []
    },
    {
      "cell_type": "code",
      "metadata": {
        "colab": {
          "base_uri": "https://localhost:8080/"
        },
        "id": "dyRNd8H2lTcH",
        "outputId": "639aaf33-36e1-4145-83d5-fcce437de50c"
      },
      "source": [
        "x_train_3"
      ],
      "execution_count": null,
      "outputs": [
        {
          "output_type": "execute_result",
          "data": {
            "text/html": [
              "<div>\n",
              "<style scoped>\n",
              "    .dataframe tbody tr th:only-of-type {\n",
              "        vertical-align: middle;\n",
              "    }\n",
              "\n",
              "    .dataframe tbody tr th {\n",
              "        vertical-align: top;\n",
              "    }\n",
              "\n",
              "    .dataframe thead th {\n",
              "        text-align: right;\n",
              "    }\n",
              "</style>\n",
              "<table border=\"1\" class=\"dataframe\">\n",
              "  <thead>\n",
              "    <tr style=\"text-align: right;\">\n",
              "      <th></th>\n",
              "      <th>Outlet_ID</th>\n",
              "    </tr>\n",
              "  </thead>\n",
              "  <tbody>\n",
              "    <tr>\n",
              "      <th>76630</th>\n",
              "      <td>OUT035</td>\n",
              "    </tr>\n",
              "    <tr>\n",
              "      <th>34489</th>\n",
              "      <td>OUT018</td>\n",
              "    </tr>\n",
              "    <tr>\n",
              "      <th>32045</th>\n",
              "      <td>OUT035</td>\n",
              "    </tr>\n",
              "    <tr>\n",
              "      <th>51371</th>\n",
              "      <td>OUT046</td>\n",
              "    </tr>\n",
              "    <tr>\n",
              "      <th>86532</th>\n",
              "      <td>OUT049</td>\n",
              "    </tr>\n",
              "    <tr>\n",
              "      <th>...</th>\n",
              "      <td>...</td>\n",
              "    </tr>\n",
              "    <tr>\n",
              "      <th>73348</th>\n",
              "      <td>OUT046</td>\n",
              "    </tr>\n",
              "    <tr>\n",
              "      <th>50809</th>\n",
              "      <td>OUT035</td>\n",
              "    </tr>\n",
              "    <tr>\n",
              "      <th>1784</th>\n",
              "      <td>OUT035</td>\n",
              "    </tr>\n",
              "    <tr>\n",
              "      <th>36895</th>\n",
              "      <td>OUT035</td>\n",
              "    </tr>\n",
              "    <tr>\n",
              "      <th>62847</th>\n",
              "      <td>OUT035</td>\n",
              "    </tr>\n",
              "  </tbody>\n",
              "</table>\n",
              "<p>67888 rows × 1 columns</p>\n",
              "</div>"
            ],
            "text/plain": [
              "      Outlet_ID\n",
              "76630    OUT035\n",
              "34489    OUT018\n",
              "32045    OUT035\n",
              "51371    OUT046\n",
              "86532    OUT049\n",
              "...         ...\n",
              "73348    OUT046\n",
              "50809    OUT035\n",
              "1784     OUT035\n",
              "36895    OUT035\n",
              "62847    OUT035\n",
              "\n",
              "[67888 rows x 1 columns]"
            ]
          },
          "metadata": {},
          "execution_count": 28
        }
      ]
    },
    {
      "cell_type": "code",
      "metadata": {
        "id": "RZM7g3dZlVB8"
      },
      "source": [
        "x_train_3 = pd.get_dummies(x_train_3) \n",
        "x_val_3 = pd.get_dummies(x_val_3)"
      ],
      "execution_count": null,
      "outputs": []
    },
    {
      "cell_type": "code",
      "metadata": {
        "colab": {
          "base_uri": "https://localhost:8080/"
        },
        "id": "z0vWkTuUlff_",
        "outputId": "96228606-5b1d-4a4c-f87a-1f92e4c5694c"
      },
      "source": [
        "x_train_3"
      ],
      "execution_count": null,
      "outputs": [
        {
          "output_type": "execute_result",
          "data": {
            "text/html": [
              "<div>\n",
              "<style scoped>\n",
              "    .dataframe tbody tr th:only-of-type {\n",
              "        vertical-align: middle;\n",
              "    }\n",
              "\n",
              "    .dataframe tbody tr th {\n",
              "        vertical-align: top;\n",
              "    }\n",
              "\n",
              "    .dataframe thead th {\n",
              "        text-align: right;\n",
              "    }\n",
              "</style>\n",
              "<table border=\"1\" class=\"dataframe\">\n",
              "  <thead>\n",
              "    <tr style=\"text-align: right;\">\n",
              "      <th></th>\n",
              "      <th>Outlet_ID_OUT013</th>\n",
              "      <th>Outlet_ID_OUT018</th>\n",
              "      <th>Outlet_ID_OUT035</th>\n",
              "      <th>Outlet_ID_OUT046</th>\n",
              "      <th>Outlet_ID_OUT049</th>\n",
              "    </tr>\n",
              "  </thead>\n",
              "  <tbody>\n",
              "    <tr>\n",
              "      <th>76630</th>\n",
              "      <td>0</td>\n",
              "      <td>0</td>\n",
              "      <td>1</td>\n",
              "      <td>0</td>\n",
              "      <td>0</td>\n",
              "    </tr>\n",
              "    <tr>\n",
              "      <th>34489</th>\n",
              "      <td>0</td>\n",
              "      <td>1</td>\n",
              "      <td>0</td>\n",
              "      <td>0</td>\n",
              "      <td>0</td>\n",
              "    </tr>\n",
              "    <tr>\n",
              "      <th>32045</th>\n",
              "      <td>0</td>\n",
              "      <td>0</td>\n",
              "      <td>1</td>\n",
              "      <td>0</td>\n",
              "      <td>0</td>\n",
              "    </tr>\n",
              "    <tr>\n",
              "      <th>51371</th>\n",
              "      <td>0</td>\n",
              "      <td>0</td>\n",
              "      <td>0</td>\n",
              "      <td>1</td>\n",
              "      <td>0</td>\n",
              "    </tr>\n",
              "    <tr>\n",
              "      <th>86532</th>\n",
              "      <td>0</td>\n",
              "      <td>0</td>\n",
              "      <td>0</td>\n",
              "      <td>0</td>\n",
              "      <td>1</td>\n",
              "    </tr>\n",
              "    <tr>\n",
              "      <th>...</th>\n",
              "      <td>...</td>\n",
              "      <td>...</td>\n",
              "      <td>...</td>\n",
              "      <td>...</td>\n",
              "      <td>...</td>\n",
              "    </tr>\n",
              "    <tr>\n",
              "      <th>73348</th>\n",
              "      <td>0</td>\n",
              "      <td>0</td>\n",
              "      <td>0</td>\n",
              "      <td>1</td>\n",
              "      <td>0</td>\n",
              "    </tr>\n",
              "    <tr>\n",
              "      <th>50809</th>\n",
              "      <td>0</td>\n",
              "      <td>0</td>\n",
              "      <td>1</td>\n",
              "      <td>0</td>\n",
              "      <td>0</td>\n",
              "    </tr>\n",
              "    <tr>\n",
              "      <th>1784</th>\n",
              "      <td>0</td>\n",
              "      <td>0</td>\n",
              "      <td>1</td>\n",
              "      <td>0</td>\n",
              "      <td>0</td>\n",
              "    </tr>\n",
              "    <tr>\n",
              "      <th>36895</th>\n",
              "      <td>0</td>\n",
              "      <td>0</td>\n",
              "      <td>1</td>\n",
              "      <td>0</td>\n",
              "      <td>0</td>\n",
              "    </tr>\n",
              "    <tr>\n",
              "      <th>62847</th>\n",
              "      <td>0</td>\n",
              "      <td>0</td>\n",
              "      <td>1</td>\n",
              "      <td>0</td>\n",
              "      <td>0</td>\n",
              "    </tr>\n",
              "  </tbody>\n",
              "</table>\n",
              "<p>67888 rows × 5 columns</p>\n",
              "</div>"
            ],
            "text/plain": [
              "       Outlet_ID_OUT013  Outlet_ID_OUT018  ...  Outlet_ID_OUT046  Outlet_ID_OUT049\n",
              "76630                 0                 0  ...                 0                 0\n",
              "34489                 0                 1  ...                 0                 0\n",
              "32045                 0                 0  ...                 0                 0\n",
              "51371                 0                 0  ...                 1                 0\n",
              "86532                 0                 0  ...                 0                 1\n",
              "...                 ...               ...  ...               ...               ...\n",
              "73348                 0                 0  ...                 1                 0\n",
              "50809                 0                 0  ...                 0                 0\n",
              "1784                  0                 0  ...                 0                 0\n",
              "36895                 0                 0  ...                 0                 0\n",
              "62847                 0                 0  ...                 0                 0\n",
              "\n",
              "[67888 rows x 5 columns]"
            ]
          },
          "metadata": {},
          "execution_count": 30
        }
      ]
    },
    {
      "cell_type": "code",
      "metadata": {
        "id": "ewkdcfbclo3N"
      },
      "source": [
        "LR = LinearRegression() \n",
        "KNN = KNeighborsRegressor()\n",
        "#SVM = SVR(kernel=\"linear\")\n",
        "ELT = ElasticNet(random_state=145) #l1_l2\n",
        "LASSO = Lasso(random_state=156) #L1\n",
        "RIDGE = Ridge(random_state=1467) # L2"
      ],
      "execution_count": null,
      "outputs": []
    },
    {
      "cell_type": "code",
      "metadata": {
        "id": "5x9TEvV8m98k"
      },
      "source": [
        "def score_3(model,x_train, y_train, x_val, y_val):\n",
        "    #fit model\n",
        "    model.fit(x_train,y_train)\n",
        "\n",
        "    #error\n",
        "    pred = model.predict(x_val)\n",
        "    rmse_error.append(rmse(y_val,pred)) \n",
        "    mae_error.append(mae(y_val,pred)) \n",
        "    \n",
        "    return model"
      ],
      "execution_count": null,
      "outputs": []
    },
    {
      "cell_type": "code",
      "metadata": {
        "colab": {
          "base_uri": "https://localhost:8080/"
        },
        "id": "4ryKs6mqnCEy",
        "outputId": "d72d0296-3370-43c0-ed62-960fe2a84ebc"
      },
      "source": [
        "for i in [LR,KNN,ELT,LASSO,RIDGE]:\n",
        "    print(30*\"-\")\n",
        "    print(i)\n",
        "    score_3(i, x_train_3, y_train, x_val_3, y_val)\n",
        "    print(10*\"->\" + \" DONE\")"
      ],
      "execution_count": null,
      "outputs": [
        {
          "output_type": "stream",
          "name": "stdout",
          "text": [
            "------------------------------\n",
            "LinearRegression()\n",
            "->->->->->->->->->-> DONE\n",
            "------------------------------\n",
            "KNeighborsRegressor()\n",
            "->->->->->->->->->-> DONE\n",
            "------------------------------\n",
            "ElasticNet(random_state=145)\n",
            "->->->->->->->->->-> DONE\n",
            "------------------------------\n",
            "Lasso(random_state=156)\n",
            "->->->->->->->->->-> DONE\n",
            "------------------------------\n",
            "Ridge(random_state=1467)\n",
            "->->->->->->->->->-> DONE\n"
          ]
        }
      ]
    },
    {
      "cell_type": "code",
      "metadata": {
        "id": "gFTBbi3am_I5"
      },
      "source": [
        ""
      ],
      "execution_count": null,
      "outputs": []
    },
    {
      "cell_type": "markdown",
      "metadata": {
        "id": "-J9FAxOYjWA9"
      },
      "source": [
        "## Model - Selections"
      ]
    },
    {
      "cell_type": "code",
      "metadata": {
        "id": "Yo0wmKEUlOja"
      },
      "source": [
        "all_models = pd.DataFrame({\"models\": [\"XGB\", \"ADA\", \"GBT\", \"HGBT\", \"DT\", \"RF\", \"EXT\",\"CB\",\"LGBM\",\"LR\",\"KNN\",\"ELT\",\"LASSO\",\"RIDGE\"], \n",
        "                          \"RMSE\": rmse_error, \n",
        "                          \"MAE\": mae_error})"
      ],
      "execution_count": null,
      "outputs": []
    },
    {
      "cell_type": "code",
      "metadata": {
        "colab": {
          "base_uri": "https://localhost:8080/",
          "height": 503
        },
        "id": "91zoAd49ld0g",
        "outputId": "593d1387-8fd1-4fcc-add9-4ba447d84239"
      },
      "source": [
        "all_models"
      ],
      "execution_count": null,
      "outputs": [
        {
          "output_type": "execute_result",
          "data": {
            "text/html": [
              "<div>\n",
              "<style scoped>\n",
              "    .dataframe tbody tr th:only-of-type {\n",
              "        vertical-align: middle;\n",
              "    }\n",
              "\n",
              "    .dataframe tbody tr th {\n",
              "        vertical-align: top;\n",
              "    }\n",
              "\n",
              "    .dataframe thead th {\n",
              "        text-align: right;\n",
              "    }\n",
              "</style>\n",
              "<table border=\"1\" class=\"dataframe\">\n",
              "  <thead>\n",
              "    <tr style=\"text-align: right;\">\n",
              "      <th></th>\n",
              "      <th>models</th>\n",
              "      <th>RMSE</th>\n",
              "      <th>MAE</th>\n",
              "    </tr>\n",
              "  </thead>\n",
              "  <tbody>\n",
              "    <tr>\n",
              "      <th>0</th>\n",
              "      <td>XGB</td>\n",
              "      <td>1101.229310</td>\n",
              "      <td>894.658516</td>\n",
              "    </tr>\n",
              "    <tr>\n",
              "      <th>1</th>\n",
              "      <td>ADA</td>\n",
              "      <td>1106.924589</td>\n",
              "      <td>915.697371</td>\n",
              "    </tr>\n",
              "    <tr>\n",
              "      <th>2</th>\n",
              "      <td>GBT</td>\n",
              "      <td>1101.229559</td>\n",
              "      <td>894.666441</td>\n",
              "    </tr>\n",
              "    <tr>\n",
              "      <th>3</th>\n",
              "      <td>HGBT</td>\n",
              "      <td>1101.247639</td>\n",
              "      <td>894.477257</td>\n",
              "    </tr>\n",
              "    <tr>\n",
              "      <th>4</th>\n",
              "      <td>DT</td>\n",
              "      <td>1101.229558</td>\n",
              "      <td>894.666427</td>\n",
              "    </tr>\n",
              "    <tr>\n",
              "      <th>5</th>\n",
              "      <td>RF</td>\n",
              "      <td>1101.215053</td>\n",
              "      <td>894.625687</td>\n",
              "    </tr>\n",
              "    <tr>\n",
              "      <th>6</th>\n",
              "      <td>EXT</td>\n",
              "      <td>1101.229558</td>\n",
              "      <td>894.666427</td>\n",
              "    </tr>\n",
              "    <tr>\n",
              "      <th>7</th>\n",
              "      <td>CB</td>\n",
              "      <td>1101.237748</td>\n",
              "      <td>894.622422</td>\n",
              "    </tr>\n",
              "    <tr>\n",
              "      <th>8</th>\n",
              "      <td>LGBM</td>\n",
              "      <td>1101.229559</td>\n",
              "      <td>894.666441</td>\n",
              "    </tr>\n",
              "    <tr>\n",
              "      <th>9</th>\n",
              "      <td>LR</td>\n",
              "      <td>1101.227537</td>\n",
              "      <td>894.663280</td>\n",
              "    </tr>\n",
              "    <tr>\n",
              "      <th>10</th>\n",
              "      <td>KNN</td>\n",
              "      <td>1193.474288</td>\n",
              "      <td>940.301620</td>\n",
              "    </tr>\n",
              "    <tr>\n",
              "      <th>11</th>\n",
              "      <td>ELT</td>\n",
              "      <td>1104.012973</td>\n",
              "      <td>897.331130</td>\n",
              "    </tr>\n",
              "    <tr>\n",
              "      <th>12</th>\n",
              "      <td>LASSO</td>\n",
              "      <td>1101.277237</td>\n",
              "      <td>894.734903</td>\n",
              "    </tr>\n",
              "    <tr>\n",
              "      <th>13</th>\n",
              "      <td>RIDGE</td>\n",
              "      <td>1101.229561</td>\n",
              "      <td>894.666470</td>\n",
              "    </tr>\n",
              "  </tbody>\n",
              "</table>\n",
              "</div>"
            ],
            "text/plain": [
              "   models         RMSE         MAE\n",
              "0     XGB  1101.229310  894.658516\n",
              "1     ADA  1106.924589  915.697371\n",
              "2     GBT  1101.229559  894.666441\n",
              "3    HGBT  1101.247639  894.477257\n",
              "4      DT  1101.229558  894.666427\n",
              "5      RF  1101.215053  894.625687\n",
              "6     EXT  1101.229558  894.666427\n",
              "7      CB  1101.237748  894.622422\n",
              "8    LGBM  1101.229559  894.666441\n",
              "9      LR  1101.227537  894.663280\n",
              "10    KNN  1193.474288  940.301620\n",
              "11    ELT  1104.012973  897.331130\n",
              "12  LASSO  1101.277237  894.734903\n",
              "13  RIDGE  1101.229561  894.666470"
            ]
          },
          "metadata": {},
          "execution_count": 35
        }
      ]
    },
    {
      "cell_type": "code",
      "metadata": {
        "colab": {
          "base_uri": "https://localhost:8080/",
          "height": 483
        },
        "id": "jHSQutIro5Fj",
        "outputId": "35a51adf-7cea-4537-cf48-cafe6a4f41f0"
      },
      "source": [
        "# RMSE \n",
        "all_models[[\"models\", \"RMSE\"]].sort_values(\"RMSE\")"
      ],
      "execution_count": null,
      "outputs": [
        {
          "output_type": "execute_result",
          "data": {
            "text/html": [
              "<div>\n",
              "<style scoped>\n",
              "    .dataframe tbody tr th:only-of-type {\n",
              "        vertical-align: middle;\n",
              "    }\n",
              "\n",
              "    .dataframe tbody tr th {\n",
              "        vertical-align: top;\n",
              "    }\n",
              "\n",
              "    .dataframe thead th {\n",
              "        text-align: right;\n",
              "    }\n",
              "</style>\n",
              "<table border=\"1\" class=\"dataframe\">\n",
              "  <thead>\n",
              "    <tr style=\"text-align: right;\">\n",
              "      <th></th>\n",
              "      <th>models</th>\n",
              "      <th>RMSE</th>\n",
              "    </tr>\n",
              "  </thead>\n",
              "  <tbody>\n",
              "    <tr>\n",
              "      <th>5</th>\n",
              "      <td>RF</td>\n",
              "      <td>1101.215053</td>\n",
              "    </tr>\n",
              "    <tr>\n",
              "      <th>9</th>\n",
              "      <td>LR</td>\n",
              "      <td>1101.227537</td>\n",
              "    </tr>\n",
              "    <tr>\n",
              "      <th>0</th>\n",
              "      <td>XGB</td>\n",
              "      <td>1101.229310</td>\n",
              "    </tr>\n",
              "    <tr>\n",
              "      <th>4</th>\n",
              "      <td>DT</td>\n",
              "      <td>1101.229558</td>\n",
              "    </tr>\n",
              "    <tr>\n",
              "      <th>6</th>\n",
              "      <td>EXT</td>\n",
              "      <td>1101.229558</td>\n",
              "    </tr>\n",
              "    <tr>\n",
              "      <th>2</th>\n",
              "      <td>GBT</td>\n",
              "      <td>1101.229559</td>\n",
              "    </tr>\n",
              "    <tr>\n",
              "      <th>8</th>\n",
              "      <td>LGBM</td>\n",
              "      <td>1101.229559</td>\n",
              "    </tr>\n",
              "    <tr>\n",
              "      <th>13</th>\n",
              "      <td>RIDGE</td>\n",
              "      <td>1101.229561</td>\n",
              "    </tr>\n",
              "    <tr>\n",
              "      <th>7</th>\n",
              "      <td>CB</td>\n",
              "      <td>1101.237748</td>\n",
              "    </tr>\n",
              "    <tr>\n",
              "      <th>3</th>\n",
              "      <td>HGBT</td>\n",
              "      <td>1101.247639</td>\n",
              "    </tr>\n",
              "    <tr>\n",
              "      <th>12</th>\n",
              "      <td>LASSO</td>\n",
              "      <td>1101.277237</td>\n",
              "    </tr>\n",
              "    <tr>\n",
              "      <th>11</th>\n",
              "      <td>ELT</td>\n",
              "      <td>1104.012973</td>\n",
              "    </tr>\n",
              "    <tr>\n",
              "      <th>1</th>\n",
              "      <td>ADA</td>\n",
              "      <td>1106.924589</td>\n",
              "    </tr>\n",
              "    <tr>\n",
              "      <th>10</th>\n",
              "      <td>KNN</td>\n",
              "      <td>1193.474288</td>\n",
              "    </tr>\n",
              "  </tbody>\n",
              "</table>\n",
              "</div>"
            ],
            "text/plain": [
              "   models         RMSE\n",
              "5      RF  1101.215053\n",
              "9      LR  1101.227537\n",
              "0     XGB  1101.229310\n",
              "4      DT  1101.229558\n",
              "6     EXT  1101.229558\n",
              "2     GBT  1101.229559\n",
              "8    LGBM  1101.229559\n",
              "13  RIDGE  1101.229561\n",
              "7      CB  1101.237748\n",
              "3    HGBT  1101.247639\n",
              "12  LASSO  1101.277237\n",
              "11    ELT  1104.012973\n",
              "1     ADA  1106.924589\n",
              "10    KNN  1193.474288"
            ]
          },
          "metadata": {},
          "execution_count": 36
        }
      ]
    },
    {
      "cell_type": "code",
      "metadata": {
        "colab": {
          "base_uri": "https://localhost:8080/",
          "height": 514
        },
        "id": "aB0xeeVnpVYD",
        "outputId": "51a80ba1-85e9-4925-da24-4c785748cc3e"
      },
      "source": [
        "#MAE\n",
        "all_models[[\"models\", \"MAE\"]].sort_values(\"MAE\")"
      ],
      "execution_count": null,
      "outputs": [
        {
          "output_type": "execute_result",
          "data": {
            "text/html": [
              "<div>\n",
              "<style scoped>\n",
              "    .dataframe tbody tr th:only-of-type {\n",
              "        vertical-align: middle;\n",
              "    }\n",
              "\n",
              "    .dataframe tbody tr th {\n",
              "        vertical-align: top;\n",
              "    }\n",
              "\n",
              "    .dataframe thead th {\n",
              "        text-align: right;\n",
              "    }\n",
              "</style>\n",
              "<table border=\"1\" class=\"dataframe\">\n",
              "  <thead>\n",
              "    <tr style=\"text-align: right;\">\n",
              "      <th></th>\n",
              "      <th>models</th>\n",
              "      <th>MAE</th>\n",
              "    </tr>\n",
              "  </thead>\n",
              "  <tbody>\n",
              "    <tr>\n",
              "      <th>11</th>\n",
              "      <td>SVC</td>\n",
              "      <td>874.594775</td>\n",
              "    </tr>\n",
              "    <tr>\n",
              "      <th>3</th>\n",
              "      <td>HGBT</td>\n",
              "      <td>894.477257</td>\n",
              "    </tr>\n",
              "    <tr>\n",
              "      <th>7</th>\n",
              "      <td>CB</td>\n",
              "      <td>894.622422</td>\n",
              "    </tr>\n",
              "    <tr>\n",
              "      <th>5</th>\n",
              "      <td>RF</td>\n",
              "      <td>894.625687</td>\n",
              "    </tr>\n",
              "    <tr>\n",
              "      <th>0</th>\n",
              "      <td>XGB</td>\n",
              "      <td>894.658516</td>\n",
              "    </tr>\n",
              "    <tr>\n",
              "      <th>9</th>\n",
              "      <td>LR</td>\n",
              "      <td>894.663280</td>\n",
              "    </tr>\n",
              "    <tr>\n",
              "      <th>4</th>\n",
              "      <td>DT</td>\n",
              "      <td>894.666427</td>\n",
              "    </tr>\n",
              "    <tr>\n",
              "      <th>6</th>\n",
              "      <td>EXT</td>\n",
              "      <td>894.666427</td>\n",
              "    </tr>\n",
              "    <tr>\n",
              "      <th>2</th>\n",
              "      <td>GBT</td>\n",
              "      <td>894.666441</td>\n",
              "    </tr>\n",
              "    <tr>\n",
              "      <th>8</th>\n",
              "      <td>LGBM</td>\n",
              "      <td>894.666441</td>\n",
              "    </tr>\n",
              "    <tr>\n",
              "      <th>14</th>\n",
              "      <td>RIDGE</td>\n",
              "      <td>894.666470</td>\n",
              "    </tr>\n",
              "    <tr>\n",
              "      <th>13</th>\n",
              "      <td>LASSO</td>\n",
              "      <td>894.734903</td>\n",
              "    </tr>\n",
              "    <tr>\n",
              "      <th>12</th>\n",
              "      <td>ELT</td>\n",
              "      <td>897.331130</td>\n",
              "    </tr>\n",
              "    <tr>\n",
              "      <th>1</th>\n",
              "      <td>ADA</td>\n",
              "      <td>915.697371</td>\n",
              "    </tr>\n",
              "    <tr>\n",
              "      <th>10</th>\n",
              "      <td>KNN</td>\n",
              "      <td>940.301620</td>\n",
              "    </tr>\n",
              "  </tbody>\n",
              "</table>\n",
              "</div>"
            ],
            "text/plain": [
              "   models         MAE\n",
              "11    SVC  874.594775\n",
              "3    HGBT  894.477257\n",
              "7      CB  894.622422\n",
              "5      RF  894.625687\n",
              "0     XGB  894.658516\n",
              "9      LR  894.663280\n",
              "4      DT  894.666427\n",
              "6     EXT  894.666427\n",
              "2     GBT  894.666441\n",
              "8    LGBM  894.666441\n",
              "14  RIDGE  894.666470\n",
              "13  LASSO  894.734903\n",
              "12    ELT  897.331130\n",
              "1     ADA  915.697371\n",
              "10    KNN  940.301620"
            ]
          },
          "metadata": {},
          "execution_count": 119
        }
      ]
    },
    {
      "cell_type": "markdown",
      "metadata": {
        "id": "bMNp3cDkp6Wn"
      },
      "source": [
        "## Hyperparameters - tuning"
      ]
    },
    {
      "cell_type": "markdown",
      "metadata": {
        "id": "J5QJseBAtLt8"
      },
      "source": [
        "### LGBM"
      ]
    },
    {
      "cell_type": "code",
      "metadata": {
        "id": "JC4Oyq-7tLDR"
      },
      "source": [
        "#lgbm\n",
        "\n",
        "def objective(trial):\n",
        "    params = {\n",
        "        #\"device_type\": trial.suggest_categorical(\"device_type\", ['gpu']),\n",
        "        'objective': trial.suggest_categorical('objective',['regression','rmse']),#'multiclass','binary']),  \n",
        "        \"n_estimators\": trial.suggest_categorical(\"n_estimators\", [10000]),\n",
        "        \"learning_rate\": trial.suggest_float(\"learning_rate\", 0.01, 0.3),\n",
        "        \"num_leaves\": trial.suggest_int(\"num_leaves\", 20, 3000, step=20),\n",
        "        \"max_depth\": trial.suggest_int(\"max_depth\", 3, 12),\n",
        "        \"min_data_in_leaf\": trial.suggest_int(\"min_data_in_leaf\", 200, 10000, step=100),\n",
        "        \"lambda_l1\": trial.suggest_int(\"lambda_l1\", 0, 100, step=5),\n",
        "        \"lambda_l2\": trial.suggest_int(\"lambda_l2\", 0, 100, step=5),\n",
        "        \"min_gain_to_split\": trial.suggest_float(\"min_gain_to_split\", 0, 15),\n",
        "        \"bagging_fraction\": trial.suggest_float(\"bagging_fraction\", 0.2, 0.95, step=0.1),\n",
        "        \"bagging_freq\": trial.suggest_categorical(\"bagging_freq\", [1]),\n",
        "        \"feature_fraction\": trial.suggest_float(\"feature_fraction\", 0.2, 0.95, step=0.1),\n",
        "    }\n",
        "    model = LGBMRegressor(**params)  \n",
        "    model.fit(x_train_2,y_train,eval_set=[(x_val_2,y_val)],verbose=False,early_stopping_rounds=100)\n",
        "\n",
        "    y_preds = model.predict(x_val_2)   \n",
        "    error = rmse(y_val, y_preds)\n",
        "\n",
        "    return error"
      ],
      "execution_count": null,
      "outputs": []
    },
    {
      "cell_type": "code",
      "metadata": {
        "colab": {
          "base_uri": "https://localhost:8080/"
        },
        "id": "2i-GJ5cft7tg",
        "outputId": "7dc36c7d-3b16-466b-ba4a-982d716a00a8"
      },
      "source": [
        "study = optuna.create_study(direction='minimize')\n",
        "study.optimize(objective, n_trials=100)"
      ],
      "execution_count": null,
      "outputs": [
        {
          "output_type": "stream",
          "name": "stderr",
          "text": [
            "\u001b[32m[I 2021-11-07 07:13:03,323]\u001b[0m A new study created in memory with name: no-name-ed67ae31-0f1b-4179-8c1b-a43c95f4ea13\u001b[0m\n",
            "\u001b[32m[I 2021-11-07 07:13:04,218]\u001b[0m Trial 0 finished with value: 1101.1593291180288 and parameters: {'objective': 'regression', 'n_estimators': 10000, 'learning_rate': 0.285960722517663, 'num_leaves': 260, 'max_depth': 11, 'min_data_in_leaf': 600, 'lambda_l1': 45, 'lambda_l2': 55, 'min_gain_to_split': 4.550594123262503, 'bagging_fraction': 0.6000000000000001, 'bagging_freq': 1, 'feature_fraction': 0.8}. Best is trial 0 with value: 1101.1593291180288.\u001b[0m\n",
            "\u001b[32m[I 2021-11-07 07:13:05,132]\u001b[0m Trial 1 finished with value: 1101.1800269724836 and parameters: {'objective': 'rmse', 'n_estimators': 10000, 'learning_rate': 0.17773891474696932, 'num_leaves': 1240, 'max_depth': 7, 'min_data_in_leaf': 4500, 'lambda_l1': 30, 'lambda_l2': 30, 'min_gain_to_split': 13.844262860707172, 'bagging_fraction': 0.6000000000000001, 'bagging_freq': 1, 'feature_fraction': 0.6000000000000001}. Best is trial 0 with value: 1101.1593291180288.\u001b[0m\n",
            "\u001b[32m[I 2021-11-07 07:13:06,969]\u001b[0m Trial 2 finished with value: 1101.211760347466 and parameters: {'objective': 'regression', 'n_estimators': 10000, 'learning_rate': 0.02626566189188491, 'num_leaves': 1160, 'max_depth': 12, 'min_data_in_leaf': 900, 'lambda_l1': 30, 'lambda_l2': 15, 'min_gain_to_split': 1.1027266847256056, 'bagging_fraction': 0.4, 'bagging_freq': 1, 'feature_fraction': 0.7}. Best is trial 0 with value: 1101.1593291180288.\u001b[0m\n",
            "\u001b[32m[I 2021-11-07 07:13:07,384]\u001b[0m Trial 3 finished with value: 1101.173959860608 and parameters: {'objective': 'rmse', 'n_estimators': 10000, 'learning_rate': 0.15846230212055884, 'num_leaves': 100, 'max_depth': 7, 'min_data_in_leaf': 9300, 'lambda_l1': 20, 'lambda_l2': 85, 'min_gain_to_split': 11.14835778201493, 'bagging_fraction': 0.6000000000000001, 'bagging_freq': 1, 'feature_fraction': 0.9}. Best is trial 0 with value: 1101.1593291180288.\u001b[0m\n",
            "\u001b[32m[I 2021-11-07 07:13:08,236]\u001b[0m Trial 4 finished with value: 1101.1837695707557 and parameters: {'objective': 'regression', 'n_estimators': 10000, 'learning_rate': 0.17505007006884224, 'num_leaves': 1780, 'max_depth': 11, 'min_data_in_leaf': 6000, 'lambda_l1': 90, 'lambda_l2': 50, 'min_gain_to_split': 9.002450289543289, 'bagging_fraction': 0.6000000000000001, 'bagging_freq': 1, 'feature_fraction': 0.5}. Best is trial 0 with value: 1101.1593291180288.\u001b[0m\n",
            "\u001b[32m[I 2021-11-07 07:13:08,355]\u001b[0m Trial 5 finished with value: 1106.533712257117 and parameters: {'objective': 'regression', 'n_estimators': 10000, 'learning_rate': 0.22034472561005936, 'num_leaves': 1320, 'max_depth': 11, 'min_data_in_leaf': 8900, 'lambda_l1': 5, 'lambda_l2': 25, 'min_gain_to_split': 14.609501013072693, 'bagging_fraction': 0.2, 'bagging_freq': 1, 'feature_fraction': 0.8}. Best is trial 0 with value: 1101.1593291180288.\u001b[0m\n",
            "\u001b[32m[I 2021-11-07 07:13:08,500]\u001b[0m Trial 6 finished with value: 1105.5141152876938 and parameters: {'objective': 'rmse', 'n_estimators': 10000, 'learning_rate': 0.057691212016917535, 'num_leaves': 1060, 'max_depth': 5, 'min_data_in_leaf': 8800, 'lambda_l1': 90, 'lambda_l2': 25, 'min_gain_to_split': 4.811928240308752, 'bagging_fraction': 0.30000000000000004, 'bagging_freq': 1, 'feature_fraction': 0.30000000000000004}. Best is trial 0 with value: 1101.1593291180288.\u001b[0m\n",
            "\u001b[32m[I 2021-11-07 07:13:09,424]\u001b[0m Trial 7 finished with value: 1101.1466850284496 and parameters: {'objective': 'rmse', 'n_estimators': 10000, 'learning_rate': 0.16893359291365354, 'num_leaves': 1040, 'max_depth': 12, 'min_data_in_leaf': 900, 'lambda_l1': 5, 'lambda_l2': 25, 'min_gain_to_split': 8.544261728161173, 'bagging_fraction': 0.30000000000000004, 'bagging_freq': 1, 'feature_fraction': 0.2}. Best is trial 7 with value: 1101.1466850284496.\u001b[0m\n",
            "\u001b[32m[I 2021-11-07 07:13:10,261]\u001b[0m Trial 8 finished with value: 1101.2178751706192 and parameters: {'objective': 'rmse', 'n_estimators': 10000, 'learning_rate': 0.0894801211453421, 'num_leaves': 300, 'max_depth': 10, 'min_data_in_leaf': 7300, 'lambda_l1': 75, 'lambda_l2': 75, 'min_gain_to_split': 3.2223978690506403, 'bagging_fraction': 0.9, 'bagging_freq': 1, 'feature_fraction': 0.4}. Best is trial 7 with value: 1101.1466850284496.\u001b[0m\n",
            "\u001b[32m[I 2021-11-07 07:13:11,045]\u001b[0m Trial 9 finished with value: 1101.1937685245562 and parameters: {'objective': 'rmse', 'n_estimators': 10000, 'learning_rate': 0.15165140160872484, 'num_leaves': 1140, 'max_depth': 8, 'min_data_in_leaf': 6600, 'lambda_l1': 80, 'lambda_l2': 35, 'min_gain_to_split': 12.546771592487872, 'bagging_fraction': 0.6000000000000001, 'bagging_freq': 1, 'feature_fraction': 0.7}. Best is trial 7 with value: 1101.1466850284496.\u001b[0m\n",
            "\u001b[32m[I 2021-11-07 07:13:12,952]\u001b[0m Trial 10 finished with value: 1101.1365687406749 and parameters: {'objective': 'rmse', 'n_estimators': 10000, 'learning_rate': 0.26731582671075127, 'num_leaves': 2780, 'max_depth': 3, 'min_data_in_leaf': 3100, 'lambda_l1': 0, 'lambda_l2': 0, 'min_gain_to_split': 7.899627962044808, 'bagging_fraction': 0.4, 'bagging_freq': 1, 'feature_fraction': 0.2}. Best is trial 10 with value: 1101.1365687406749.\u001b[0m\n",
            "\u001b[32m[I 2021-11-07 07:13:14,848]\u001b[0m Trial 11 finished with value: 1101.1346558829352 and parameters: {'objective': 'rmse', 'n_estimators': 10000, 'learning_rate': 0.2960268076321825, 'num_leaves': 3000, 'max_depth': 4, 'min_data_in_leaf': 3200, 'lambda_l1': 0, 'lambda_l2': 0, 'min_gain_to_split': 8.637587127137378, 'bagging_fraction': 0.4, 'bagging_freq': 1, 'feature_fraction': 0.2}. Best is trial 11 with value: 1101.1346558829352.\u001b[0m\n",
            "\u001b[32m[I 2021-11-07 07:13:16,723]\u001b[0m Trial 12 finished with value: 1101.1344077843498 and parameters: {'objective': 'rmse', 'n_estimators': 10000, 'learning_rate': 0.29818696028695224, 'num_leaves': 2940, 'max_depth': 3, 'min_data_in_leaf': 3500, 'lambda_l1': 0, 'lambda_l2': 5, 'min_gain_to_split': 6.941231005169081, 'bagging_fraction': 0.4, 'bagging_freq': 1, 'feature_fraction': 0.2}. Best is trial 12 with value: 1101.1344077843498.\u001b[0m\n",
            "\u001b[32m[I 2021-11-07 07:13:17,650]\u001b[0m Trial 13 finished with value: 1101.2001448874757 and parameters: {'objective': 'rmse', 'n_estimators': 10000, 'learning_rate': 0.2546254194762486, 'num_leaves': 3000, 'max_depth': 3, 'min_data_in_leaf': 3200, 'lambda_l1': 60, 'lambda_l2': 0, 'min_gain_to_split': 6.252005706611528, 'bagging_fraction': 0.8, 'bagging_freq': 1, 'feature_fraction': 0.4}. Best is trial 12 with value: 1101.1344077843498.\u001b[0m\n",
            "\u001b[32m[I 2021-11-07 07:13:19,545]\u001b[0m Trial 14 finished with value: 1101.134661480284 and parameters: {'objective': 'rmse', 'n_estimators': 10000, 'learning_rate': 0.29670974168206976, 'num_leaves': 2480, 'max_depth': 5, 'min_data_in_leaf': 2800, 'lambda_l1': 20, 'lambda_l2': 10, 'min_gain_to_split': 9.37624066235297, 'bagging_fraction': 0.4, 'bagging_freq': 1, 'feature_fraction': 0.30000000000000004}. Best is trial 12 with value: 1101.1344077843498.\u001b[0m\n",
            "\u001b[32m[I 2021-11-07 07:13:20,708]\u001b[0m Trial 15 finished with value: 1101.160293154196 and parameters: {'objective': 'rmse', 'n_estimators': 10000, 'learning_rate': 0.2317002147193981, 'num_leaves': 2200, 'max_depth': 5, 'min_data_in_leaf': 4500, 'lambda_l1': 15, 'lambda_l2': 50, 'min_gain_to_split': 6.6930230194105835, 'bagging_fraction': 0.5, 'bagging_freq': 1, 'feature_fraction': 0.2}. Best is trial 12 with value: 1101.1344077843498.\u001b[0m\n",
            "\u001b[32m[I 2021-11-07 07:13:21,416]\u001b[0m Trial 16 finished with value: 1101.1331434826402 and parameters: {'objective': 'rmse', 'n_estimators': 10000, 'learning_rate': 0.2213812058562856, 'num_leaves': 2100, 'max_depth': 4, 'min_data_in_leaf': 2100, 'lambda_l1': 45, 'lambda_l2': 100, 'min_gain_to_split': 10.77480185320203, 'bagging_fraction': 0.2, 'bagging_freq': 1, 'feature_fraction': 0.4}. Best is trial 16 with value: 1101.1331434826402.\u001b[0m\n",
            "\u001b[32m[I 2021-11-07 07:13:22,221]\u001b[0m Trial 17 finished with value: 1101.1397106272962 and parameters: {'objective': 'rmse', 'n_estimators': 10000, 'learning_rate': 0.21092270994798015, 'num_leaves': 2020, 'max_depth': 6, 'min_data_in_leaf': 1900, 'lambda_l1': 55, 'lambda_l2': 100, 'min_gain_to_split': 10.703294896910958, 'bagging_fraction': 0.2, 'bagging_freq': 1, 'feature_fraction': 0.4}. Best is trial 16 with value: 1101.1331434826402.\u001b[0m\n",
            "\u001b[32m[I 2021-11-07 07:13:22,991]\u001b[0m Trial 18 finished with value: 1101.1324046186187 and parameters: {'objective': 'regression', 'n_estimators': 10000, 'learning_rate': 0.2461393450663104, 'num_leaves': 2480, 'max_depth': 3, 'min_data_in_leaf': 2000, 'lambda_l1': 45, 'lambda_l2': 65, 'min_gain_to_split': 11.15769666700507, 'bagging_fraction': 0.2, 'bagging_freq': 1, 'feature_fraction': 0.5}. Best is trial 18 with value: 1101.1324046186187.\u001b[0m\n",
            "\u001b[32m[I 2021-11-07 07:13:23,825]\u001b[0m Trial 19 finished with value: 1101.1688702966455 and parameters: {'objective': 'regression', 'n_estimators': 10000, 'learning_rate': 0.10631954464242059, 'num_leaves': 2440, 'max_depth': 4, 'min_data_in_leaf': 1800, 'lambda_l1': 45, 'lambda_l2': 70, 'min_gain_to_split': 12.317592477325663, 'bagging_fraction': 0.2, 'bagging_freq': 1, 'feature_fraction': 0.5}. Best is trial 18 with value: 1101.1324046186187.\u001b[0m\n",
            "\u001b[32m[I 2021-11-07 07:13:24,813]\u001b[0m Trial 20 finished with value: 1101.1439096899314 and parameters: {'objective': 'regression', 'n_estimators': 10000, 'learning_rate': 0.19759644520867228, 'num_leaves': 1960, 'max_depth': 9, 'min_data_in_leaf': 2000, 'lambda_l1': 35, 'lambda_l2': 100, 'min_gain_to_split': 10.54785669390416, 'bagging_fraction': 0.30000000000000004, 'bagging_freq': 1, 'feature_fraction': 0.6000000000000001}. Best is trial 18 with value: 1101.1324046186187.\u001b[0m\n",
            "\u001b[32m[I 2021-11-07 07:13:25,493]\u001b[0m Trial 21 finished with value: 1101.1466081157569 and parameters: {'objective': 'regression', 'n_estimators': 10000, 'learning_rate': 0.24748711177424812, 'num_leaves': 2560, 'max_depth': 3, 'min_data_in_leaf': 4600, 'lambda_l1': 65, 'lambda_l2': 85, 'min_gain_to_split': 12.633131694079209, 'bagging_fraction': 0.2, 'bagging_freq': 1, 'feature_fraction': 0.30000000000000004}. Best is trial 18 with value: 1101.1324046186187.\u001b[0m\n",
            "\u001b[32m[I 2021-11-07 07:13:26,349]\u001b[0m Trial 22 finished with value: 1101.1390463159003 and parameters: {'objective': 'regression', 'n_estimators': 10000, 'learning_rate': 0.26974397232043323, 'num_leaves': 2260, 'max_depth': 4, 'min_data_in_leaf': 3800, 'lambda_l1': 45, 'lambda_l2': 65, 'min_gain_to_split': 10.09508449486972, 'bagging_fraction': 0.30000000000000004, 'bagging_freq': 1, 'feature_fraction': 0.5}. Best is trial 18 with value: 1101.1324046186187.\u001b[0m\n",
            "\u001b[32m[I 2021-11-07 07:13:27,504]\u001b[0m Trial 23 finished with value: 1101.1580393442568 and parameters: {'objective': 'regression', 'n_estimators': 10000, 'learning_rate': 0.24100747884050175, 'num_leaves': 1640, 'max_depth': 3, 'min_data_in_leaf': 2200, 'lambda_l1': 70, 'lambda_l2': 40, 'min_gain_to_split': 6.722450749683376, 'bagging_fraction': 0.5, 'bagging_freq': 1, 'feature_fraction': 0.4}. Best is trial 18 with value: 1101.1324046186187.\u001b[0m\n",
            "\u001b[32m[I 2021-11-07 07:13:28,115]\u001b[0m Trial 24 finished with value: 1101.1510476140882 and parameters: {'objective': 'rmse', 'n_estimators': 10000, 'learning_rate': 0.19907988506247698, 'num_leaves': 2700, 'max_depth': 6, 'min_data_in_leaf': 5800, 'lambda_l1': 35, 'lambda_l2': 85, 'min_gain_to_split': 11.665344609327523, 'bagging_fraction': 0.30000000000000004, 'bagging_freq': 1, 'feature_fraction': 0.30000000000000004}. Best is trial 18 with value: 1101.1324046186187.\u001b[0m\n",
            "\u001b[32m[I 2021-11-07 07:13:28,946]\u001b[0m Trial 25 finished with value: 1101.1589993222915 and parameters: {'objective': 'rmse', 'n_estimators': 10000, 'learning_rate': 0.1345157992953258, 'num_leaves': 2220, 'max_depth': 4, 'min_data_in_leaf': 1300, 'lambda_l1': 100, 'lambda_l2': 60, 'min_gain_to_split': 13.557776507672665, 'bagging_fraction': 0.2, 'bagging_freq': 1, 'feature_fraction': 0.6000000000000001}. Best is trial 18 with value: 1101.1324046186187.\u001b[0m\n",
            "\u001b[32m[I 2021-11-07 07:13:29,849]\u001b[0m Trial 26 finished with value: 1101.187758735063 and parameters: {'objective': 'regression', 'n_estimators': 10000, 'learning_rate': 0.27243047572807244, 'num_leaves': 2760, 'max_depth': 6, 'min_data_in_leaf': 200, 'lambda_l1': 55, 'lambda_l2': 75, 'min_gain_to_split': 5.0627054589421245, 'bagging_fraction': 0.7, 'bagging_freq': 1, 'feature_fraction': 0.5}. Best is trial 18 with value: 1101.1324046186187.\u001b[0m\n",
            "\u001b[32m[I 2021-11-07 07:13:30,629]\u001b[0m Trial 27 finished with value: 1101.1439221378585 and parameters: {'objective': 'rmse', 'n_estimators': 10000, 'learning_rate': 0.22670765265925624, 'num_leaves': 760, 'max_depth': 3, 'min_data_in_leaf': 3800, 'lambda_l1': 15, 'lambda_l2': 90, 'min_gain_to_split': 7.556669880522524, 'bagging_fraction': 0.30000000000000004, 'bagging_freq': 1, 'feature_fraction': 0.4}. Best is trial 18 with value: 1101.1324046186187.\u001b[0m\n",
            "\u001b[32m[I 2021-11-07 07:13:31,867]\u001b[0m Trial 28 finished with value: 1101.156804286494 and parameters: {'objective': 'regression', 'n_estimators': 10000, 'learning_rate': 0.25446999850411445, 'num_leaves': 1980, 'max_depth': 5, 'min_data_in_leaf': 2500, 'lambda_l1': 40, 'lambda_l2': 40, 'min_gain_to_split': 2.7976422881041128, 'bagging_fraction': 0.5, 'bagging_freq': 1, 'feature_fraction': 0.30000000000000004}. Best is trial 18 with value: 1101.1324046186187.\u001b[0m\n",
            "\u001b[32m[I 2021-11-07 07:13:33,672]\u001b[0m Trial 29 finished with value: 1101.1365642912053 and parameters: {'objective': 'regression', 'n_estimators': 10000, 'learning_rate': 0.29033233454830826, 'num_leaves': 2340, 'max_depth': 4, 'min_data_in_leaf': 3800, 'lambda_l1': 50, 'lambda_l2': 60, 'min_gain_to_split': 9.824766112020443, 'bagging_fraction': 0.4, 'bagging_freq': 1, 'feature_fraction': 0.7}. Best is trial 18 with value: 1101.1324046186187.\u001b[0m\n",
            "\u001b[32m[I 2021-11-07 07:13:34,466]\u001b[0m Trial 30 finished with value: 1101.1257525926198 and parameters: {'objective': 'rmse', 'n_estimators': 10000, 'learning_rate': 0.27821486634465215, 'num_leaves': 2620, 'max_depth': 3, 'min_data_in_leaf': 1600, 'lambda_l1': 25, 'lambda_l2': 50, 'min_gain_to_split': 5.422646808505833, 'bagging_fraction': 0.2, 'bagging_freq': 1, 'feature_fraction': 0.5}. Best is trial 30 with value: 1101.1257525926198.\u001b[0m\n",
            "\u001b[32m[I 2021-11-07 07:13:35,269]\u001b[0m Trial 31 finished with value: 1101.125146407396 and parameters: {'objective': 'rmse', 'n_estimators': 10000, 'learning_rate': 0.2816636449940262, 'num_leaves': 2640, 'max_depth': 3, 'min_data_in_leaf': 1700, 'lambda_l1': 30, 'lambda_l2': 50, 'min_gain_to_split': 3.432896839066917, 'bagging_fraction': 0.2, 'bagging_freq': 1, 'feature_fraction': 0.5}. Best is trial 31 with value: 1101.125146407396.\u001b[0m\n",
            "\u001b[32m[I 2021-11-07 07:13:36,079]\u001b[0m Trial 32 finished with value: 1101.1265259919082 and parameters: {'objective': 'rmse', 'n_estimators': 10000, 'learning_rate': 0.27550434110416494, 'num_leaves': 2640, 'max_depth': 4, 'min_data_in_leaf': 1500, 'lambda_l1': 25, 'lambda_l2': 50, 'min_gain_to_split': 3.432472898219397, 'bagging_fraction': 0.2, 'bagging_freq': 1, 'feature_fraction': 0.6000000000000001}. Best is trial 31 with value: 1101.125146407396.\u001b[0m\n",
            "\u001b[32m[I 2021-11-07 07:13:36,877]\u001b[0m Trial 33 finished with value: 1101.126896916537 and parameters: {'objective': 'rmse', 'n_estimators': 10000, 'learning_rate': 0.27185691098041787, 'num_leaves': 2620, 'max_depth': 3, 'min_data_in_leaf': 1400, 'lambda_l1': 25, 'lambda_l2': 50, 'min_gain_to_split': 0.16366073333041609, 'bagging_fraction': 0.2, 'bagging_freq': 1, 'feature_fraction': 0.6000000000000001}. Best is trial 31 with value: 1101.125146407396.\u001b[0m\n",
            "\u001b[32m[I 2021-11-07 07:13:37,698]\u001b[0m Trial 34 finished with value: 1101.1263257257276 and parameters: {'objective': 'rmse', 'n_estimators': 10000, 'learning_rate': 0.27613682606740075, 'num_leaves': 2640, 'max_depth': 4, 'min_data_in_leaf': 1200, 'lambda_l1': 25, 'lambda_l2': 45, 'min_gain_to_split': 0.03363255942683846, 'bagging_fraction': 0.2, 'bagging_freq': 1, 'feature_fraction': 0.6000000000000001}. Best is trial 31 with value: 1101.125146407396.\u001b[0m\n",
            "\u001b[32m[I 2021-11-07 07:13:38,663]\u001b[0m Trial 35 finished with value: 1101.1381846061736 and parameters: {'objective': 'rmse', 'n_estimators': 10000, 'learning_rate': 0.27905628089475404, 'num_leaves': 2800, 'max_depth': 7, 'min_data_in_leaf': 200, 'lambda_l1': 25, 'lambda_l2': 45, 'min_gain_to_split': 2.261160912579785, 'bagging_fraction': 0.30000000000000004, 'bagging_freq': 1, 'feature_fraction': 0.7}. Best is trial 31 with value: 1101.125146407396.\u001b[0m\n",
            "\u001b[32m[I 2021-11-07 07:13:39,468]\u001b[0m Trial 36 finished with value: 1101.1259097872905 and parameters: {'objective': 'rmse', 'n_estimators': 10000, 'learning_rate': 0.2796918925893988, 'num_leaves': 1740, 'max_depth': 5, 'min_data_in_leaf': 900, 'lambda_l1': 30, 'lambda_l2': 55, 'min_gain_to_split': 3.827109718029244, 'bagging_fraction': 0.2, 'bagging_freq': 1, 'feature_fraction': 0.6000000000000001}. Best is trial 31 with value: 1101.125146407396.\u001b[0m\n",
            "\u001b[32m[I 2021-11-07 07:13:40,400]\u001b[0m Trial 37 finished with value: 1101.1388051941565 and parameters: {'objective': 'rmse', 'n_estimators': 10000, 'learning_rate': 0.25952531422425557, 'num_leaves': 1780, 'max_depth': 5, 'min_data_in_leaf': 700, 'lambda_l1': 35, 'lambda_l2': 55, 'min_gain_to_split': 1.6667775396550093, 'bagging_fraction': 0.30000000000000004, 'bagging_freq': 1, 'feature_fraction': 0.8}. Best is trial 31 with value: 1101.125146407396.\u001b[0m\n",
            "\u001b[32m[I 2021-11-07 07:13:41,200]\u001b[0m Trial 38 finished with value: 1101.1439616081059 and parameters: {'objective': 'rmse', 'n_estimators': 10000, 'learning_rate': 0.18688844066315952, 'num_leaves': 1400, 'max_depth': 6, 'min_data_in_leaf': 1000, 'lambda_l1': 10, 'lambda_l2': 40, 'min_gain_to_split': 4.031396584954388, 'bagging_fraction': 0.2, 'bagging_freq': 1, 'feature_fraction': 0.6000000000000001}. Best is trial 31 with value: 1101.125146407396.\u001b[0m\n",
            "\u001b[32m[I 2021-11-07 07:13:42,116]\u001b[0m Trial 39 finished with value: 1101.1927035077206 and parameters: {'objective': 'rmse', 'n_estimators': 10000, 'learning_rate': 0.23857034840084596, 'num_leaves': 700, 'max_depth': 8, 'min_data_in_leaf': 600, 'lambda_l1': 30, 'lambda_l2': 30, 'min_gain_to_split': 5.390445245379695, 'bagging_fraction': 0.7, 'bagging_freq': 1, 'feature_fraction': 0.7}. Best is trial 31 with value: 1101.125146407396.\u001b[0m\n",
            "\u001b[32m[I 2021-11-07 07:13:43,168]\u001b[0m Trial 40 finished with value: 1101.2029435848658 and parameters: {'objective': 'rmse', 'n_estimators': 10000, 'learning_rate': 0.030268760559075583, 'num_leaves': 1720, 'max_depth': 5, 'min_data_in_leaf': 2500, 'lambda_l1': 15, 'lambda_l2': 55, 'min_gain_to_split': 0.06354202607438089, 'bagging_fraction': 0.30000000000000004, 'bagging_freq': 1, 'feature_fraction': 0.5}. Best is trial 31 with value: 1101.125146407396.\u001b[0m\n",
            "\u001b[32m[I 2021-11-07 07:13:43,988]\u001b[0m Trial 41 finished with value: 1101.1252663398404 and parameters: {'objective': 'rmse', 'n_estimators': 10000, 'learning_rate': 0.2823453355009308, 'num_leaves': 2340, 'max_depth': 4, 'min_data_in_leaf': 1100, 'lambda_l1': 25, 'lambda_l2': 45, 'min_gain_to_split': 3.8432406048359704, 'bagging_fraction': 0.2, 'bagging_freq': 1, 'feature_fraction': 0.6000000000000001}. Best is trial 31 with value: 1101.125146407396.\u001b[0m\n",
            "\u001b[32m[I 2021-11-07 07:13:44,799]\u001b[0m Trial 42 finished with value: 1101.1244886675022 and parameters: {'objective': 'rmse', 'n_estimators': 10000, 'learning_rate': 0.2870328863087929, 'num_leaves': 2400, 'max_depth': 4, 'min_data_in_leaf': 1100, 'lambda_l1': 30, 'lambda_l2': 45, 'min_gain_to_split': 4.235658010559229, 'bagging_fraction': 0.2, 'bagging_freq': 1, 'feature_fraction': 0.6000000000000001}. Best is trial 42 with value: 1101.1244886675022.\u001b[0m\n",
            "\u001b[32m[I 2021-11-07 07:13:45,610]\u001b[0m Trial 43 finished with value: 1101.1247075986328 and parameters: {'objective': 'rmse', 'n_estimators': 10000, 'learning_rate': 0.2844658450046165, 'num_leaves': 2340, 'max_depth': 5, 'min_data_in_leaf': 200, 'lambda_l1': 30, 'lambda_l2': 35, 'min_gain_to_split': 4.086451370362285, 'bagging_fraction': 0.2, 'bagging_freq': 1, 'feature_fraction': 0.9}. Best is trial 42 with value: 1101.1244886675022.\u001b[0m\n",
            "\u001b[32m[I 2021-11-07 07:13:46,577]\u001b[0m Trial 44 finished with value: 1101.1371312481947 and parameters: {'objective': 'rmse', 'n_estimators': 10000, 'learning_rate': 0.28853623307108306, 'num_leaves': 2380, 'max_depth': 4, 'min_data_in_leaf': 200, 'lambda_l1': 20, 'lambda_l2': 20, 'min_gain_to_split': 5.7169537030339574, 'bagging_fraction': 0.30000000000000004, 'bagging_freq': 1, 'feature_fraction': 0.9}. Best is trial 42 with value: 1101.1244886675022.\u001b[0m\n",
            "\u001b[32m[I 2021-11-07 07:13:47,381]\u001b[0m Trial 45 finished with value: 1101.1277660210862 and parameters: {'objective': 'rmse', 'n_estimators': 10000, 'learning_rate': 0.2625487104468334, 'num_leaves': 2320, 'max_depth': 3, 'min_data_in_leaf': 1400, 'lambda_l1': 40, 'lambda_l2': 30, 'min_gain_to_split': 4.298463879626071, 'bagging_fraction': 0.2, 'bagging_freq': 1, 'feature_fraction': 0.9}. Best is trial 42 with value: 1101.1244886675022.\u001b[0m\n",
            "\u001b[32m[I 2021-11-07 07:13:47,549]\u001b[0m Trial 46 finished with value: 1103.3098459211476 and parameters: {'objective': 'rmse', 'n_estimators': 10000, 'learning_rate': 0.2979025421407196, 'num_leaves': 2820, 'max_depth': 7, 'min_data_in_leaf': 7800, 'lambda_l1': 10, 'lambda_l2': 35, 'min_gain_to_split': 2.187033863965972, 'bagging_fraction': 0.30000000000000004, 'bagging_freq': 1, 'feature_fraction': 0.8}. Best is trial 42 with value: 1101.1244886675022.\u001b[0m\n",
            "\u001b[32m[I 2021-11-07 07:13:48,500]\u001b[0m Trial 47 finished with value: 1101.1372566342793 and parameters: {'objective': 'rmse', 'n_estimators': 10000, 'learning_rate': 0.2865075204745401, 'num_leaves': 2080, 'max_depth': 4, 'min_data_in_leaf': 500, 'lambda_l1': 35, 'lambda_l2': 45, 'min_gain_to_split': 4.565100067064234, 'bagging_fraction': 0.30000000000000004, 'bagging_freq': 1, 'feature_fraction': 0.8}. Best is trial 42 with value: 1101.1244886675022.\u001b[0m\n",
            "\u001b[32m[I 2021-11-07 07:13:50,312]\u001b[0m Trial 48 finished with value: 1101.1381018291074 and parameters: {'objective': 'rmse', 'n_estimators': 10000, 'learning_rate': 0.26051299228808905, 'num_leaves': 1900, 'max_depth': 3, 'min_data_in_leaf': 2700, 'lambda_l1': 30, 'lambda_l2': 35, 'min_gain_to_split': 2.797617880333647, 'bagging_fraction': 0.4, 'bagging_freq': 1, 'feature_fraction': 0.7}. Best is trial 42 with value: 1101.1244886675022.\u001b[0m\n",
            "\u001b[32m[I 2021-11-07 07:13:51,174]\u001b[0m Trial 49 finished with value: 1101.1383744535972 and parameters: {'objective': 'rmse', 'n_estimators': 10000, 'learning_rate': 0.20862266846634744, 'num_leaves': 2840, 'max_depth': 5, 'min_data_in_leaf': 800, 'lambda_l1': 10, 'lambda_l2': 20, 'min_gain_to_split': 5.776007702994646, 'bagging_fraction': 0.2, 'bagging_freq': 1, 'feature_fraction': 0.5}. Best is trial 42 with value: 1101.1244886675022.\u001b[0m\n",
            "\u001b[32m[I 2021-11-07 07:13:52,101]\u001b[0m Trial 50 finished with value: 1101.2059752107407 and parameters: {'objective': 'rmse', 'n_estimators': 10000, 'learning_rate': 0.2996875447341356, 'num_leaves': 2520, 'max_depth': 10, 'min_data_in_leaf': 1500, 'lambda_l1': 20, 'lambda_l2': 30, 'min_gain_to_split': 1.3880221098411147, 'bagging_fraction': 0.9, 'bagging_freq': 1, 'feature_fraction': 0.7}. Best is trial 42 with value: 1101.1244886675022.\u001b[0m\n",
            "\u001b[32m[I 2021-11-07 07:13:52,939]\u001b[0m Trial 51 finished with value: 1101.1252325069306 and parameters: {'objective': 'rmse', 'n_estimators': 10000, 'learning_rate': 0.28431105653720945, 'num_leaves': 2160, 'max_depth': 5, 'min_data_in_leaf': 800, 'lambda_l1': 30, 'lambda_l2': 60, 'min_gain_to_split': 3.736226812653972, 'bagging_fraction': 0.2, 'bagging_freq': 1, 'feature_fraction': 0.6000000000000001}. Best is trial 42 with value: 1101.1244886675022.\u001b[0m\n",
            "\u001b[32m[I 2021-11-07 07:13:53,760]\u001b[0m Trial 52 finished with value: 1101.1248082513073 and parameters: {'objective': 'rmse', 'n_estimators': 10000, 'learning_rate': 0.28687161517774845, 'num_leaves': 2240, 'max_depth': 4, 'min_data_in_leaf': 1700, 'lambda_l1': 40, 'lambda_l2': 60, 'min_gain_to_split': 3.4960694545358546, 'bagging_fraction': 0.2, 'bagging_freq': 1, 'feature_fraction': 0.5}. Best is trial 42 with value: 1101.1244886675022.\u001b[0m\n",
            "\u001b[32m[I 2021-11-07 07:13:53,894]\u001b[0m Trial 53 finished with value: 1106.533712257117 and parameters: {'objective': 'rmse', 'n_estimators': 10000, 'learning_rate': 0.2860007844976373, 'num_leaves': 2160, 'max_depth': 6, 'min_data_in_leaf': 10000, 'lambda_l1': 40, 'lambda_l2': 60, 'min_gain_to_split': 3.281045861449586, 'bagging_fraction': 0.2, 'bagging_freq': 1, 'feature_fraction': 0.6000000000000001}. Best is trial 42 with value: 1101.1244886675022.\u001b[0m\n",
            "\u001b[32m[I 2021-11-07 07:13:54,720]\u001b[0m Trial 54 finished with value: 1101.1305477915098 and parameters: {'objective': 'rmse', 'n_estimators': 10000, 'learning_rate': 0.2555293252458305, 'num_leaves': 2420, 'max_depth': 5, 'min_data_in_leaf': 500, 'lambda_l1': 40, 'lambda_l2': 65, 'min_gain_to_split': 2.5075756843631174, 'bagging_fraction': 0.2, 'bagging_freq': 1, 'feature_fraction': 0.5}. Best is trial 42 with value: 1101.1244886675022.\u001b[0m\n",
            "\u001b[32m[I 2021-11-07 07:13:55,645]\u001b[0m Trial 55 finished with value: 1101.1397979401106 and parameters: {'objective': 'rmse', 'n_estimators': 10000, 'learning_rate': 0.235492478881845, 'num_leaves': 1860, 'max_depth': 4, 'min_data_in_leaf': 1100, 'lambda_l1': 50, 'lambda_l2': 70, 'min_gain_to_split': 3.8508331046695314, 'bagging_fraction': 0.30000000000000004, 'bagging_freq': 1, 'feature_fraction': 0.5}. Best is trial 42 with value: 1101.1244886675022.\u001b[0m\n",
            "\u001b[32m[I 2021-11-07 07:13:56,464]\u001b[0m Trial 56 finished with value: 1101.1437481790583 and parameters: {'objective': 'rmse', 'n_estimators': 10000, 'learning_rate': 0.24543298596219354, 'num_leaves': 1540, 'max_depth': 5, 'min_data_in_leaf': 2200, 'lambda_l1': 30, 'lambda_l2': 45, 'min_gain_to_split': 1.0081241650903427, 'bagging_fraction': 0.2, 'bagging_freq': 1, 'feature_fraction': 0.4}. Best is trial 42 with value: 1101.1244886675022.\u001b[0m\n",
            "\u001b[32m[I 2021-11-07 07:13:57,409]\u001b[0m Trial 57 finished with value: 1101.165420259578 and parameters: {'objective': 'rmse', 'n_estimators': 10000, 'learning_rate': 0.08253340842243614, 'num_leaves': 2120, 'max_depth': 4, 'min_data_in_leaf': 1800, 'lambda_l1': 20, 'lambda_l2': 40, 'min_gain_to_split': 4.890573185162094, 'bagging_fraction': 0.30000000000000004, 'bagging_freq': 1, 'feature_fraction': 0.9}. Best is trial 42 with value: 1101.1244886675022.\u001b[0m\n",
            "\u001b[32m[I 2021-11-07 07:13:58,222]\u001b[0m Trial 58 finished with value: 1101.1561201681238 and parameters: {'objective': 'rmse', 'n_estimators': 10000, 'learning_rate': 0.14133760105966509, 'num_leaves': 2320, 'max_depth': 12, 'min_data_in_leaf': 600, 'lambda_l1': 50, 'lambda_l2': 60, 'min_gain_to_split': 3.423818791540937, 'bagging_fraction': 0.2, 'bagging_freq': 1, 'feature_fraction': 0.6000000000000001}. Best is trial 42 with value: 1101.1244886675022.\u001b[0m\n",
            "\u001b[32m[I 2021-11-07 07:13:58,948]\u001b[0m Trial 59 finished with value: 1101.1379481813844 and parameters: {'objective': 'rmse', 'n_estimators': 10000, 'learning_rate': 0.26461979463498614, 'num_leaves': 2520, 'max_depth': 6, 'min_data_in_leaf': 2400, 'lambda_l1': 35, 'lambda_l2': 75, 'min_gain_to_split': 4.502280330277428, 'bagging_fraction': 0.2, 'bagging_freq': 1, 'feature_fraction': 0.7}. Best is trial 42 with value: 1101.1244886675022.\u001b[0m\n",
            "\u001b[32m[I 2021-11-07 07:13:59,795]\u001b[0m Trial 60 finished with value: 1101.1360049595369 and parameters: {'objective': 'rmse', 'n_estimators': 10000, 'learning_rate': 0.2850421549830639, 'num_leaves': 2900, 'max_depth': 4, 'min_data_in_leaf': 3100, 'lambda_l1': 30, 'lambda_l2': 55, 'min_gain_to_split': 0.8312423858811568, 'bagging_fraction': 0.30000000000000004, 'bagging_freq': 1, 'feature_fraction': 0.4}. Best is trial 42 with value: 1101.1244886675022.\u001b[0m\n",
            "\u001b[32m[I 2021-11-07 07:14:00,584]\u001b[0m Trial 61 finished with value: 1101.122221981065 and parameters: {'objective': 'rmse', 'n_estimators': 10000, 'learning_rate': 0.29918600966949127, 'num_leaves': 2260, 'max_depth': 3, 'min_data_in_leaf': 1600, 'lambda_l1': 25, 'lambda_l2': 50, 'min_gain_to_split': 1.9238363214837642, 'bagging_fraction': 0.2, 'bagging_freq': 1, 'feature_fraction': 0.5}. Best is trial 61 with value: 1101.122221981065.\u001b[0m\n",
            "\u001b[32m[I 2021-11-07 07:14:01,381]\u001b[0m Trial 62 finished with value: 1101.1232906410733 and parameters: {'objective': 'rmse', 'n_estimators': 10000, 'learning_rate': 0.29204646666315215, 'num_leaves': 2240, 'max_depth': 3, 'min_data_in_leaf': 1100, 'lambda_l1': 20, 'lambda_l2': 45, 'min_gain_to_split': 1.699102299455025, 'bagging_fraction': 0.2, 'bagging_freq': 1, 'feature_fraction': 0.5}. Best is trial 61 with value: 1101.122221981065.\u001b[0m\n",
            "\u001b[32m[I 2021-11-07 07:14:02,176]\u001b[0m Trial 63 finished with value: 1101.1222436233713 and parameters: {'objective': 'rmse', 'n_estimators': 10000, 'learning_rate': 0.29904935644242764, 'num_leaves': 2180, 'max_depth': 3, 'min_data_in_leaf': 1700, 'lambda_l1': 20, 'lambda_l2': 50, 'min_gain_to_split': 1.7389498744622736, 'bagging_fraction': 0.2, 'bagging_freq': 1, 'feature_fraction': 0.5}. Best is trial 61 with value: 1101.122221981065.\u001b[0m\n",
            "\u001b[32m[I 2021-11-07 07:14:02,983]\u001b[0m Trial 64 finished with value: 1101.1222943542004 and parameters: {'objective': 'rmse', 'n_estimators': 10000, 'learning_rate': 0.29692110130527016, 'num_leaves': 2240, 'max_depth': 3, 'min_data_in_leaf': 1700, 'lambda_l1': 15, 'lambda_l2': 35, 'min_gain_to_split': 1.8213799949511338, 'bagging_fraction': 0.2, 'bagging_freq': 1, 'feature_fraction': 0.5}. Best is trial 61 with value: 1101.122221981065.\u001b[0m\n",
            "\u001b[32m[I 2021-11-07 07:14:04,009]\u001b[0m Trial 65 finished with value: 1101.1349416188273 and parameters: {'objective': 'rmse', 'n_estimators': 10000, 'learning_rate': 0.2993918953041569, 'num_leaves': 2020, 'max_depth': 3, 'min_data_in_leaf': 2000, 'lambda_l1': 5, 'lambda_l2': 35, 'min_gain_to_split': 1.9179741864881825, 'bagging_fraction': 0.30000000000000004, 'bagging_freq': 1, 'feature_fraction': 0.4}. Best is trial 61 with value: 1101.122221981065.\u001b[0m\n",
            "\u001b[32m[I 2021-11-07 07:14:04,665]\u001b[0m Trial 66 finished with value: 1101.1274048126852 and parameters: {'objective': 'rmse', 'n_estimators': 10000, 'learning_rate': 0.29339925666753003, 'num_leaves': 2260, 'max_depth': 3, 'min_data_in_leaf': 2800, 'lambda_l1': 15, 'lambda_l2': 40, 'min_gain_to_split': 2.7568742632703302, 'bagging_fraction': 0.2, 'bagging_freq': 1, 'feature_fraction': 0.5}. Best is trial 61 with value: 1101.122221981065.\u001b[0m\n",
            "\u001b[32m[I 2021-11-07 07:14:05,450]\u001b[0m Trial 67 finished with value: 1101.1266396391225 and parameters: {'objective': 'rmse', 'n_estimators': 10000, 'learning_rate': 0.26801903619758555, 'num_leaves': 20, 'max_depth': 3, 'min_data_in_leaf': 1700, 'lambda_l1': 20, 'lambda_l2': 25, 'min_gain_to_split': 0.6577972743783904, 'bagging_fraction': 0.2, 'bagging_freq': 1, 'feature_fraction': 0.5}. Best is trial 61 with value: 1101.122221981065.\u001b[0m\n",
            "\u001b[32m[I 2021-11-07 07:14:06,307]\u001b[0m Trial 68 finished with value: 1101.1915045370297 and parameters: {'objective': 'rmse', 'n_estimators': 10000, 'learning_rate': 0.2494872986635585, 'num_leaves': 2040, 'max_depth': 3, 'min_data_in_leaf': 5500, 'lambda_l1': 10, 'lambda_l2': 35, 'min_gain_to_split': 1.5097818018259657, 'bagging_fraction': 0.7, 'bagging_freq': 1, 'feature_fraction': 0.5}. Best is trial 61 with value: 1101.122221981065.\u001b[0m\n",
            "\u001b[32m[I 2021-11-07 07:14:07,035]\u001b[0m Trial 69 finished with value: 1101.134944559201 and parameters: {'objective': 'rmse', 'n_estimators': 10000, 'learning_rate': 0.293194009242458, 'num_leaves': 1900, 'max_depth': 3, 'min_data_in_leaf': 4200, 'lambda_l1': 5, 'lambda_l2': 25, 'min_gain_to_split': 1.9091027476459699, 'bagging_fraction': 0.30000000000000004, 'bagging_freq': 1, 'feature_fraction': 0.4}. Best is trial 61 with value: 1101.122221981065.\u001b[0m\n",
            "\u001b[32m[I 2021-11-07 07:14:07,961]\u001b[0m Trial 70 finished with value: 1101.197743208462 and parameters: {'objective': 'rmse', 'n_estimators': 10000, 'learning_rate': 0.2912102158639603, 'num_leaves': 2240, 'max_depth': 4, 'min_data_in_leaf': 1200, 'lambda_l1': 20, 'lambda_l2': 50, 'min_gain_to_split': 1.2802004515236316, 'bagging_fraction': 0.8, 'bagging_freq': 1, 'feature_fraction': 0.4}. Best is trial 61 with value: 1101.122221981065.\u001b[0m\n",
            "\u001b[32m[I 2021-11-07 07:14:08,760]\u001b[0m Trial 71 finished with value: 1101.1271407350455 and parameters: {'objective': 'rmse', 'n_estimators': 10000, 'learning_rate': 0.2705282127748581, 'num_leaves': 2420, 'max_depth': 3, 'min_data_in_leaf': 1800, 'lambda_l1': 15, 'lambda_l2': 50, 'min_gain_to_split': 3.0405550316017242, 'bagging_fraction': 0.2, 'bagging_freq': 1, 'feature_fraction': 0.5}. Best is trial 61 with value: 1101.122221981065.\u001b[0m\n",
            "\u001b[32m[I 2021-11-07 07:14:09,471]\u001b[0m Trial 72 finished with value: 1101.128237589358 and parameters: {'objective': 'rmse', 'n_estimators': 10000, 'learning_rate': 0.2995913637312314, 'num_leaves': 2520, 'max_depth': 3, 'min_data_in_leaf': 2300, 'lambda_l1': 25, 'lambda_l2': 45, 'min_gain_to_split': 2.3232529619918747, 'bagging_fraction': 0.2, 'bagging_freq': 1, 'feature_fraction': 0.5}. Best is trial 61 with value: 1101.122221981065.\u001b[0m\n",
            "\u001b[32m[I 2021-11-07 07:14:10,272]\u001b[0m Trial 73 finished with value: 1101.1252942407843 and parameters: {'objective': 'rmse', 'n_estimators': 10000, 'learning_rate': 0.27963882573481, 'num_leaves': 2280, 'max_depth': 3, 'min_data_in_leaf': 1500, 'lambda_l1': 35, 'lambda_l2': 40, 'min_gain_to_split': 0.7284909471343539, 'bagging_fraction': 0.2, 'bagging_freq': 1, 'feature_fraction': 0.5}. Best is trial 61 with value: 1101.122221981065.\u001b[0m\n",
            "\u001b[32m[I 2021-11-07 07:14:10,414]\u001b[0m Trial 74 finished with value: 1106.533712257117 and parameters: {'objective': 'rmse', 'n_estimators': 10000, 'learning_rate': 0.2698227974754185, 'num_leaves': 2740, 'max_depth': 4, 'min_data_in_leaf': 6900, 'lambda_l1': 15, 'lambda_l2': 55, 'min_gain_to_split': 1.8008997500773292, 'bagging_fraction': 0.2, 'bagging_freq': 1, 'feature_fraction': 0.5}. Best is trial 61 with value: 1101.122221981065.\u001b[0m\n",
            "\u001b[32m[I 2021-11-07 07:14:11,239]\u001b[0m Trial 75 finished with value: 1101.1497951802744 and parameters: {'objective': 'regression', 'n_estimators': 10000, 'learning_rate': 0.16330249549413642, 'num_leaves': 2460, 'max_depth': 4, 'min_data_in_leaf': 300, 'lambda_l1': 25, 'lambda_l2': 50, 'min_gain_to_split': 3.161523765306511, 'bagging_fraction': 0.2, 'bagging_freq': 1, 'feature_fraction': 0.4}. Best is trial 61 with value: 1101.122221981065.\u001b[0m\n",
            "\u001b[32m[I 2021-11-07 07:14:12,254]\u001b[0m Trial 76 finished with value: 1101.1357535477694 and parameters: {'objective': 'rmse', 'n_estimators': 10000, 'learning_rate': 0.28918645375650043, 'num_leaves': 2180, 'max_depth': 3, 'min_data_in_leaf': 1000, 'lambda_l1': 40, 'lambda_l2': 45, 'min_gain_to_split': 2.6620925157384994, 'bagging_fraction': 0.30000000000000004, 'bagging_freq': 1, 'feature_fraction': 0.5}. Best is trial 61 with value: 1101.122221981065.\u001b[0m\n",
            "\u001b[32m[I 2021-11-07 07:14:12,910]\u001b[0m Trial 77 finished with value: 1101.129108656457 and parameters: {'objective': 'rmse', 'n_estimators': 10000, 'learning_rate': 0.27701688526809015, 'num_leaves': 2580, 'max_depth': 3, 'min_data_in_leaf': 3000, 'lambda_l1': 20, 'lambda_l2': 35, 'min_gain_to_split': 2.2383307920117197, 'bagging_fraction': 0.2, 'bagging_freq': 1, 'feature_fraction': 0.5}. Best is trial 61 with value: 1101.122221981065.\u001b[0m\n",
            "\u001b[32m[I 2021-11-07 07:14:13,846]\u001b[0m Trial 78 finished with value: 1101.1645940444164 and parameters: {'objective': 'rmse', 'n_estimators': 10000, 'learning_rate': 0.25004070331496303, 'num_leaves': 2680, 'max_depth': 3, 'min_data_in_leaf': 3500, 'lambda_l1': 30, 'lambda_l2': 65, 'min_gain_to_split': 4.215137743334507, 'bagging_fraction': 0.6000000000000001, 'bagging_freq': 1, 'feature_fraction': 0.5}. Best is trial 61 with value: 1101.122221981065.\u001b[0m\n",
            "\u001b[32m[I 2021-11-07 07:14:15,729]\u001b[0m Trial 79 finished with value: 1101.1417034781157 and parameters: {'objective': 'rmse', 'n_estimators': 10000, 'learning_rate': 0.2587576379582175, 'num_leaves': 2380, 'max_depth': 4, 'min_data_in_leaf': 2000, 'lambda_l1': 35, 'lambda_l2': 55, 'min_gain_to_split': 0.46864653545464274, 'bagging_fraction': 0.4, 'bagging_freq': 1, 'feature_fraction': 0.6000000000000001}. Best is trial 61 with value: 1101.122221981065.\u001b[0m\n",
            "\u001b[32m[I 2021-11-07 07:14:16,571]\u001b[0m Trial 80 finished with value: 1101.164344581108 and parameters: {'objective': 'rmse', 'n_estimators': 10000, 'learning_rate': 0.11725695567033681, 'num_leaves': 2100, 'max_depth': 4, 'min_data_in_leaf': 1300, 'lambda_l1': 45, 'lambda_l2': 40, 'min_gain_to_split': 8.171305077796443, 'bagging_fraction': 0.2, 'bagging_freq': 1, 'feature_fraction': 0.4}. Best is trial 61 with value: 1101.122221981065.\u001b[0m\n",
            "\u001b[32m[I 2021-11-07 07:14:17,369]\u001b[0m Trial 81 finished with value: 1101.1253876564874 and parameters: {'objective': 'rmse', 'n_estimators': 10000, 'learning_rate': 0.2833863532363999, 'num_leaves': 2200, 'max_depth': 5, 'min_data_in_leaf': 700, 'lambda_l1': 30, 'lambda_l2': 60, 'min_gain_to_split': 3.58695475602146, 'bagging_fraction': 0.2, 'bagging_freq': 1, 'feature_fraction': 0.6000000000000001}. Best is trial 61 with value: 1101.122221981065.\u001b[0m\n",
            "\u001b[32m[I 2021-11-07 07:14:18,187]\u001b[0m Trial 82 finished with value: 1101.1241018573226 and parameters: {'objective': 'rmse', 'n_estimators': 10000, 'learning_rate': 0.29012258594851426, 'num_leaves': 1980, 'max_depth': 3, 'min_data_in_leaf': 900, 'lambda_l1': 25, 'lambda_l2': 70, 'min_gain_to_split': 3.124616628065168, 'bagging_fraction': 0.2, 'bagging_freq': 1, 'feature_fraction': 0.6000000000000001}. Best is trial 61 with value: 1101.122221981065.\u001b[0m\n",
            "\u001b[32m[I 2021-11-07 07:14:18,978]\u001b[0m Trial 83 finished with value: 1101.124056933237 and parameters: {'objective': 'rmse', 'n_estimators': 10000, 'learning_rate': 0.290388002210059, 'num_leaves': 1960, 'max_depth': 3, 'min_data_in_leaf': 1700, 'lambda_l1': 25, 'lambda_l2': 70, 'min_gain_to_split': 1.2215223028805546, 'bagging_fraction': 0.2, 'bagging_freq': 1, 'feature_fraction': 0.5}. Best is trial 61 with value: 1101.122221981065.\u001b[0m\n",
            "\u001b[32m[I 2021-11-07 07:14:19,777]\u001b[0m Trial 84 finished with value: 1101.1237270334275 and parameters: {'objective': 'rmse', 'n_estimators': 10000, 'learning_rate': 0.29234707931003334, 'num_leaves': 1860, 'max_depth': 3, 'min_data_in_leaf': 1000, 'lambda_l1': 25, 'lambda_l2': 70, 'min_gain_to_split': 1.233881195492669, 'bagging_fraction': 0.2, 'bagging_freq': 1, 'feature_fraction': 0.6000000000000001}. Best is trial 61 with value: 1101.122221981065.\u001b[0m\n",
            "\u001b[32m[I 2021-11-07 07:14:20,796]\u001b[0m Trial 85 finished with value: 1101.1349083230002 and parameters: {'objective': 'regression', 'n_estimators': 10000, 'learning_rate': 0.29294378095595003, 'num_leaves': 1820, 'max_depth': 3, 'min_data_in_leaf': 400, 'lambda_l1': 20, 'lambda_l2': 80, 'min_gain_to_split': 1.275584658686251, 'bagging_fraction': 0.30000000000000004, 'bagging_freq': 1, 'feature_fraction': 0.6000000000000001}. Best is trial 61 with value: 1101.122221981065.\u001b[0m\n",
            "\u001b[32m[I 2021-11-07 07:14:21,589]\u001b[0m Trial 86 finished with value: 1101.1270416616892 and parameters: {'objective': 'rmse', 'n_estimators': 10000, 'learning_rate': 0.2734072547843221, 'num_leaves': 1960, 'max_depth': 3, 'min_data_in_leaf': 1200, 'lambda_l1': 15, 'lambda_l2': 70, 'min_gain_to_split': 0.33983875439481404, 'bagging_fraction': 0.2, 'bagging_freq': 1, 'feature_fraction': 0.6000000000000001}. Best is trial 61 with value: 1101.122221981065.\u001b[0m\n",
            "\u001b[32m[I 2021-11-07 07:14:22,381]\u001b[0m Trial 87 finished with value: 1101.1285604927677 and parameters: {'objective': 'rmse', 'n_estimators': 10000, 'learning_rate': 0.2654792655142871, 'num_leaves': 1980, 'max_depth': 3, 'min_data_in_leaf': 900, 'lambda_l1': 25, 'lambda_l2': 80, 'min_gain_to_split': 1.136219143385341, 'bagging_fraction': 0.2, 'bagging_freq': 1, 'feature_fraction': 0.7}. Best is trial 61 with value: 1101.122221981065.\u001b[0m\n",
            "\u001b[32m[I 2021-11-07 07:14:23,427]\u001b[0m Trial 88 finished with value: 1101.1346205472678 and parameters: {'objective': 'rmse', 'n_estimators': 10000, 'learning_rate': 0.29967767300482884, 'num_leaves': 1620, 'max_depth': 3, 'min_data_in_leaf': 500, 'lambda_l1': 5, 'lambda_l2': 80, 'min_gain_to_split': 1.916579607544155, 'bagging_fraction': 0.30000000000000004, 'bagging_freq': 1, 'feature_fraction': 0.6000000000000001}. Best is trial 61 with value: 1101.122221981065.\u001b[0m\n",
            "\u001b[32m[I 2021-11-07 07:14:24,222]\u001b[0m Trial 89 finished with value: 1101.1239962797804 and parameters: {'objective': 'rmse', 'n_estimators': 10000, 'learning_rate': 0.2915366866292829, 'num_leaves': 1660, 'max_depth': 3, 'min_data_in_leaf': 1500, 'lambda_l1': 85, 'lambda_l2': 90, 'min_gain_to_split': 1.5631241755280958, 'bagging_fraction': 0.2, 'bagging_freq': 1, 'feature_fraction': 0.8}. Best is trial 61 with value: 1101.122221981065.\u001b[0m\n",
            "\u001b[32m[I 2021-11-07 07:14:24,951]\u001b[0m Trial 90 finished with value: 1101.1302159580584 and parameters: {'objective': 'rmse', 'n_estimators': 10000, 'learning_rate': 0.2918118782348081, 'num_leaves': 1680, 'max_depth': 3, 'min_data_in_leaf': 2600, 'lambda_l1': 100, 'lambda_l2': 85, 'min_gain_to_split': 1.6044864297384849, 'bagging_fraction': 0.2, 'bagging_freq': 1, 'feature_fraction': 0.6000000000000001}. Best is trial 61 with value: 1101.122221981065.\u001b[0m\n",
            "\u001b[32m[I 2021-11-07 07:14:25,758]\u001b[0m Trial 91 finished with value: 1101.1268064945946 and parameters: {'objective': 'rmse', 'n_estimators': 10000, 'learning_rate': 0.27646492929067057, 'num_leaves': 1880, 'max_depth': 3, 'min_data_in_leaf': 1400, 'lambda_l1': 25, 'lambda_l2': 95, 'min_gain_to_split': 0.9720067712869773, 'bagging_fraction': 0.2, 'bagging_freq': 1, 'feature_fraction': 0.8}. Best is trial 61 with value: 1101.122221981065.\u001b[0m\n",
            "\u001b[32m[I 2021-11-07 07:14:26,528]\u001b[0m Trial 92 finished with value: 1101.1238438640796 and parameters: {'objective': 'rmse', 'n_estimators': 10000, 'learning_rate': 0.29302068183979274, 'num_leaves': 1480, 'max_depth': 3, 'min_data_in_leaf': 900, 'lambda_l1': 20, 'lambda_l2': 95, 'min_gain_to_split': 3.027365424780757, 'bagging_fraction': 0.2, 'bagging_freq': 1, 'feature_fraction': 0.9}. Best is trial 61 with value: 1101.122221981065.\u001b[0m\n",
            "\u001b[32m[I 2021-11-07 07:14:27,306]\u001b[0m Trial 93 finished with value: 1101.1240514930082 and parameters: {'objective': 'rmse', 'n_estimators': 10000, 'learning_rate': 0.29176777510559393, 'num_leaves': 1440, 'max_depth': 3, 'min_data_in_leaf': 1000, 'lambda_l1': 80, 'lambda_l2': 95, 'min_gain_to_split': 2.0537231080109524, 'bagging_fraction': 0.2, 'bagging_freq': 1, 'feature_fraction': 0.9}. Best is trial 61 with value: 1101.122221981065.\u001b[0m\n",
            "\u001b[32m[I 2021-11-07 07:14:28,009]\u001b[0m Trial 94 finished with value: 1101.1158643059175 and parameters: {'objective': 'rmse', 'n_estimators': 10000, 'learning_rate': 0.2942070086237128, 'num_leaves': 1480, 'max_depth': 3, 'min_data_in_leaf': 2100, 'lambda_l1': 85, 'lambda_l2': 95, 'min_gain_to_split': 2.171757907645677, 'bagging_fraction': 0.2, 'bagging_freq': 1, 'feature_fraction': 0.9}. Best is trial 94 with value: 1101.1158643059175.\u001b[0m\n",
            "\u001b[32m[I 2021-11-07 07:14:28,708]\u001b[0m Trial 95 finished with value: 1101.1350453377968 and parameters: {'objective': 'rmse', 'n_estimators': 10000, 'learning_rate': 0.2938934638656025, 'num_leaves': 1140, 'max_depth': 3, 'min_data_in_leaf': 2200, 'lambda_l1': 80, 'lambda_l2': 95, 'min_gain_to_split': 2.222433884549581, 'bagging_fraction': 0.2, 'bagging_freq': 1, 'feature_fraction': 0.9}. Best is trial 94 with value: 1101.1158643059175.\u001b[0m\n",
            "\u001b[32m[I 2021-11-07 07:14:29,503]\u001b[0m Trial 96 finished with value: 1101.1263326501714 and parameters: {'objective': 'rmse', 'n_estimators': 10000, 'learning_rate': 0.2795139865036555, 'num_leaves': 1280, 'max_depth': 3, 'min_data_in_leaf': 1600, 'lambda_l1': 85, 'lambda_l2': 95, 'min_gain_to_split': 2.4902776769004955, 'bagging_fraction': 0.2, 'bagging_freq': 1, 'feature_fraction': 0.9}. Best is trial 94 with value: 1101.1158643059175.\u001b[0m\n",
            "\u001b[32m[I 2021-11-07 07:14:31,480]\u001b[0m Trial 97 finished with value: 1101.2154387906075 and parameters: {'objective': 'rmse', 'n_estimators': 10000, 'learning_rate': 0.020681449746576097, 'num_leaves': 1500, 'max_depth': 10, 'min_data_in_leaf': 2000, 'lambda_l1': 90, 'lambda_l2': 100, 'min_gain_to_split': 1.5547727476845736, 'bagging_fraction': 0.5, 'bagging_freq': 1, 'feature_fraction': 0.9}. Best is trial 94 with value: 1101.1158643059175.\u001b[0m\n",
            "\u001b[32m[I 2021-11-07 07:14:32,498]\u001b[0m Trial 98 finished with value: 1101.1374238441574 and parameters: {'objective': 'regression', 'n_estimators': 10000, 'learning_rate': 0.2719468732472923, 'num_leaves': 1340, 'max_depth': 3, 'min_data_in_leaf': 1400, 'lambda_l1': 80, 'lambda_l2': 90, 'min_gain_to_split': 0.49399264941117194, 'bagging_fraction': 0.30000000000000004, 'bagging_freq': 1, 'feature_fraction': 0.8}. Best is trial 94 with value: 1101.1158643059175.\u001b[0m\n",
            "\u001b[32m[I 2021-11-07 07:14:33,282]\u001b[0m Trial 99 finished with value: 1101.12386765105 and parameters: {'objective': 'rmse', 'n_estimators': 10000, 'learning_rate': 0.29338898307019856, 'num_leaves': 1520, 'max_depth': 4, 'min_data_in_leaf': 1900, 'lambda_l1': 70, 'lambda_l2': 90, 'min_gain_to_split': 1.9957422596351986, 'bagging_fraction': 0.2, 'bagging_freq': 1, 'feature_fraction': 0.9}. Best is trial 94 with value: 1101.1158643059175.\u001b[0m\n"
          ]
        }
      ]
    },
    {
      "cell_type": "code",
      "metadata": {
        "colab": {
          "base_uri": "https://localhost:8080/"
        },
        "id": "Gw4rZ2SfuiPn",
        "outputId": "96bdf306-4943-41b0-9d8c-fe2b1d917433"
      },
      "source": [
        "lgbm_params = study.best_trial.params\n",
        "lgbm_params"
      ],
      "execution_count": null,
      "outputs": [
        {
          "output_type": "execute_result",
          "data": {
            "text/plain": [
              "{'bagging_fraction': 0.2,\n",
              " 'bagging_freq': 1,\n",
              " 'feature_fraction': 0.9,\n",
              " 'lambda_l1': 85,\n",
              " 'lambda_l2': 95,\n",
              " 'learning_rate': 0.2942070086237128,\n",
              " 'max_depth': 3,\n",
              " 'min_data_in_leaf': 2100,\n",
              " 'min_gain_to_split': 2.171757907645677,\n",
              " 'n_estimators': 10000,\n",
              " 'num_leaves': 1480,\n",
              " 'objective': 'rmse'}"
            ]
          },
          "metadata": {},
          "execution_count": 39
        }
      ]
    },
    {
      "cell_type": "markdown",
      "metadata": {
        "id": "G8D5FxZXuixa"
      },
      "source": [
        "### XGBOOST"
      ]
    },
    {
      "cell_type": "code",
      "metadata": {
        "id": "oGGnSc7mukbW"
      },
      "source": [
        "\n",
        "#xgboost\n",
        "\n",
        "def objective(trial):\n",
        "    \n",
        "    params = {\n",
        "        \"tree_method\": trial.suggest_categorical(\"tree_method\",[\"gpu_hist\"]), \n",
        "        'lambda': trial.suggest_loguniform('lambda', 1e-3, 10.0),\n",
        "        'alpha': trial.suggest_loguniform('alpha', 1e-3, 10.0),\n",
        "        'colsample_bytree': trial.suggest_categorical('colsample_bytree', [0.3,0.4,0.5,0.6,0.7,0.8,0.9,1.0]),\n",
        "        'subsample': trial.suggest_categorical('subsample', [0.4,0.5,0.6,0.7,0.8,0.9,1.0]),\n",
        "        'min_child_weight': trial.suggest_int('min_child_weight', 1, 300),       \n",
        "        \"objective\": \"reg:squarederror\",\n",
        "        \"n_estimators\": trial.suggest_int(\"n_estimators\",200,2000,100),\n",
        "        \"gamma\": trial.suggest_int(\"gamma\", 0,5), \n",
        "        \"eta\": trial.suggest_loguniform(\"eta\",1e-3,0.1),\n",
        "        \"reg_alpha\": trial.suggest_int(\"reg_alpha\",1,50),\n",
        "        \"reg_lambda\": trial.suggest_int(\"reg_lambda\",5,100),\n",
        "        \"max_depth\": trial.suggest_int(\"max_depth\",1,10),\n",
        "    }\n",
        "    model = XGBRegressor(**params)      \n",
        "    model.fit(x_train_1,y_train,eval_set=[(x_val_1,y_val)],verbose=False,early_stopping_rounds=100)\n",
        "\n",
        "    y_preds = model.predict(x_val_1)   \n",
        "    error = rmse(y_val, y_preds)\n",
        "\n",
        "    return error"
      ],
      "execution_count": null,
      "outputs": []
    },
    {
      "cell_type": "code",
      "metadata": {
        "id": "RJKKPeqKvEbn"
      },
      "source": [
        "study = optuna.create_study(direction='minimize')\n",
        "study.optimize(objective, n_trials=50)"
      ],
      "execution_count": null,
      "outputs": []
    },
    {
      "cell_type": "code",
      "metadata": {
        "colab": {
          "base_uri": "https://localhost:8080/"
        },
        "id": "LpWNfC8zvfnB",
        "outputId": "934d5418-1e26-493b-f324-7c4701868e88"
      },
      "source": [
        "xgb_params = study.best_trial.params\n",
        "xgb_params"
      ],
      "execution_count": null,
      "outputs": [
        {
          "output_type": "execute_result",
          "data": {
            "text/plain": [
              "{'alpha': 0.08453985163018055,\n",
              " 'colsample_bytree': 0.9,\n",
              " 'eta': 0.05548514671354318,\n",
              " 'gamma': 0,\n",
              " 'lambda': 0.0025040250556100404,\n",
              " 'max_depth': 1,\n",
              " 'min_child_weight': 228,\n",
              " 'n_estimators': 1700,\n",
              " 'reg_alpha': 34,\n",
              " 'reg_lambda': 37,\n",
              " 'subsample': 0.5}"
            ]
          },
          "metadata": {},
          "execution_count": 125
        }
      ]
    },
    {
      "cell_type": "markdown",
      "metadata": {
        "id": "HqGhg6Nwvko4"
      },
      "source": [
        "## Cross - Validation"
      ]
    },
    {
      "cell_type": "markdown",
      "metadata": {
        "id": "RsCSm54Gw3-2"
      },
      "source": [
        "### RandomForest"
      ]
    },
    {
      "cell_type": "code",
      "metadata": {
        "id": "ampIDsFNvnNW"
      },
      "source": [
        "# Cross validation for random forest\n",
        "\n",
        "rf_true = []\n",
        "\n",
        "def cross_val(X, y, test, model, params, folds=7):\n",
        "\n",
        "    score = []\n",
        "    \n",
        "    skf = KFold(n_splits=folds, shuffle=True, random_state=21)\n",
        "\n",
        "    for fold, (train_idx, test_idx) in enumerate(skf.split(X, y)):\n",
        "        print(f\"Fold: {fold+1}\")\n",
        "        x_train, y_train = X.iloc[train_idx], y.iloc[train_idx]\n",
        "        x_test, y_test = X.iloc[test_idx], y.iloc[test_idx]\n",
        "        \n",
        "        #fit\n",
        "        alg = model(**params)\n",
        "        alg.fit(x_train,y_train)\n",
        "\n",
        "        #predict validation\n",
        "        pred = alg.predict(x_test)\n",
        "        error = rmse(y_test, pred)\n",
        "        score.append(error)\n",
        "        \n",
        "        #predict test\n",
        "        y_test = alg.predict(test)\n",
        "        rf_true.append(y_test) \n",
        "     \n",
        "        print(f\" RMSE: {error}\")\n",
        "        print(\"-\"*50)\n",
        "     \n",
        "    print(\"\\nmean RMSE:\",np.array(score).mean())\n",
        "\n",
        "    return alg"
      ],
      "execution_count": null,
      "outputs": []
    },
    {
      "cell_type": "code",
      "metadata": {
        "id": "qnHXmElvzOoG"
      },
      "source": [
        "x_new = pd.concat([x_train_1, x_val_1]) \n",
        "y_new = pd.concat([y_train, y_val])"
      ],
      "execution_count": null,
      "outputs": []
    },
    {
      "cell_type": "code",
      "metadata": {
        "id": "OBd-eYlu2sll"
      },
      "source": [
        "tester = test[col]"
      ],
      "execution_count": null,
      "outputs": []
    },
    {
      "cell_type": "code",
      "metadata": {
        "id": "zCVV1C-v2Prd"
      },
      "source": [
        "for i in x_train_1:\n",
        "    tester[i] = le[i].transform(tester[i])"
      ],
      "execution_count": null,
      "outputs": []
    },
    {
      "cell_type": "code",
      "metadata": {
        "id": "bGHjXu9nxRr2"
      },
      "source": [
        "rf_params = {\"random_state\": 42}"
      ],
      "execution_count": null,
      "outputs": []
    },
    {
      "cell_type": "code",
      "metadata": {
        "colab": {
          "base_uri": "https://localhost:8080/"
        },
        "id": "ZLCtSM3pzMmT",
        "outputId": "1b477976-e871-490b-f3d7-2acf21b766fe"
      },
      "source": [
        "rf_score = cross_val(x_new, y_new, tester, RandomForestRegressor, rf_params)"
      ],
      "execution_count": null,
      "outputs": [
        {
          "output_type": "stream",
          "name": "stdout",
          "text": [
            "Fold: 1\n",
            " RMSE: 1113.7138363253018\n",
            "--------------------------------------------------\n",
            "Fold: 2\n",
            " RMSE: 1101.5999010335097\n",
            "--------------------------------------------------\n",
            "Fold: 3\n",
            " RMSE: 1105.1349790114957\n",
            "--------------------------------------------------\n",
            "Fold: 4\n",
            " RMSE: 1095.7740095179038\n",
            "--------------------------------------------------\n",
            "Fold: 5\n",
            " RMSE: 1100.369421221523\n",
            "--------------------------------------------------\n",
            "Fold: 6\n",
            " RMSE: 1092.6541414778883\n",
            "--------------------------------------------------\n",
            "Fold: 7\n",
            " RMSE: 1106.4285871141803\n",
            "--------------------------------------------------\n",
            "\n",
            "mean RMSE: 1102.2392679574002\n"
          ]
        }
      ]
    },
    {
      "cell_type": "code",
      "metadata": {
        "colab": {
          "base_uri": "https://localhost:8080/"
        },
        "id": "NojuVbQ3204L",
        "outputId": "2acdaeb4-c18c-4512-8052-789b05ae9fc8"
      },
      "source": [
        "\n",
        "# for submission\n",
        "\n",
        "rf_true"
      ],
      "execution_count": null,
      "outputs": [
        {
          "output_type": "execute_result",
          "data": {
            "text/plain": [
              "[array([1916.04324191, 1594.78647197, 1594.78647197, ..., 1787.69043294,\n",
              "        1594.78647197, 1594.78647197]),\n",
              " array([1919.773738  , 1603.87300482, 1603.87300482, ..., 1791.75628144,\n",
              "        1603.87300482, 1603.87300482]),\n",
              " array([1917.21464456, 1607.93777441, 1607.93777441, ..., 1790.89084043,\n",
              "        1607.93777441, 1607.93777441]),\n",
              " array([1914.00099659, 1603.17670047, 1603.17670047, ..., 1783.98551246,\n",
              "        1603.17670047, 1603.17670047]),\n",
              " array([1911.36196922, 1595.92628898, 1595.92628898, ..., 1791.31839628,\n",
              "        1595.92628898, 1595.92628898]),\n",
              " array([1911.18601048, 1602.91411897, 1602.91411897, ..., 1790.15724662,\n",
              "        1602.91411897, 1602.91411897]),\n",
              " array([1906.7429549 , 1607.9275895 , 1607.9275895 , ..., 1792.17882875,\n",
              "        1607.9275895 , 1607.9275895 ])]"
            ]
          },
          "metadata": {},
          "execution_count": 60
        }
      ]
    },
    {
      "cell_type": "code",
      "metadata": {
        "colab": {
          "base_uri": "https://localhost:8080/"
        },
        "id": "YGy_ZSxa27Xk",
        "outputId": "9da74fbf-8320-4bf0-dc16-c888d19adbae"
      },
      "source": [
        "# blending random forest\n",
        "rf_blend = np.mean(np.vstack(rf_true),axis=0) \n",
        "rf_blend"
      ],
      "execution_count": null,
      "outputs": [
        {
          "output_type": "execute_result",
          "data": {
            "text/plain": [
              "array([1913.76050795, 1602.36313559, 1602.36313559, ..., 1789.71107699,\n",
              "       1602.36313559, 1602.36313559])"
            ]
          },
          "metadata": {},
          "execution_count": 61
        }
      ]
    },
    {
      "cell_type": "markdown",
      "metadata": {
        "id": "nkkrAxbZRSXF"
      },
      "source": [
        "###Decision Tree"
      ]
    },
    {
      "cell_type": "code",
      "metadata": {
        "id": "Ez8xLq-SRR2Q"
      },
      "source": [
        "# Cross validation for decision tree\n",
        "\n",
        "dt_true = []\n",
        "\n",
        "def cross_val(X, y, test, model, params, folds=7):\n",
        "\n",
        "    score = []\n",
        "    \n",
        "    skf = KFold(n_splits=folds, shuffle=True, random_state=21)\n",
        "\n",
        "    for fold, (train_idx, test_idx) in enumerate(skf.split(X, y)):\n",
        "        print(f\"Fold: {fold+1}\")\n",
        "        x_train, y_train = X.iloc[train_idx], y.iloc[train_idx]\n",
        "        x_test, y_test = X.iloc[test_idx], y.iloc[test_idx]\n",
        "        \n",
        "        #fit\n",
        "        alg = model(**params) \n",
        "        alg.fit(x_train,y_train)\n",
        "\n",
        "        #predict validation\n",
        "        pred = alg.predict(x_test)\n",
        "        error = rmse(y_test, pred)\n",
        "        score.append(error)\n",
        "        \n",
        "        #predict test\n",
        "        y_test = alg.predict(test)\n",
        "        dt_true.append(y_test) \n",
        "     \n",
        "        print(f\" RMSE: {error}\")\n",
        "        print(\"-\"*50)\n",
        "     \n",
        "    print(\"\\nmean RMSE:\",np.array(score).mean())\n",
        "\n",
        "    return alg"
      ],
      "execution_count": null,
      "outputs": []
    },
    {
      "cell_type": "code",
      "metadata": {
        "id": "3YoF79Ks4auC"
      },
      "source": [
        "dt_params = {\"random_state\": 213}"
      ],
      "execution_count": null,
      "outputs": []
    },
    {
      "cell_type": "code",
      "metadata": {
        "colab": {
          "base_uri": "https://localhost:8080/"
        },
        "id": "myGpPegdTINb",
        "outputId": "8144b405-d99e-4991-8b03-367a0ca87773"
      },
      "source": [
        "dt_score = cross_val(x_new, y_new, tester, DecisionTreeRegressor, dt_params)"
      ],
      "execution_count": null,
      "outputs": [
        {
          "output_type": "stream",
          "name": "stdout",
          "text": [
            "Fold: 1\n",
            " RMSE: 1113.7308168626962\n",
            "--------------------------------------------------\n",
            "Fold: 2\n",
            " RMSE: 1101.594178743007\n",
            "--------------------------------------------------\n",
            "Fold: 3\n",
            " RMSE: 1105.1271077556337\n",
            "--------------------------------------------------\n",
            "Fold: 4\n",
            " RMSE: 1095.779561681692\n",
            "--------------------------------------------------\n",
            "Fold: 5\n",
            " RMSE: 1100.363387781652\n",
            "--------------------------------------------------\n",
            "Fold: 6\n",
            " RMSE: 1092.656959704193\n",
            "--------------------------------------------------\n",
            "Fold: 7\n",
            " RMSE: 1106.4216216214081\n",
            "--------------------------------------------------\n",
            "\n",
            "mean RMSE: 1102.2390905928974\n"
          ]
        }
      ]
    },
    {
      "cell_type": "code",
      "metadata": {
        "colab": {
          "base_uri": "https://localhost:8080/"
        },
        "id": "WYpdtMftThJN",
        "outputId": "e40ee664-dd6d-4866-efc9-55af50847c06"
      },
      "source": [
        "dt_true"
      ],
      "execution_count": null,
      "outputs": [
        {
          "output_type": "execute_result",
          "data": {
            "text/plain": [
              "[array([1916.23609768, 1593.79499342, 1593.79499342, ..., 1786.54520584,\n",
              "        1593.79499342, 1593.79499342]),\n",
              " array([1918.24345951, 1604.54814434, 1604.54814434, ..., 1791.06879957,\n",
              "        1604.54814434, 1604.54814434]),\n",
              " array([1918.30791327, 1606.22154225, 1606.22154225, ..., 1791.15285549,\n",
              "        1606.22154225, 1606.22154225]),\n",
              " array([1912.48450853, 1601.62925061, 1601.62925061, ..., 1783.92878877,\n",
              "        1601.62925061, 1601.62925061]),\n",
              " array([1911.45722595, 1597.41475583, 1597.41475583, ..., 1791.92714211,\n",
              "        1597.41475583, 1597.41475583]),\n",
              " array([1912.50852605, 1602.9899752 , 1602.9899752 , ..., 1789.53250984,\n",
              "        1602.9899752 , 1602.9899752 ]),\n",
              " array([1907.05091905, 1608.06768126, 1608.06768126, ..., 1791.5042686 ,\n",
              "        1608.06768126, 1608.06768126])]"
            ]
          },
          "metadata": {},
          "execution_count": 65
        }
      ]
    },
    {
      "cell_type": "code",
      "metadata": {
        "id": "fpJGlZijTnLQ"
      },
      "source": [
        "# blend decision tree\n",
        "dt_blend = np.mean(np.vstack(dt_true), axis=0)"
      ],
      "execution_count": null,
      "outputs": []
    },
    {
      "cell_type": "code",
      "metadata": {
        "colab": {
          "base_uri": "https://localhost:8080/"
        },
        "id": "ZhZWRta0T4LG",
        "outputId": "beb1597c-55f6-465f-9e63-16a18d9b773d"
      },
      "source": [
        "dt_blend"
      ],
      "execution_count": null,
      "outputs": [
        {
          "output_type": "execute_result",
          "data": {
            "text/plain": [
              "array([1913.75552143, 1602.09519184, 1602.09519184, ..., 1789.3799386 ,\n",
              "       1602.09519184, 1602.09519184])"
            ]
          },
          "metadata": {},
          "execution_count": 67
        }
      ]
    },
    {
      "cell_type": "markdown",
      "metadata": {
        "id": "6PCzEYRISEQH"
      },
      "source": [
        "### GradientBoosting"
      ]
    },
    {
      "cell_type": "code",
      "metadata": {
        "id": "wW984JnIUGjx"
      },
      "source": [
        "# Cross validation for gradient boosting\n",
        "\n",
        "gb_true = []\n",
        "\n",
        "def cross_val(X, y, test, model, params, folds=7):\n",
        "\n",
        "    score = []\n",
        "    \n",
        "    skf = KFold(n_splits=folds, shuffle=True, random_state=21)\n",
        "\n",
        "    for fold, (train_idx, test_idx) in enumerate(skf.split(X, y)):\n",
        "        print(f\"Fold: {fold+1}\")\n",
        "        x_train, y_train = X.iloc[train_idx], y.iloc[train_idx]\n",
        "        x_test, y_test = X.iloc[test_idx], y.iloc[test_idx]\n",
        "        \n",
        "        #fit\n",
        "        alg = model(**params)\n",
        "        alg.fit(x_train,y_train)\n",
        "\n",
        "        #predict validation\n",
        "        pred = alg.predict(x_test)\n",
        "        error = rmse(y_test, pred)\n",
        "        score.append(error)\n",
        "        \n",
        "        #predict test\n",
        "        y_test = alg.predict(test)\n",
        "        gb_true.append(y_test) \n",
        "     \n",
        "        print(f\" RMSE: {error}\")\n",
        "        print(\"-\"*50)\n",
        "     \n",
        "    print(\"\\nmean RMSE:\",np.array(score).mean())\n",
        "\n",
        "    return alg"
      ],
      "execution_count": null,
      "outputs": []
    },
    {
      "cell_type": "code",
      "metadata": {
        "id": "sT-fyLB_Uags"
      },
      "source": [
        "gb_params = {\"random_state\": 321}"
      ],
      "execution_count": null,
      "outputs": []
    },
    {
      "cell_type": "code",
      "metadata": {
        "colab": {
          "base_uri": "https://localhost:8080/"
        },
        "id": "ure7Ga18UNjD",
        "outputId": "ed8129c1-e55d-42bb-9eb3-5ce4cb493a2f"
      },
      "source": [
        "gb_score = cross_val(x_new, y_new, tester, GradientBoostingRegressor, gb_params)"
      ],
      "execution_count": null,
      "outputs": [
        {
          "output_type": "stream",
          "name": "stdout",
          "text": [
            "Fold: 1\n",
            " RMSE: 1113.730762026919\n",
            "--------------------------------------------------\n",
            "Fold: 2\n",
            " RMSE: 1101.5941751032901\n",
            "--------------------------------------------------\n",
            "Fold: 3\n",
            " RMSE: 1105.1271242115408\n",
            "--------------------------------------------------\n",
            "Fold: 4\n",
            " RMSE: 1095.779560777522\n",
            "--------------------------------------------------\n",
            "Fold: 5\n",
            " RMSE: 1100.3633622177372\n",
            "--------------------------------------------------\n",
            "Fold: 6\n",
            " RMSE: 1092.656975270613\n",
            "--------------------------------------------------\n",
            "Fold: 7\n",
            " RMSE: 1106.4216666501907\n",
            "--------------------------------------------------\n",
            "\n",
            "mean RMSE: 1102.2390894654018\n"
          ]
        }
      ]
    },
    {
      "cell_type": "code",
      "metadata": {
        "colab": {
          "base_uri": "https://localhost:8080/"
        },
        "id": "feriFJylUng1",
        "outputId": "a2a8fc65-d988-4e06-f899-e511d610a5fb"
      },
      "source": [
        "gb_true"
      ],
      "execution_count": null,
      "outputs": [
        {
          "output_type": "execute_result",
          "data": {
            "text/plain": [
              "[array([1916.23301754, 1593.80047777, 1593.80047777, ..., 1786.54557048,\n",
              "        1593.80047777, 1593.80047777]),\n",
              " array([1918.24046115, 1604.55347817, 1604.55347817, ..., 1791.06917915,\n",
              "        1604.55347817, 1604.55347817]),\n",
              " array([1918.30489191, 1606.22681035, 1606.22681035, ..., 1791.15321155,\n",
              "        1606.22681035, 1606.22681035]),\n",
              " array([1912.4815658 , 1601.63456463, 1601.63456463, ..., 1783.92926066,\n",
              "        1601.63456463, 1601.63456463]),\n",
              " array([1911.45433209, 1597.42020338, 1597.42020338, ..., 1791.92742314,\n",
              "        1597.42020338, 1597.42020338]),\n",
              " array([1912.50559767, 1602.99526806, 1602.99526806, ..., 1789.53284787,\n",
              "        1602.99526806, 1602.99526806]),\n",
              " array([1907.04819698, 1608.0729006 , 1608.0729006 , ..., 1791.50461561,\n",
              "        1608.0729006 , 1608.0729006 ])]"
            ]
          },
          "metadata": {},
          "execution_count": 71
        }
      ]
    },
    {
      "cell_type": "code",
      "metadata": {
        "id": "IoqfW0qrUpQD"
      },
      "source": [
        "# blend gb\n",
        "gb_blend = np.mean(np.vstack(gb_true), axis=0)"
      ],
      "execution_count": null,
      "outputs": []
    },
    {
      "cell_type": "code",
      "metadata": {
        "colab": {
          "base_uri": "https://localhost:8080/"
        },
        "id": "W8TKaG17U12K",
        "outputId": "11ed615f-7db4-4c37-9f6c-02f6cf890fe5"
      },
      "source": [
        "gb_blend"
      ],
      "execution_count": null,
      "outputs": [
        {
          "output_type": "execute_result",
          "data": {
            "text/plain": [
              "array([1913.75258045, 1602.10052899, 1602.10052899, ..., 1789.38030121,\n",
              "       1602.10052899, 1602.10052899])"
            ]
          },
          "metadata": {},
          "execution_count": 73
        }
      ]
    },
    {
      "cell_type": "markdown",
      "metadata": {
        "id": "4AqHgkc8SeNI"
      },
      "source": [
        "### ExtraTree"
      ]
    },
    {
      "cell_type": "code",
      "metadata": {
        "id": "9rLQGOcdVC7M"
      },
      "source": [
        "# Cross validation for ExtraTree\n",
        "\n",
        "et_true = []\n",
        "\n",
        "def cross_val(X, y, test, model, params, folds=7):\n",
        "\n",
        "    score = []\n",
        "    \n",
        "    skf = KFold(n_splits=folds, shuffle=True, random_state=21)\n",
        "\n",
        "    for fold, (train_idx, test_idx) in enumerate(skf.split(X, y)):\n",
        "        print(f\"Fold: {fold+1}\")\n",
        "        x_train, y_train = X.iloc[train_idx], y.iloc[train_idx]\n",
        "        x_test, y_test = X.iloc[test_idx], y.iloc[test_idx]\n",
        "        \n",
        "        #fit\n",
        "        alg = model(**params)\n",
        "        alg.fit(x_train,y_train)\n",
        "\n",
        "        #predict validation\n",
        "        pred = alg.predict(x_test)\n",
        "        error = rmse(y_test, pred)\n",
        "        score.append(error)\n",
        "        \n",
        "        #predict test\n",
        "        y_test = alg.predict(test)\n",
        "        et_true.append(y_test) \n",
        "     \n",
        "        print(f\" RMSE: {error}\")\n",
        "        print(\"-\"*50)\n",
        "     \n",
        "    print(\"\\nmean RMSE:\",np.array(score).mean())\n",
        "\n",
        "    return alg"
      ],
      "execution_count": null,
      "outputs": []
    },
    {
      "cell_type": "code",
      "metadata": {
        "id": "SFjAPbwAVH0L"
      },
      "source": [
        "ext_params = {\"random_state\": 321}"
      ],
      "execution_count": null,
      "outputs": []
    },
    {
      "cell_type": "code",
      "metadata": {
        "colab": {
          "base_uri": "https://localhost:8080/"
        },
        "id": "UtBd15AlVMc_",
        "outputId": "f5ce7b14-894a-42c3-8574-4fbd491871bc"
      },
      "source": [
        "ext_score = cross_val(x_new, y_new, tester, ExtraTreeRegressor, ext_params)"
      ],
      "execution_count": null,
      "outputs": [
        {
          "output_type": "stream",
          "name": "stdout",
          "text": [
            "Fold: 1\n",
            " RMSE: 1113.7308168626962\n",
            "--------------------------------------------------\n",
            "Fold: 2\n",
            " RMSE: 1101.594178743007\n",
            "--------------------------------------------------\n",
            "Fold: 3\n",
            " RMSE: 1105.1271077556337\n",
            "--------------------------------------------------\n",
            "Fold: 4\n",
            " RMSE: 1095.7795616816918\n",
            "--------------------------------------------------\n",
            "Fold: 5\n",
            " RMSE: 1100.363387781652\n",
            "--------------------------------------------------\n",
            "Fold: 6\n",
            " RMSE: 1092.6569597041932\n",
            "--------------------------------------------------\n",
            "Fold: 7\n",
            " RMSE: 1106.4216216214081\n",
            "--------------------------------------------------\n",
            "\n",
            "mean RMSE: 1102.2390905928976\n"
          ]
        }
      ]
    },
    {
      "cell_type": "code",
      "metadata": {
        "colab": {
          "base_uri": "https://localhost:8080/"
        },
        "id": "Er5EUh0NVN49",
        "outputId": "cca567a9-05fc-40c1-c604-ec3aa206e4d0"
      },
      "source": [
        "et_true"
      ],
      "execution_count": null,
      "outputs": [
        {
          "output_type": "execute_result",
          "data": {
            "text/plain": [
              "[array([1916.23609768, 1593.79499342, 1593.79499342, ..., 1786.54520584,\n",
              "        1593.79499342, 1593.79499342]),\n",
              " array([1918.24345951, 1604.54814434, 1604.54814434, ..., 1791.06879957,\n",
              "        1604.54814434, 1604.54814434]),\n",
              " array([1918.30791327, 1606.22154225, 1606.22154225, ..., 1791.15285549,\n",
              "        1606.22154225, 1606.22154225]),\n",
              " array([1912.48450853, 1601.62925061, 1601.62925061, ..., 1783.92878877,\n",
              "        1601.62925061, 1601.62925061]),\n",
              " array([1911.45722595, 1597.41475583, 1597.41475583, ..., 1791.92714211,\n",
              "        1597.41475583, 1597.41475583]),\n",
              " array([1912.50852605, 1602.9899752 , 1602.9899752 , ..., 1789.53250984,\n",
              "        1602.9899752 , 1602.9899752 ]),\n",
              " array([1907.05091905, 1608.06768126, 1608.06768126, ..., 1791.5042686 ,\n",
              "        1608.06768126, 1608.06768126])]"
            ]
          },
          "metadata": {},
          "execution_count": 78
        }
      ]
    },
    {
      "cell_type": "code",
      "metadata": {
        "id": "DvkxLsv7VQ1s"
      },
      "source": [
        "\n",
        "#blend extra tree\n",
        "\n",
        "ext_blend = np.mean(np.vstack(et_true), axis=0)"
      ],
      "execution_count": null,
      "outputs": []
    },
    {
      "cell_type": "code",
      "metadata": {
        "colab": {
          "base_uri": "https://localhost:8080/"
        },
        "id": "j7sshBxdVs8H",
        "outputId": "a56c18ce-bb4d-4f80-d6f3-d43bb2cfc0f5"
      },
      "source": [
        "ext_blend"
      ],
      "execution_count": null,
      "outputs": [
        {
          "output_type": "execute_result",
          "data": {
            "text/plain": [
              "array([1913.75552143, 1602.09519184, 1602.09519184, ..., 1789.3799386 ,\n",
              "       1602.09519184, 1602.09519184])"
            ]
          },
          "metadata": {},
          "execution_count": 80
        }
      ]
    },
    {
      "cell_type": "markdown",
      "metadata": {
        "id": "3cI07JL3Sh78"
      },
      "source": [
        "### HistGradientBoosting"
      ]
    },
    {
      "cell_type": "code",
      "metadata": {
        "id": "--NVarzbVwlL"
      },
      "source": [
        "# Cross validation for HGBt\n",
        "\n",
        "hgbt_true = []\n",
        "\n",
        "def cross_val(X, y, test, model, params, folds=7):\n",
        "\n",
        "    score = []\n",
        "    \n",
        "    skf = KFold(n_splits=folds, shuffle=True, random_state=21)\n",
        "\n",
        "    for fold, (train_idx, test_idx) in enumerate(skf.split(X, y)):\n",
        "        print(f\"Fold: {fold+1}\")\n",
        "        x_train, y_train = X.iloc[train_idx], y.iloc[train_idx]\n",
        "        x_test, y_test = X.iloc[test_idx], y.iloc[test_idx]\n",
        "        \n",
        "        #fit\n",
        "        alg = model(**params)\n",
        "        alg.fit(x_train,y_train)\n",
        "\n",
        "        #predict validation\n",
        "        pred = alg.predict(x_test)\n",
        "        error = rmse(y_test, pred)\n",
        "        score.append(error)\n",
        "        \n",
        "        #predict test\n",
        "        y_test = alg.predict(test)\n",
        "        hgbt_true.append(y_test) \n",
        "     \n",
        "        print(f\" RMSE: {error}\")\n",
        "        print(\"-\"*50)\n",
        "     \n",
        "    print(\"\\nmean RMSE:\",np.array(score).mean())\n",
        "\n",
        "    return alg"
      ],
      "execution_count": null,
      "outputs": []
    },
    {
      "cell_type": "code",
      "metadata": {
        "id": "ptoWaK5jV_Po"
      },
      "source": [
        "hgbt_params = {\"random_state\": 321}"
      ],
      "execution_count": null,
      "outputs": []
    },
    {
      "cell_type": "code",
      "metadata": {
        "colab": {
          "base_uri": "https://localhost:8080/"
        },
        "id": "0noGQsoTWCNq",
        "outputId": "7ed2d7f3-4938-49ed-b1aa-4f12f2d6b8a2"
      },
      "source": [
        "hgbt_score = cross_val(x_new, y_new, tester, HistGradientBoostingRegressor, hgbt_params)"
      ],
      "execution_count": null,
      "outputs": [
        {
          "output_type": "stream",
          "name": "stdout",
          "text": [
            "Fold: 1\n",
            " RMSE: 1113.7263300352424\n",
            "--------------------------------------------------\n",
            "Fold: 2\n",
            " RMSE: 1101.623170689986\n",
            "--------------------------------------------------\n",
            "Fold: 3\n",
            " RMSE: 1105.1545074109513\n",
            "--------------------------------------------------\n",
            "Fold: 4\n",
            " RMSE: 1095.7773867032338\n",
            "--------------------------------------------------\n",
            "Fold: 5\n",
            " RMSE: 1100.351321435056\n",
            "--------------------------------------------------\n",
            "Fold: 6\n",
            " RMSE: 1092.6864345039116\n",
            "--------------------------------------------------\n",
            "Fold: 7\n",
            " RMSE: 1106.4871881673548\n",
            "--------------------------------------------------\n",
            "\n",
            "mean RMSE: 1102.2580484208195\n"
          ]
        }
      ]
    },
    {
      "cell_type": "code",
      "metadata": {
        "colab": {
          "base_uri": "https://localhost:8080/"
        },
        "id": "CiVIqkOJWKie",
        "outputId": "987fac42-37bd-4afa-a6c6-dba49717a1a0"
      },
      "source": [
        "hgbt_true"
      ],
      "execution_count": null,
      "outputs": [
        {
          "output_type": "execute_result",
          "data": {
            "text/plain": [
              "[array([1907.89036172, 1593.17191054, 1593.17191054, ..., 1786.06606129,\n",
              "        1593.17191054, 1593.17191054]),\n",
              " array([1922.01708173, 1607.57290231, 1607.57290231, ..., 1791.49798239,\n",
              "        1607.57290231, 1607.57290231]),\n",
              " array([1921.21623456, 1611.23742955, 1611.23742955, ..., 1790.04394559,\n",
              "        1611.23742955, 1611.23742955]),\n",
              " array([1909.57579754, 1606.40711644, 1606.40711644, ..., 1782.65257285,\n",
              "        1606.40711644, 1606.40711644]),\n",
              " array([1900.63820322, 1605.22725328, 1605.22725328, ..., 1790.9590486 ,\n",
              "        1605.22725328, 1605.22725328]),\n",
              " array([1907.07458319, 1607.72058677, 1607.72058677, ..., 1794.18737445,\n",
              "        1607.72058677, 1607.72058677]),\n",
              " array([1902.61318482, 1616.61249524, 1616.61249524, ..., 1787.78327377,\n",
              "        1616.61249524, 1616.61249524])]"
            ]
          },
          "metadata": {},
          "execution_count": 84
        }
      ]
    },
    {
      "cell_type": "code",
      "metadata": {
        "id": "BS10y98-WNlf"
      },
      "source": [
        "#blend HGBT\n",
        "\n",
        "hgbt_blend = np.mean(np.vstack(hgbt_true), axis=0)"
      ],
      "execution_count": null,
      "outputs": []
    },
    {
      "cell_type": "code",
      "metadata": {
        "colab": {
          "base_uri": "https://localhost:8080/"
        },
        "id": "mNczIhNJWPLE",
        "outputId": "f532174a-c20d-4eac-acc3-a829fe7267c1"
      },
      "source": [
        "hgbt_blend"
      ],
      "execution_count": null,
      "outputs": [
        {
          "output_type": "execute_result",
          "data": {
            "text/plain": [
              "array([1910.1464924 , 1606.8499563 , 1606.8499563 , ..., 1789.02717985,\n",
              "       1606.8499563 , 1606.8499563 ])"
            ]
          },
          "metadata": {},
          "execution_count": 86
        }
      ]
    },
    {
      "cell_type": "markdown",
      "metadata": {
        "id": "Ohmpa63ARPKU"
      },
      "source": [
        "### XGBoost"
      ]
    },
    {
      "cell_type": "code",
      "metadata": {
        "id": "M6H6qp0RRXXo"
      },
      "source": [
        "# Cross validation for xgboost\n",
        "xg_true = []\n",
        "\n",
        "def cross_val(X, y, test, model, params, folds=7):\n",
        "\n",
        "    score = []\n",
        "    \n",
        "    skf = KFold(n_splits=folds, shuffle=True, random_state=21)\n",
        "\n",
        "    for fold, (train_idx, test_idx) in enumerate(skf.split(X, y)):\n",
        "        print(f\"Fold: {fold+1}\")\n",
        "        x_train, y_train = X.iloc[train_idx], y.iloc[train_idx]\n",
        "        x_test, y_test = X.iloc[test_idx], y.iloc[test_idx]\n",
        "        \n",
        "        #fit\n",
        "        alg = model(**params,random_state=2021)\n",
        "        alg.fit(x_train,y_train,eval_set=[(x_test,y_test)],verbose=False,early_stopping_rounds=100)\n",
        "\n",
        "        #predict validation\n",
        "        pred = alg.predict(x_test)\n",
        "        error = rmse(y_test, pred)\n",
        "        score.append(error)\n",
        "        \n",
        "        #predict test\n",
        "        y_test = alg.predict(test)\n",
        "        xg_true.append(y_test) \n",
        "     \n",
        "        print(f\" RMSE: {error}\")\n",
        "        print(\"-\"*50)\n",
        "     \n",
        "    print(\"\\nmean RMSE:\",np.array(score).mean())\n",
        "\n",
        "    return alg"
      ],
      "execution_count": null,
      "outputs": []
    },
    {
      "cell_type": "code",
      "metadata": {
        "id": "yVfts7qvWv4B"
      },
      "source": [
        "xgb_params[\"objective\"] = \"reg:squarederror\"\n",
        "xgb_params[\"tree_method\"] = \"gpu_hist\""
      ],
      "execution_count": null,
      "outputs": []
    },
    {
      "cell_type": "code",
      "metadata": {
        "colab": {
          "base_uri": "https://localhost:8080/"
        },
        "id": "nQQR5NYCXWZW",
        "outputId": "0d0e0210-3fc4-49a2-be98-d792b18d9375"
      },
      "source": [
        "xgb_score = cross_val(x_new, y_new, tester, XGBRegressor, xgb_params)"
      ],
      "execution_count": null,
      "outputs": [
        {
          "output_type": "stream",
          "name": "stdout",
          "text": [
            "Fold: 1\n",
            " RMSE: 1113.6015133583467\n",
            "--------------------------------------------------\n",
            "Fold: 2\n",
            " RMSE: 1101.5629526487241\n",
            "--------------------------------------------------\n",
            "Fold: 3\n",
            " RMSE: 1105.0702051708045\n",
            "--------------------------------------------------\n",
            "Fold: 4\n",
            " RMSE: 1095.731606998274\n",
            "--------------------------------------------------\n",
            "Fold: 5\n",
            " RMSE: 1100.3255682836225\n",
            "--------------------------------------------------\n",
            "Fold: 6\n",
            " RMSE: 1092.6563882869646\n",
            "--------------------------------------------------\n",
            "Fold: 7\n",
            " RMSE: 1106.3625137353076\n",
            "--------------------------------------------------\n",
            "\n",
            "mean RMSE: 1102.1872497831491\n"
          ]
        }
      ]
    },
    {
      "cell_type": "code",
      "metadata": {
        "colab": {
          "base_uri": "https://localhost:8080/"
        },
        "id": "7T4CL0nOYBWa",
        "outputId": "2a1b8c37-bb55-481c-b787-edbff20418a1"
      },
      "source": [
        "xg_true"
      ],
      "execution_count": null,
      "outputs": [
        {
          "output_type": "execute_result",
          "data": {
            "text/plain": [
              "[array([1906.2585, 1618.3914, 1618.3914, ..., 1806.3303, 1618.3914,\n",
              "        1618.3914], dtype=float32),\n",
              " array([1913.3246, 1607.0155, 1607.0155, ..., 1792.629 , 1607.0155,\n",
              "        1607.0155], dtype=float32),\n",
              " array([1912.565 , 1602.3146, 1602.3146, ..., 1791.7543, 1602.3146,\n",
              "        1602.3146], dtype=float32),\n",
              " array([1910.0902, 1609.3717, 1609.3717, ..., 1791.9012, 1609.3717,\n",
              "        1609.3717], dtype=float32),\n",
              " array([1915.2068, 1602.2985, 1602.2985, ..., 1790.9338, 1602.2985,\n",
              "        1602.2985], dtype=float32),\n",
              " array([1912.7329, 1605.7695, 1605.7695, ..., 1790.1545, 1605.7695,\n",
              "        1605.7695], dtype=float32),\n",
              " array([1912.2684, 1609.228 , 1609.228 , ..., 1788.0098, 1609.228 ,\n",
              "        1609.228 ], dtype=float32)]"
            ]
          },
          "metadata": {},
          "execution_count": 96
        }
      ]
    },
    {
      "cell_type": "code",
      "metadata": {
        "id": "R9B4SUFWYQPM"
      },
      "source": [
        "# blend xgboost\n",
        "xgb_blend = np.mean(np.vstack(xg_true), axis=0)"
      ],
      "execution_count": null,
      "outputs": []
    },
    {
      "cell_type": "code",
      "metadata": {
        "colab": {
          "base_uri": "https://localhost:8080/"
        },
        "id": "74DlsKPKYYBa",
        "outputId": "3f6eb5d7-59d7-43f6-a723-674d353ba65b"
      },
      "source": [
        "xgb_blend"
      ],
      "execution_count": null,
      "outputs": [
        {
          "output_type": "execute_result",
          "data": {
            "text/plain": [
              "array([1911.7781, 1607.7698, 1607.7698, ..., 1793.1018, 1607.7698,\n",
              "       1607.7698], dtype=float32)"
            ]
          },
          "metadata": {},
          "execution_count": 98
        }
      ]
    },
    {
      "cell_type": "markdown",
      "metadata": {
        "id": "9gN20XuW0m1-"
      },
      "source": [
        "### LGBM"
      ]
    },
    {
      "cell_type": "code",
      "metadata": {
        "id": "FZFz4pZA0oE9"
      },
      "source": [
        "# Cross validation for lgbm\n",
        "lg_true = []\n",
        "\n",
        "def cross_val(X, y, test, model, params, folds=7):\n",
        "\n",
        "    score = []\n",
        "    \n",
        "    skf = KFold(n_splits=folds, shuffle=True, random_state=21)\n",
        "\n",
        "    for fold, (train_idx, test_idx) in enumerate(skf.split(X, y)):\n",
        "        print(f\"Fold: {fold+1}\")\n",
        "        x_train, y_train = X.iloc[train_idx], y.iloc[train_idx]\n",
        "        x_test, y_test = X.iloc[test_idx], y.iloc[test_idx]\n",
        "        \n",
        "        #fit\n",
        "        alg = model(**params,random_state=2021)\n",
        "        alg.fit(x_train,y_train,eval_set=[(x_test,y_test)],verbose=False,early_stopping_rounds=100)\n",
        "\n",
        "        #predict validation\n",
        "        pred = alg.predict(x_test)\n",
        "        error = rmse(y_test, pred)\n",
        "        score.append(error)\n",
        "        \n",
        "        #predict test\n",
        "        y_test = alg.predict(test)\n",
        "        lg_true.append(y_test) \n",
        "     \n",
        "        print(f\" RMSE: {error}\")\n",
        "        print(\"-\"*50)\n",
        "     \n",
        "    print(\"\\nmean RMSE:\",np.array(score).mean())\n",
        "\n",
        "    return alg"
      ],
      "execution_count": null,
      "outputs": []
    },
    {
      "cell_type": "code",
      "metadata": {
        "id": "xwjwt4gcRtQM"
      },
      "source": [
        "x_new = pd.concat([x_train_2, x_val_2]) \n",
        "y_new = pd.concat([y_train, y_val])"
      ],
      "execution_count": null,
      "outputs": []
    },
    {
      "cell_type": "code",
      "metadata": {
        "id": "rswUwkptYpyH"
      },
      "source": [
        "# make a new tester \n",
        "tester = test[col].astype(\"category\")"
      ],
      "execution_count": null,
      "outputs": []
    },
    {
      "cell_type": "code",
      "metadata": {
        "colab": {
          "base_uri": "https://localhost:8080/"
        },
        "id": "oyUbsmddY4md",
        "outputId": "6b6a82dc-a859-4f87-f9ad-4f897d70c2e0"
      },
      "source": [
        "lgbm_params"
      ],
      "execution_count": null,
      "outputs": [
        {
          "output_type": "execute_result",
          "data": {
            "text/plain": [
              "{'bagging_fraction': 0.2,\n",
              " 'bagging_freq': 1,\n",
              " 'feature_fraction': 0.9,\n",
              " 'lambda_l1': 85,\n",
              " 'lambda_l2': 95,\n",
              " 'learning_rate': 0.2942070086237128,\n",
              " 'max_depth': 3,\n",
              " 'min_data_in_leaf': 2100,\n",
              " 'min_gain_to_split': 2.171757907645677,\n",
              " 'n_estimators': 10000,\n",
              " 'num_leaves': 1480,\n",
              " 'objective': 'rmse'}"
            ]
          },
          "metadata": {},
          "execution_count": 102
        }
      ]
    },
    {
      "cell_type": "code",
      "metadata": {
        "colab": {
          "base_uri": "https://localhost:8080/"
        },
        "id": "G9XnbmI5Y8gS",
        "outputId": "ba8b09a3-3a39-468e-e288-a0b2e8a46cee"
      },
      "source": [
        "lgbm_score = cross_val(x_new, y_new, tester, LGBMRegressor, lgbm_params)"
      ],
      "execution_count": null,
      "outputs": [
        {
          "output_type": "stream",
          "name": "stdout",
          "text": [
            "Fold: 1\n",
            " RMSE: 1113.4539198178393\n",
            "--------------------------------------------------\n",
            "Fold: 2\n",
            " RMSE: 1101.5019770014737\n",
            "--------------------------------------------------\n",
            "Fold: 3\n",
            " RMSE: 1105.0221159523294\n",
            "--------------------------------------------------\n",
            "Fold: 4\n",
            " RMSE: 1095.7024182568482\n",
            "--------------------------------------------------\n",
            "Fold: 5\n",
            " RMSE: 1100.2770688403486\n",
            "--------------------------------------------------\n",
            "Fold: 6\n",
            " RMSE: 1092.6381002477124\n",
            "--------------------------------------------------\n",
            "Fold: 7\n",
            " RMSE: 1106.235573219817\n",
            "--------------------------------------------------\n",
            "\n",
            "mean RMSE: 1102.118739048053\n"
          ]
        }
      ]
    },
    {
      "cell_type": "code",
      "metadata": {
        "colab": {
          "base_uri": "https://localhost:8080/"
        },
        "id": "x9n1IKhZZPr3",
        "outputId": "fd4594c4-6744-4b12-ad0c-deea8abe7c3b"
      },
      "source": [
        "lg_true"
      ],
      "execution_count": null,
      "outputs": [
        {
          "output_type": "execute_result",
          "data": {
            "text/plain": [
              "[array([1881.34005175, 1638.8752305 , 1638.8752305 , ..., 1786.61153329,\n",
              "        1638.8752305 , 1638.8752305 ]),\n",
              " array([1910.37029293, 1585.12160151, 1585.12160151, ..., 1791.59926452,\n",
              "        1585.12160151, 1585.12160151]),\n",
              " array([1897.81899443, 1596.26288935, 1596.26288935, ..., 1789.81542145,\n",
              "        1596.26288935, 1596.26288935]),\n",
              " array([1919.86264295, 1600.59717762, 1600.59717762, ..., 1796.41420388,\n",
              "        1600.59717762, 1600.59717762]),\n",
              " array([1910.63916819, 1613.56953478, 1613.56953478, ..., 1780.3058276 ,\n",
              "        1613.56953478, 1613.56953478]),\n",
              " array([1919.7803883 , 1596.59461212, 1596.59461212, ..., 1788.58698159,\n",
              "        1596.59461212, 1596.59461212]),\n",
              " array([1909.60064245, 1594.49181872, 1594.49181872, ..., 1784.27413153,\n",
              "        1594.49181872, 1594.49181872])]"
            ]
          },
          "metadata": {},
          "execution_count": 104
        }
      ]
    },
    {
      "cell_type": "code",
      "metadata": {
        "id": "98ukJWCaZRkp"
      },
      "source": [
        "# blend lgbm\n",
        "\n",
        "lgbm_blend = np.mean(np.vstack(lg_true), axis=0)"
      ],
      "execution_count": null,
      "outputs": []
    },
    {
      "cell_type": "code",
      "metadata": {
        "colab": {
          "base_uri": "https://localhost:8080/"
        },
        "id": "HLw6WNrrZg8q",
        "outputId": "97aac26f-0f28-4316-e3e7-36188a35e0be"
      },
      "source": [
        "lgbm_blend"
      ],
      "execution_count": null,
      "outputs": [
        {
          "output_type": "execute_result",
          "data": {
            "text/plain": [
              "array([1907.058883  , 1603.64469494, 1603.64469494, ..., 1788.22962341,\n",
              "       1603.64469494, 1603.64469494])"
            ]
          },
          "metadata": {},
          "execution_count": 106
        }
      ]
    },
    {
      "cell_type": "markdown",
      "metadata": {
        "id": "oMtxuc3LRMSc"
      },
      "source": [
        "### CatBoost"
      ]
    },
    {
      "cell_type": "code",
      "metadata": {
        "id": "gYYWoTjjRVkp"
      },
      "source": [
        "# Cross validation for catboost\n",
        "\n",
        "cb_true = []\n",
        "\n",
        "def cross_val(X, y, test, model, params, folds=7):\n",
        "\n",
        "    score = []\n",
        "    \n",
        "    skf = KFold(n_splits=folds, shuffle=True, random_state=21)\n",
        "\n",
        "    for fold, (train_idx, test_idx) in enumerate(skf.split(X, y)):\n",
        "        print(f\"Fold: {fold+1}\")\n",
        "        x_train, y_train = X.iloc[train_idx], y.iloc[train_idx]\n",
        "        x_test, y_test = X.iloc[test_idx], y.iloc[test_idx]\n",
        "        \n",
        "        #fit\n",
        "        alg = model(**params,random_state=2021)\n",
        "        alg.fit(x_train,y_train,eval_set=[(x_test,y_test)],cat_features=[\"Outlet_ID\"],verbose=False,early_stopping_rounds=100)\n",
        "\n",
        "        #predict validation\n",
        "        pred = alg.predict(x_test)\n",
        "        error = rmse(y_test, pred)\n",
        "        score.append(error)\n",
        "        \n",
        "        #predict test\n",
        "        y_test = alg.predict(test)\n",
        "        cb_true.append(y_test) \n",
        "     \n",
        "        print(f\" RMSE: {error}\")\n",
        "        print(\"-\"*50)\n",
        "     \n",
        "    print(\"\\nmean RMSE:\",np.array(score).mean())\n",
        "\n",
        "    return alg"
      ],
      "execution_count": null,
      "outputs": []
    },
    {
      "cell_type": "code",
      "metadata": {
        "id": "VHHsw2dWZ1Gx"
      },
      "source": [
        "cb_params = {\"iterations\": 10000,\"task_type\":\"GPU\"}"
      ],
      "execution_count": null,
      "outputs": []
    },
    {
      "cell_type": "code",
      "metadata": {
        "colab": {
          "base_uri": "https://localhost:8080/"
        },
        "id": "94qxOeNfZ_o8",
        "outputId": "3fe2ac73-843c-4e78-bf9d-60f93f4f4eed"
      },
      "source": [
        "cb_score = cross_val(x_new, y_new, tester, CatBoostRegressor, cb_params)"
      ],
      "execution_count": null,
      "outputs": [
        {
          "output_type": "stream",
          "name": "stdout",
          "text": [
            "Fold: 1\n",
            " RMSE: 1113.5363431129617\n",
            "--------------------------------------------------\n",
            "Fold: 2\n",
            " RMSE: 1101.6209991353132\n",
            "--------------------------------------------------\n",
            "Fold: 3\n",
            " RMSE: 1105.0928853269995\n",
            "--------------------------------------------------\n",
            "Fold: 4\n",
            " RMSE: 1095.7721195634829\n",
            "--------------------------------------------------\n",
            "Fold: 5\n",
            " RMSE: 1100.3363204068282\n",
            "--------------------------------------------------\n",
            "Fold: 6\n",
            " RMSE: 1092.6572591466377\n",
            "--------------------------------------------------\n",
            "Fold: 7\n",
            " RMSE: 1106.4418860193111\n",
            "--------------------------------------------------\n",
            "\n",
            "mean RMSE: 1102.2082589587906\n"
          ]
        }
      ]
    },
    {
      "cell_type": "code",
      "metadata": {
        "colab": {
          "base_uri": "https://localhost:8080/"
        },
        "id": "2Lr3UI1raVm3",
        "outputId": "d3b3aae7-921b-40d6-9b2a-a61480d8f152"
      },
      "source": [
        "cb_true"
      ],
      "execution_count": null,
      "outputs": [
        {
          "output_type": "execute_result",
          "data": {
            "text/plain": [
              "[array([1892.09658897, 1635.15083265, 1635.15083265, ..., 1795.66192418,\n",
              "        1635.15083265, 1635.15083265]),\n",
              " array([1914.44456117, 1603.80437005, 1603.80437005, ..., 1788.82489462,\n",
              "        1603.80437005, 1603.80437005]),\n",
              " array([1915.30713155, 1606.2147639 , 1606.2147639 , ..., 1788.67890807,\n",
              "        1606.2147639 , 1606.2147639 ]),\n",
              " array([1908.08237129, 1609.13442272, 1609.13442272, ..., 1782.66400532,\n",
              "        1609.13442272, 1609.13442272]),\n",
              " array([1900.09337229, 1614.90722279, 1614.90722279, ..., 1794.81239244,\n",
              "        1614.90722279, 1614.90722279]),\n",
              " array([1918.6618191 , 1604.3378225 , 1604.3378225 , ..., 1792.03535259,\n",
              "        1604.3378225 , 1604.3378225 ]),\n",
              " array([1908.04614467, 1613.39058991, 1613.39058991, ..., 1788.73660404,\n",
              "        1613.39058991, 1613.39058991])]"
            ]
          },
          "metadata": {},
          "execution_count": 119
        }
      ]
    },
    {
      "cell_type": "code",
      "metadata": {
        "id": "h44aZLZbaXwB"
      },
      "source": [
        "cb_blend = np.mean(np.vstack(cb_true), axis=0)"
      ],
      "execution_count": null,
      "outputs": []
    },
    {
      "cell_type": "code",
      "metadata": {
        "colab": {
          "base_uri": "https://localhost:8080/"
        },
        "id": "M26ZeEKMafhq",
        "outputId": "2233d39a-4dd3-4e14-e860-041e81c4d379"
      },
      "source": [
        "cb_blend"
      ],
      "execution_count": null,
      "outputs": [
        {
          "output_type": "execute_result",
          "data": {
            "text/plain": [
              "array([1908.10456986, 1612.4200035 , 1612.4200035 , ..., 1790.20201161,\n",
              "       1612.4200035 , 1612.4200035 ])"
            ]
          },
          "metadata": {},
          "execution_count": 121
        }
      ]
    },
    {
      "cell_type": "markdown",
      "metadata": {
        "id": "fEduA7siTTtA"
      },
      "source": [
        "### Blend_all_model"
      ]
    },
    {
      "cell_type": "code",
      "metadata": {
        "id": "H2EbvspsTaxP"
      },
      "source": [
        "all_blend = {\"RF\": rf_blend, \"DT\": dt_blend, \"GB\": gb_blend\n",
        ", \"EXT\": ext_blend, \"HGBT\": hgbt_blend, \"XGB\": xgb_blend, \n",
        "\"LGBM\": lgbm_blend, \"CB\": cb_blend}"
      ],
      "execution_count": null,
      "outputs": []
    },
    {
      "cell_type": "code",
      "metadata": {
        "id": "p88S9daeTmuZ"
      },
      "source": [
        "all_blend = pd.DataFrame(all_blend)"
      ],
      "execution_count": null,
      "outputs": []
    },
    {
      "cell_type": "code",
      "metadata": {
        "colab": {
          "base_uri": "https://localhost:8080/",
          "height": 439
        },
        "id": "g953D_xTTwA2",
        "outputId": "adba293d-520b-4800-b743-9f0b7a38b62a"
      },
      "source": [
        "all_blend"
      ],
      "execution_count": null,
      "outputs": [
        {
          "output_type": "execute_result",
          "data": {
            "text/html": [
              "<div>\n",
              "<style scoped>\n",
              "    .dataframe tbody tr th:only-of-type {\n",
              "        vertical-align: middle;\n",
              "    }\n",
              "\n",
              "    .dataframe tbody tr th {\n",
              "        vertical-align: top;\n",
              "    }\n",
              "\n",
              "    .dataframe thead th {\n",
              "        text-align: right;\n",
              "    }\n",
              "</style>\n",
              "<table border=\"1\" class=\"dataframe\">\n",
              "  <thead>\n",
              "    <tr style=\"text-align: right;\">\n",
              "      <th></th>\n",
              "      <th>RF</th>\n",
              "      <th>DT</th>\n",
              "      <th>GB</th>\n",
              "      <th>EXT</th>\n",
              "      <th>HGBT</th>\n",
              "      <th>XGB</th>\n",
              "      <th>LGBM</th>\n",
              "      <th>CB</th>\n",
              "    </tr>\n",
              "  </thead>\n",
              "  <tbody>\n",
              "    <tr>\n",
              "      <th>0</th>\n",
              "      <td>1913.760508</td>\n",
              "      <td>1913.755521</td>\n",
              "      <td>1913.752580</td>\n",
              "      <td>1913.755521</td>\n",
              "      <td>1910.146492</td>\n",
              "      <td>1911.778076</td>\n",
              "      <td>1907.058883</td>\n",
              "      <td>1908.104570</td>\n",
              "    </tr>\n",
              "    <tr>\n",
              "      <th>1</th>\n",
              "      <td>1602.363136</td>\n",
              "      <td>1602.095192</td>\n",
              "      <td>1602.100529</td>\n",
              "      <td>1602.095192</td>\n",
              "      <td>1606.849956</td>\n",
              "      <td>1607.769775</td>\n",
              "      <td>1603.644695</td>\n",
              "      <td>1612.420004</td>\n",
              "    </tr>\n",
              "    <tr>\n",
              "      <th>2</th>\n",
              "      <td>1602.363136</td>\n",
              "      <td>1602.095192</td>\n",
              "      <td>1602.100529</td>\n",
              "      <td>1602.095192</td>\n",
              "      <td>1606.849956</td>\n",
              "      <td>1607.769775</td>\n",
              "      <td>1603.644695</td>\n",
              "      <td>1612.420004</td>\n",
              "    </tr>\n",
              "    <tr>\n",
              "      <th>3</th>\n",
              "      <td>1789.711077</td>\n",
              "      <td>1789.379939</td>\n",
              "      <td>1789.380301</td>\n",
              "      <td>1789.379939</td>\n",
              "      <td>1789.027180</td>\n",
              "      <td>1793.101807</td>\n",
              "      <td>1788.229623</td>\n",
              "      <td>1790.202012</td>\n",
              "    </tr>\n",
              "    <tr>\n",
              "      <th>4</th>\n",
              "      <td>1602.363136</td>\n",
              "      <td>1602.095192</td>\n",
              "      <td>1602.100529</td>\n",
              "      <td>1602.095192</td>\n",
              "      <td>1606.849956</td>\n",
              "      <td>1607.769775</td>\n",
              "      <td>1603.644695</td>\n",
              "      <td>1612.420004</td>\n",
              "    </tr>\n",
              "    <tr>\n",
              "      <th>...</th>\n",
              "      <td>...</td>\n",
              "      <td>...</td>\n",
              "      <td>...</td>\n",
              "      <td>...</td>\n",
              "      <td>...</td>\n",
              "      <td>...</td>\n",
              "      <td>...</td>\n",
              "      <td>...</td>\n",
              "    </tr>\n",
              "    <tr>\n",
              "      <th>37651</th>\n",
              "      <td>1602.363136</td>\n",
              "      <td>1602.095192</td>\n",
              "      <td>1602.100529</td>\n",
              "      <td>1602.095192</td>\n",
              "      <td>1606.849956</td>\n",
              "      <td>1607.769775</td>\n",
              "      <td>1603.644695</td>\n",
              "      <td>1612.420004</td>\n",
              "    </tr>\n",
              "    <tr>\n",
              "      <th>37652</th>\n",
              "      <td>1602.363136</td>\n",
              "      <td>1602.095192</td>\n",
              "      <td>1602.100529</td>\n",
              "      <td>1602.095192</td>\n",
              "      <td>1606.849956</td>\n",
              "      <td>1607.769775</td>\n",
              "      <td>1603.644695</td>\n",
              "      <td>1612.420004</td>\n",
              "    </tr>\n",
              "    <tr>\n",
              "      <th>37653</th>\n",
              "      <td>1789.711077</td>\n",
              "      <td>1789.379939</td>\n",
              "      <td>1789.380301</td>\n",
              "      <td>1789.379939</td>\n",
              "      <td>1789.027180</td>\n",
              "      <td>1793.101807</td>\n",
              "      <td>1788.229623</td>\n",
              "      <td>1790.202012</td>\n",
              "    </tr>\n",
              "    <tr>\n",
              "      <th>37654</th>\n",
              "      <td>1602.363136</td>\n",
              "      <td>1602.095192</td>\n",
              "      <td>1602.100529</td>\n",
              "      <td>1602.095192</td>\n",
              "      <td>1606.849956</td>\n",
              "      <td>1607.769775</td>\n",
              "      <td>1603.644695</td>\n",
              "      <td>1612.420004</td>\n",
              "    </tr>\n",
              "    <tr>\n",
              "      <th>37655</th>\n",
              "      <td>1602.363136</td>\n",
              "      <td>1602.095192</td>\n",
              "      <td>1602.100529</td>\n",
              "      <td>1602.095192</td>\n",
              "      <td>1606.849956</td>\n",
              "      <td>1607.769775</td>\n",
              "      <td>1603.644695</td>\n",
              "      <td>1612.420004</td>\n",
              "    </tr>\n",
              "  </tbody>\n",
              "</table>\n",
              "<p>37656 rows × 8 columns</p>\n",
              "</div>"
            ],
            "text/plain": [
              "                RF           DT  ...         LGBM           CB\n",
              "0      1913.760508  1913.755521  ...  1907.058883  1908.104570\n",
              "1      1602.363136  1602.095192  ...  1603.644695  1612.420004\n",
              "2      1602.363136  1602.095192  ...  1603.644695  1612.420004\n",
              "3      1789.711077  1789.379939  ...  1788.229623  1790.202012\n",
              "4      1602.363136  1602.095192  ...  1603.644695  1612.420004\n",
              "...            ...          ...  ...          ...          ...\n",
              "37651  1602.363136  1602.095192  ...  1603.644695  1612.420004\n",
              "37652  1602.363136  1602.095192  ...  1603.644695  1612.420004\n",
              "37653  1789.711077  1789.379939  ...  1788.229623  1790.202012\n",
              "37654  1602.363136  1602.095192  ...  1603.644695  1612.420004\n",
              "37655  1602.363136  1602.095192  ...  1603.644695  1612.420004\n",
              "\n",
              "[37656 rows x 8 columns]"
            ]
          },
          "metadata": {},
          "execution_count": 127
        }
      ]
    },
    {
      "cell_type": "code",
      "metadata": {
        "colab": {
          "base_uri": "https://localhost:8080/",
          "height": 317
        },
        "id": "R2yo6t2cVcBo",
        "outputId": "818e53a6-c606-424c-f688-2578cee18748"
      },
      "source": [
        "all_blend.describe()"
      ],
      "execution_count": null,
      "outputs": [
        {
          "output_type": "execute_result",
          "data": {
            "text/html": [
              "<div>\n",
              "<style scoped>\n",
              "    .dataframe tbody tr th:only-of-type {\n",
              "        vertical-align: middle;\n",
              "    }\n",
              "\n",
              "    .dataframe tbody tr th {\n",
              "        vertical-align: top;\n",
              "    }\n",
              "\n",
              "    .dataframe thead th {\n",
              "        text-align: right;\n",
              "    }\n",
              "</style>\n",
              "<table border=\"1\" class=\"dataframe\">\n",
              "  <thead>\n",
              "    <tr style=\"text-align: right;\">\n",
              "      <th></th>\n",
              "      <th>RF</th>\n",
              "      <th>DT</th>\n",
              "      <th>GB</th>\n",
              "      <th>EXT</th>\n",
              "      <th>HGBT</th>\n",
              "      <th>XGB</th>\n",
              "      <th>LGBM</th>\n",
              "      <th>CB</th>\n",
              "    </tr>\n",
              "  </thead>\n",
              "  <tbody>\n",
              "    <tr>\n",
              "      <th>count</th>\n",
              "      <td>37656.000000</td>\n",
              "      <td>37656.000000</td>\n",
              "      <td>37656.000000</td>\n",
              "      <td>37656.000000</td>\n",
              "      <td>37656.000000</td>\n",
              "      <td>37656.000000</td>\n",
              "      <td>37656.000000</td>\n",
              "      <td>37656.000000</td>\n",
              "    </tr>\n",
              "    <tr>\n",
              "      <th>mean</th>\n",
              "      <td>1798.306970</td>\n",
              "      <td>1798.131784</td>\n",
              "      <td>1798.131914</td>\n",
              "      <td>1798.131784</td>\n",
              "      <td>1798.106203</td>\n",
              "      <td>1798.493530</td>\n",
              "      <td>1796.915296</td>\n",
              "      <td>1798.487073</td>\n",
              "    </tr>\n",
              "    <tr>\n",
              "      <th>std</th>\n",
              "      <td>114.488788</td>\n",
              "      <td>114.534774</td>\n",
              "      <td>114.531732</td>\n",
              "      <td>114.534774</td>\n",
              "      <td>111.754707</td>\n",
              "      <td>111.117134</td>\n",
              "      <td>112.620063</td>\n",
              "      <td>108.697505</td>\n",
              "    </tr>\n",
              "    <tr>\n",
              "      <th>min</th>\n",
              "      <td>1602.363136</td>\n",
              "      <td>1602.095192</td>\n",
              "      <td>1602.100529</td>\n",
              "      <td>1602.095192</td>\n",
              "      <td>1606.849956</td>\n",
              "      <td>1607.769775</td>\n",
              "      <td>1603.644695</td>\n",
              "      <td>1612.420004</td>\n",
              "    </tr>\n",
              "    <tr>\n",
              "      <th>25%</th>\n",
              "      <td>1789.711077</td>\n",
              "      <td>1789.379939</td>\n",
              "      <td>1789.380301</td>\n",
              "      <td>1789.379939</td>\n",
              "      <td>1789.027180</td>\n",
              "      <td>1793.101807</td>\n",
              "      <td>1788.229623</td>\n",
              "      <td>1790.202012</td>\n",
              "    </tr>\n",
              "    <tr>\n",
              "      <th>50%</th>\n",
              "      <td>1841.097983</td>\n",
              "      <td>1841.722321</td>\n",
              "      <td>1841.721293</td>\n",
              "      <td>1841.722321</td>\n",
              "      <td>1841.437882</td>\n",
              "      <td>1840.609497</td>\n",
              "      <td>1842.184733</td>\n",
              "      <td>1839.898065</td>\n",
              "    </tr>\n",
              "    <tr>\n",
              "      <th>75%</th>\n",
              "      <td>1882.127723</td>\n",
              "      <td>1881.496917</td>\n",
              "      <td>1881.494833</td>\n",
              "      <td>1881.496917</td>\n",
              "      <td>1880.118518</td>\n",
              "      <td>1876.959595</td>\n",
              "      <td>1881.043729</td>\n",
              "      <td>1877.678719</td>\n",
              "    </tr>\n",
              "    <tr>\n",
              "      <th>max</th>\n",
              "      <td>1913.760508</td>\n",
              "      <td>1913.755521</td>\n",
              "      <td>1913.752580</td>\n",
              "      <td>1913.755521</td>\n",
              "      <td>1910.146492</td>\n",
              "      <td>1911.778076</td>\n",
              "      <td>1907.058883</td>\n",
              "      <td>1908.104570</td>\n",
              "    </tr>\n",
              "  </tbody>\n",
              "</table>\n",
              "</div>"
            ],
            "text/plain": [
              "                 RF            DT  ...          LGBM            CB\n",
              "count  37656.000000  37656.000000  ...  37656.000000  37656.000000\n",
              "mean    1798.306970   1798.131784  ...   1796.915296   1798.487073\n",
              "std      114.488788    114.534774  ...    112.620063    108.697505\n",
              "min     1602.363136   1602.095192  ...   1603.644695   1612.420004\n",
              "25%     1789.711077   1789.379939  ...   1788.229623   1790.202012\n",
              "50%     1841.097983   1841.722321  ...   1842.184733   1839.898065\n",
              "75%     1882.127723   1881.496917  ...   1881.043729   1877.678719\n",
              "max     1913.760508   1913.755521  ...   1907.058883   1908.104570\n",
              "\n",
              "[8 rows x 8 columns]"
            ]
          },
          "metadata": {},
          "execution_count": 128
        }
      ]
    },
    {
      "cell_type": "code",
      "metadata": {
        "id": "5yPoQEaQVj3E"
      },
      "source": [
        "# make a submission \n",
        "\n",
        "y_true = np.median(np.column_stack(all_blend.values), axis=0)"
      ],
      "execution_count": null,
      "outputs": []
    },
    {
      "cell_type": "code",
      "metadata": {
        "colab": {
          "base_uri": "https://localhost:8080/"
        },
        "id": "HL2CExEOXh8G",
        "outputId": "b5928560-14b6-45a6-ec19-c37f10069327"
      },
      "source": [
        "y_true"
      ],
      "execution_count": null,
      "outputs": [
        {
          "output_type": "execute_result",
          "data": {
            "text/plain": [
              "array([1912.76532831, 1603.00391527, 1603.00391527, ..., 1789.38011991,\n",
              "       1603.00391527, 1603.00391527])"
            ]
          },
          "metadata": {},
          "execution_count": 138
        }
      ]
    },
    {
      "cell_type": "code",
      "metadata": {
        "id": "2vqeKWaaWH84"
      },
      "source": [
        "pd.DataFrame({\"Sales\": y_true}).to_csv(\"blend_2.csv\", index=None)"
      ],
      "execution_count": null,
      "outputs": []
    }
  ]
}